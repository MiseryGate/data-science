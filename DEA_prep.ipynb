{
 "cells": [
  {
   "cell_type": "markdown",
   "metadata": {},
   "source": [
    "# Preparation"
   ]
  },
  {
   "cell_type": "code",
   "execution_count": 1,
   "metadata": {
    "ExecuteTime": {
     "end_time": "2021-10-14T08:45:08.469015Z",
     "start_time": "2021-10-14T08:45:06.071052Z"
    }
   },
   "outputs": [],
   "source": [
    "import pandas as pd\n",
    "import matplotlib.pyplot as plt\n",
    "import seaborn as sns"
   ]
  },
  {
   "cell_type": "code",
   "execution_count": 2,
   "metadata": {
    "ExecuteTime": {
     "end_time": "2021-10-14T08:45:09.167559Z",
     "start_time": "2021-10-14T08:45:08.469939Z"
    }
   },
   "outputs": [],
   "source": [
    "#Baca Data\n",
    "dea_2016 = pd.read_excel('dea_2016.xlsx')\n",
    "dea_2017 = pd.read_excel('dea_2017.xlsx')\n",
    "dea_2018 = pd.read_excel('dea_2018.xlsx')\n",
    "dea_2019 = pd.read_excel('dea_2019.xlsx')\n",
    "dea_2020 = pd.read_excel('dea_2020.xlsx')"
   ]
  },
  {
   "cell_type": "code",
   "execution_count": 3,
   "metadata": {
    "ExecuteTime": {
     "end_time": "2021-10-14T08:45:09.182715Z",
     "start_time": "2021-10-14T08:45:09.169750Z"
    }
   },
   "outputs": [],
   "source": [
    "# menghapus kolom 'Nama_satker'\n",
    "scaled_2016 = dea_2016.drop(columns=['Nama_satker'], axis=1)\n",
    "scaled_2017 = dea_2017.drop(columns=['Nama_satker'], axis=1)\n",
    "scaled_2018 = dea_2018.drop(columns=['Nama_satker'], axis=1)\n",
    "scaled_2019 = dea_2019.drop(columns=['Nama_satker'], axis=1)\n",
    "scaled_2020 = dea_2020.drop(columns=['Nama_satker'], axis=1)"
   ]
  },
  {
   "cell_type": "code",
   "execution_count": 4,
   "metadata": {
    "ExecuteTime": {
     "end_time": "2021-10-14T08:45:09.197676Z",
     "start_time": "2021-10-14T08:45:09.184710Z"
    }
   },
   "outputs": [
    {
     "data": {
      "text/plain": [
       "RS PON                                 1\n",
       "RS. OTAK DR. Drs. Hatta BUKITTINGGI    1\n",
       "RSU WAHIDIN MAKASSAR                   1\n",
       "RS Kandou Manado                       1\n",
       "RS Adam Malik                          1\n",
       "RS Jantung Harkit                      1\n",
       "RSAB Harkit                            1\n",
       "RSPI Sulianti Saroso                   1\n",
       "RS Ketergantungan Obat                 1\n",
       "RS Sanglah Denpasar                    1\n",
       "RSUP dr Rivai Palembang                1\n",
       "RSUP M Hoesin                          1\n",
       "RSU DR M JAMIL PADANG                  1\n",
       "RSJ Lawang                             1\n",
       "RSU SARDJITO YOGYAKARTA                1\n",
       "RS Soeradji                            1\n",
       "RS Orthopedi                           1\n",
       "RS Paru Ario Wirawan                   1\n",
       "RSJ Soeroyo                            1\n",
       "RS Kariadi                             1\n",
       "RS Sitanala                            1\n",
       "RS Paru Gunawan                        1\n",
       "RS Marzuki Mahdi                       1\n",
       "RS Mata Cicendo                        1\n",
       "RS Rotinsulu                           1\n",
       "RSU HASAN SADIKIN BANDUNG              1\n",
       "RSJ dr Soeharto Heerdjan               1\n",
       "RS Persahabatan                        1\n",
       "RS Fatmawati                           1\n",
       "RS Cipto Mangunkusumo                  1\n",
       "RS Tadjudin Chalid                     1\n",
       "RSK Dharmais                           1\n",
       "Name: Nama_satker, dtype: int64"
      ]
     },
     "execution_count": 4,
     "metadata": {},
     "output_type": "execute_result"
    }
   ],
   "source": [
    "#Daftar Satker\n",
    "dea_2016['Nama_satker'].value_counts()"
   ]
  },
  {
   "cell_type": "code",
   "execution_count": 5,
   "metadata": {
    "ExecuteTime": {
     "end_time": "2021-10-14T08:45:09.213633Z",
     "start_time": "2021-10-14T08:45:09.199670Z"
    }
   },
   "outputs": [
    {
     "data": {
      "text/plain": [
       "Index(['Kode_satker', 'Nama_satker', 'Tahun', 'SDM_medis_total',\n",
       "       'SDM_non_medis_total', 'Jumlah_tempat_tidur', 'Belanja',\n",
       "       'Pasien_rawat_inap_orang', 'Pasien_rawat_jalan_orang', 'BOR_persen',\n",
       "       'ALOS_hari', 'BTO_kali', 'TOI_hari', 'Pendapatan'],\n",
       "      dtype='object')"
      ]
     },
     "execution_count": 5,
     "metadata": {},
     "output_type": "execute_result"
    }
   ],
   "source": [
    "dea_2016.columns"
   ]
  },
  {
   "cell_type": "code",
   "execution_count": 6,
   "metadata": {
    "ExecuteTime": {
     "end_time": "2021-10-14T08:45:09.228592Z",
     "start_time": "2021-10-14T08:45:09.214631Z"
    }
   },
   "outputs": [],
   "source": [
    "def ganti_kolom(df):\n",
    "    df = df.rename(columns={'Kode_satker':'DMU','SDM_medis_total': '(I)SDM_medis_total', 'SDM_non_medis_total': '(I)SDM_non_medis_total','Jumlah_tempat_tidur': '(I)Jumlah_tempat_tidur','Belanja': '(I)Belanja','Pasien_rawat_inap_orang': '(O)Pasien_rawat_inap_orang','Pasien_rawat_jalan_orang': '(O)Pasien_rawat_jalan_orang','BOR_persen': '(O)BOR_persen','ALOS_hari': '(O)ALOS_hari','BTO_kali': '(O)BTO_kali','TOI_hari': '(O)TOI_hari','Pendapatan': '(O)Pendapatan'})\n",
    "    return df"
   ]
  },
  {
   "cell_type": "code",
   "execution_count": 7,
   "metadata": {
    "ExecuteTime": {
     "end_time": "2021-10-14T08:45:09.259510Z",
     "start_time": "2021-10-14T08:45:09.230589Z"
    }
   },
   "outputs": [
    {
     "data": {
      "text/html": [
       "<div>\n",
       "<style scoped>\n",
       "    .dataframe tbody tr th:only-of-type {\n",
       "        vertical-align: middle;\n",
       "    }\n",
       "\n",
       "    .dataframe tbody tr th {\n",
       "        vertical-align: top;\n",
       "    }\n",
       "\n",
       "    .dataframe thead th {\n",
       "        text-align: right;\n",
       "    }\n",
       "</style>\n",
       "<table border=\"1\" class=\"dataframe\">\n",
       "  <thead>\n",
       "    <tr style=\"text-align: right;\">\n",
       "      <th></th>\n",
       "      <th>DMU</th>\n",
       "      <th>Nama_satker</th>\n",
       "      <th>Tahun</th>\n",
       "      <th>(I)SDM_medis_total</th>\n",
       "      <th>(I)SDM_non_medis_total</th>\n",
       "      <th>(I)Jumlah_tempat_tidur</th>\n",
       "      <th>(I)Belanja</th>\n",
       "      <th>(O)Pasien_rawat_inap_orang</th>\n",
       "      <th>(O)Pasien_rawat_jalan_orang</th>\n",
       "      <th>(O)BOR_persen</th>\n",
       "      <th>(O)ALOS_hari</th>\n",
       "      <th>(O)BTO_kali</th>\n",
       "      <th>(O)TOI_hari</th>\n",
       "      <th>(O)Pendapatan</th>\n",
       "    </tr>\n",
       "  </thead>\n",
       "  <tbody>\n",
       "    <tr>\n",
       "      <th>0</th>\n",
       "      <td>15514</td>\n",
       "      <td>RS PON</td>\n",
       "      <td>2016</td>\n",
       "      <td>517</td>\n",
       "      <td>128</td>\n",
       "      <td>128</td>\n",
       "      <td>229259640027</td>\n",
       "      <td>3194</td>\n",
       "      <td>38661</td>\n",
       "      <td>63.7875</td>\n",
       "      <td>8.915</td>\n",
       "      <td>2.000</td>\n",
       "      <td>5.0850</td>\n",
       "      <td>1.015502e+11</td>\n",
       "    </tr>\n",
       "    <tr>\n",
       "      <th>1</th>\n",
       "      <td>257847</td>\n",
       "      <td>RS. OTAK DR. Drs. Hatta BUKITTINGGI</td>\n",
       "      <td>2016</td>\n",
       "      <td>164</td>\n",
       "      <td>416</td>\n",
       "      <td>176</td>\n",
       "      <td>120147341232</td>\n",
       "      <td>7635</td>\n",
       "      <td>39795</td>\n",
       "      <td>65.6650</td>\n",
       "      <td>5.610</td>\n",
       "      <td>3.835</td>\n",
       "      <td>3.0000</td>\n",
       "      <td>4.446990e+10</td>\n",
       "    </tr>\n",
       "    <tr>\n",
       "      <th>2</th>\n",
       "      <td>258462</td>\n",
       "      <td>RS Tadjudin Chalid</td>\n",
       "      <td>2016</td>\n",
       "      <td>178</td>\n",
       "      <td>300</td>\n",
       "      <td>150</td>\n",
       "      <td>84575992037</td>\n",
       "      <td>3909</td>\n",
       "      <td>37604</td>\n",
       "      <td>29.0000</td>\n",
       "      <td>7.000</td>\n",
       "      <td>4.250</td>\n",
       "      <td>19.0000</td>\n",
       "      <td>3.045987e+10</td>\n",
       "    </tr>\n",
       "    <tr>\n",
       "      <th>3</th>\n",
       "      <td>415423</td>\n",
       "      <td>RS Cipto Mangunkusumo</td>\n",
       "      <td>2016</td>\n",
       "      <td>1503</td>\n",
       "      <td>3990</td>\n",
       "      <td>915</td>\n",
       "      <td>4540392332667</td>\n",
       "      <td>32832</td>\n",
       "      <td>845944</td>\n",
       "      <td>70.2600</td>\n",
       "      <td>6.860</td>\n",
       "      <td>8.970</td>\n",
       "      <td>3.0400</td>\n",
       "      <td>4.349473e+12</td>\n",
       "    </tr>\n",
       "    <tr>\n",
       "      <th>4</th>\n",
       "      <td>415432</td>\n",
       "      <td>RS Fatmawati</td>\n",
       "      <td>2016</td>\n",
       "      <td>633</td>\n",
       "      <td>1886</td>\n",
       "      <td>745</td>\n",
       "      <td>857527800552</td>\n",
       "      <td>28575</td>\n",
       "      <td>329622</td>\n",
       "      <td>78.0025</td>\n",
       "      <td>7.825</td>\n",
       "      <td>8.725</td>\n",
       "      <td>2.4475</td>\n",
       "      <td>5.226500e+11</td>\n",
       "    </tr>\n",
       "  </tbody>\n",
       "</table>\n",
       "</div>"
      ],
      "text/plain": [
       "      DMU                          Nama_satker  Tahun  (I)SDM_medis_total  \\\n",
       "0   15514                               RS PON   2016                 517   \n",
       "1  257847  RS. OTAK DR. Drs. Hatta BUKITTINGGI   2016                 164   \n",
       "2  258462                   RS Tadjudin Chalid   2016                 178   \n",
       "3  415423                RS Cipto Mangunkusumo   2016                1503   \n",
       "4  415432                         RS Fatmawati   2016                 633   \n",
       "\n",
       "   (I)SDM_non_medis_total  (I)Jumlah_tempat_tidur     (I)Belanja  \\\n",
       "0                     128                     128   229259640027   \n",
       "1                     416                     176   120147341232   \n",
       "2                     300                     150    84575992037   \n",
       "3                    3990                     915  4540392332667   \n",
       "4                    1886                     745   857527800552   \n",
       "\n",
       "   (O)Pasien_rawat_inap_orang  (O)Pasien_rawat_jalan_orang  (O)BOR_persen  \\\n",
       "0                        3194                        38661        63.7875   \n",
       "1                        7635                        39795        65.6650   \n",
       "2                        3909                        37604        29.0000   \n",
       "3                       32832                       845944        70.2600   \n",
       "4                       28575                       329622        78.0025   \n",
       "\n",
       "   (O)ALOS_hari  (O)BTO_kali  (O)TOI_hari  (O)Pendapatan  \n",
       "0         8.915        2.000       5.0850   1.015502e+11  \n",
       "1         5.610        3.835       3.0000   4.446990e+10  \n",
       "2         7.000        4.250      19.0000   3.045987e+10  \n",
       "3         6.860        8.970       3.0400   4.349473e+12  \n",
       "4         7.825        8.725       2.4475   5.226500e+11  "
      ]
     },
     "execution_count": 7,
     "metadata": {},
     "output_type": "execute_result"
    }
   ],
   "source": [
    "#Tahun 2016\n",
    "dea_2016 = ganti_kolom(dea_2016)\n",
    "dea_2016.head()"
   ]
  },
  {
   "cell_type": "code",
   "execution_count": 8,
   "metadata": {
    "ExecuteTime": {
     "end_time": "2021-10-14T08:45:09.274470Z",
     "start_time": "2021-10-14T08:45:09.261505Z"
    }
   },
   "outputs": [
    {
     "data": {
      "text/html": [
       "<div>\n",
       "<style scoped>\n",
       "    .dataframe tbody tr th:only-of-type {\n",
       "        vertical-align: middle;\n",
       "    }\n",
       "\n",
       "    .dataframe tbody tr th {\n",
       "        vertical-align: top;\n",
       "    }\n",
       "\n",
       "    .dataframe thead th {\n",
       "        text-align: right;\n",
       "    }\n",
       "</style>\n",
       "<table border=\"1\" class=\"dataframe\">\n",
       "  <thead>\n",
       "    <tr style=\"text-align: right;\">\n",
       "      <th></th>\n",
       "      <th>DMU</th>\n",
       "      <th>Nama_satker</th>\n",
       "      <th>Tahun</th>\n",
       "      <th>(I)SDM_medis_total</th>\n",
       "      <th>(I)SDM_non_medis_total</th>\n",
       "      <th>(I)Jumlah_tempat_tidur</th>\n",
       "      <th>(I)Belanja</th>\n",
       "      <th>(O)Pasien_rawat_inap_orang</th>\n",
       "      <th>(O)Pasien_rawat_jalan_orang</th>\n",
       "      <th>(O)BOR_persen</th>\n",
       "      <th>(O)ALOS_hari</th>\n",
       "      <th>(O)BTO_kali</th>\n",
       "      <th>(O)TOI_hari</th>\n",
       "      <th>(O)Pendapatan</th>\n",
       "    </tr>\n",
       "  </thead>\n",
       "  <tbody>\n",
       "    <tr>\n",
       "      <th>0</th>\n",
       "      <td>15514</td>\n",
       "      <td>RS PON</td>\n",
       "      <td>2017</td>\n",
       "      <td>550</td>\n",
       "      <td>145</td>\n",
       "      <td>148</td>\n",
       "      <td>2.518652e+11</td>\n",
       "      <td>3614</td>\n",
       "      <td>58982</td>\n",
       "      <td>62.8875</td>\n",
       "      <td>8.4150</td>\n",
       "      <td>2.0825</td>\n",
       "      <td>4.9975</td>\n",
       "      <td>2.251923e+11</td>\n",
       "    </tr>\n",
       "    <tr>\n",
       "      <th>1</th>\n",
       "      <td>257847</td>\n",
       "      <td>RS. OTAK DR. Drs. Hatta BUKITTINGGI</td>\n",
       "      <td>2017</td>\n",
       "      <td>159</td>\n",
       "      <td>411</td>\n",
       "      <td>161</td>\n",
       "      <td>1.249235e+11</td>\n",
       "      <td>7186</td>\n",
       "      <td>35114</td>\n",
       "      <td>65.1675</td>\n",
       "      <td>5.4925</td>\n",
       "      <td>3.6650</td>\n",
       "      <td>2.9175</td>\n",
       "      <td>4.830066e+10</td>\n",
       "    </tr>\n",
       "    <tr>\n",
       "      <th>2</th>\n",
       "      <td>258462</td>\n",
       "      <td>RS Tadjudin Chalid</td>\n",
       "      <td>2017</td>\n",
       "      <td>177</td>\n",
       "      <td>300</td>\n",
       "      <td>150</td>\n",
       "      <td>1.016226e+11</td>\n",
       "      <td>4502</td>\n",
       "      <td>58868</td>\n",
       "      <td>28.7500</td>\n",
       "      <td>4.5000</td>\n",
       "      <td>6.0000</td>\n",
       "      <td>8.2500</td>\n",
       "      <td>2.401743e+10</td>\n",
       "    </tr>\n",
       "    <tr>\n",
       "      <th>3</th>\n",
       "      <td>415423</td>\n",
       "      <td>RS Cipto Mangunkusumo</td>\n",
       "      <td>2017</td>\n",
       "      <td>3591</td>\n",
       "      <td>1882</td>\n",
       "      <td>988</td>\n",
       "      <td>4.931944e+12</td>\n",
       "      <td>37584</td>\n",
       "      <td>910288</td>\n",
       "      <td>70.9250</td>\n",
       "      <td>6.4275</td>\n",
       "      <td>9.5425</td>\n",
       "      <td>2.7850</td>\n",
       "      <td>4.491883e+12</td>\n",
       "    </tr>\n",
       "    <tr>\n",
       "      <th>4</th>\n",
       "      <td>415432</td>\n",
       "      <td>RS Fatmawati</td>\n",
       "      <td>2017</td>\n",
       "      <td>635</td>\n",
       "      <td>1855</td>\n",
       "      <td>784</td>\n",
       "      <td>7.072516e+11</td>\n",
       "      <td>27687</td>\n",
       "      <td>313164</td>\n",
       "      <td>69.1275</td>\n",
       "      <td>7.0925</td>\n",
       "      <td>8.8625</td>\n",
       "      <td>3.1775</td>\n",
       "      <td>5.687698e+11</td>\n",
       "    </tr>\n",
       "  </tbody>\n",
       "</table>\n",
       "</div>"
      ],
      "text/plain": [
       "      DMU                          Nama_satker  Tahun  (I)SDM_medis_total  \\\n",
       "0   15514                               RS PON   2017                 550   \n",
       "1  257847  RS. OTAK DR. Drs. Hatta BUKITTINGGI   2017                 159   \n",
       "2  258462                   RS Tadjudin Chalid   2017                 177   \n",
       "3  415423                RS Cipto Mangunkusumo   2017                3591   \n",
       "4  415432                         RS Fatmawati   2017                 635   \n",
       "\n",
       "   (I)SDM_non_medis_total  (I)Jumlah_tempat_tidur    (I)Belanja  \\\n",
       "0                     145                     148  2.518652e+11   \n",
       "1                     411                     161  1.249235e+11   \n",
       "2                     300                     150  1.016226e+11   \n",
       "3                    1882                     988  4.931944e+12   \n",
       "4                    1855                     784  7.072516e+11   \n",
       "\n",
       "   (O)Pasien_rawat_inap_orang  (O)Pasien_rawat_jalan_orang  (O)BOR_persen  \\\n",
       "0                        3614                        58982        62.8875   \n",
       "1                        7186                        35114        65.1675   \n",
       "2                        4502                        58868        28.7500   \n",
       "3                       37584                       910288        70.9250   \n",
       "4                       27687                       313164        69.1275   \n",
       "\n",
       "   (O)ALOS_hari  (O)BTO_kali  (O)TOI_hari  (O)Pendapatan  \n",
       "0        8.4150       2.0825       4.9975   2.251923e+11  \n",
       "1        5.4925       3.6650       2.9175   4.830066e+10  \n",
       "2        4.5000       6.0000       8.2500   2.401743e+10  \n",
       "3        6.4275       9.5425       2.7850   4.491883e+12  \n",
       "4        7.0925       8.8625       3.1775   5.687698e+11  "
      ]
     },
     "execution_count": 8,
     "metadata": {},
     "output_type": "execute_result"
    }
   ],
   "source": [
    "#Tahun 2017\n",
    "dea_2017 = ganti_kolom(dea_2017)\n",
    "dea_2017.head()"
   ]
  },
  {
   "cell_type": "code",
   "execution_count": 9,
   "metadata": {
    "ExecuteTime": {
     "end_time": "2021-10-14T08:45:09.305387Z",
     "start_time": "2021-10-14T08:45:09.276465Z"
    }
   },
   "outputs": [
    {
     "data": {
      "text/html": [
       "<div>\n",
       "<style scoped>\n",
       "    .dataframe tbody tr th:only-of-type {\n",
       "        vertical-align: middle;\n",
       "    }\n",
       "\n",
       "    .dataframe tbody tr th {\n",
       "        vertical-align: top;\n",
       "    }\n",
       "\n",
       "    .dataframe thead th {\n",
       "        text-align: right;\n",
       "    }\n",
       "</style>\n",
       "<table border=\"1\" class=\"dataframe\">\n",
       "  <thead>\n",
       "    <tr style=\"text-align: right;\">\n",
       "      <th></th>\n",
       "      <th>DMU</th>\n",
       "      <th>Nama_satker</th>\n",
       "      <th>Tahun</th>\n",
       "      <th>(I)SDM_medis_total</th>\n",
       "      <th>(I)SDM_non_medis_total</th>\n",
       "      <th>(I)Jumlah_tempat_tidur</th>\n",
       "      <th>(I)Belanja</th>\n",
       "      <th>(O)Pasien_rawat_inap_orang</th>\n",
       "      <th>(O)Pasien_rawat_jalan_orang</th>\n",
       "      <th>(O)BOR_persen</th>\n",
       "      <th>(O)ALOS_hari</th>\n",
       "      <th>(O)BTO_kali</th>\n",
       "      <th>(O)TOI_hari</th>\n",
       "      <th>(O)Pendapatan</th>\n",
       "    </tr>\n",
       "  </thead>\n",
       "  <tbody>\n",
       "    <tr>\n",
       "      <th>0</th>\n",
       "      <td>15514</td>\n",
       "      <td>RS PON</td>\n",
       "      <td>2018</td>\n",
       "      <td>612</td>\n",
       "      <td>155</td>\n",
       "      <td>153</td>\n",
       "      <td>239534123869</td>\n",
       "      <td>4755</td>\n",
       "      <td>69671</td>\n",
       "      <td>65.9450</td>\n",
       "      <td>7.7500</td>\n",
       "      <td>2.6650</td>\n",
       "      <td>4.0000</td>\n",
       "      <td>2.000905e+11</td>\n",
       "    </tr>\n",
       "    <tr>\n",
       "      <th>1</th>\n",
       "      <td>257847</td>\n",
       "      <td>RS. OTAK DR. Drs. Hatta BUKITTINGGI</td>\n",
       "      <td>2018</td>\n",
       "      <td>161</td>\n",
       "      <td>414</td>\n",
       "      <td>162</td>\n",
       "      <td>111441085215</td>\n",
       "      <td>6886</td>\n",
       "      <td>30321</td>\n",
       "      <td>62.7500</td>\n",
       "      <td>5.3975</td>\n",
       "      <td>3.7500</td>\n",
       "      <td>3.2500</td>\n",
       "      <td>4.922434e+10</td>\n",
       "    </tr>\n",
       "    <tr>\n",
       "      <th>2</th>\n",
       "      <td>258462</td>\n",
       "      <td>RS Tadjudin Chalid</td>\n",
       "      <td>2018</td>\n",
       "      <td>190</td>\n",
       "      <td>300</td>\n",
       "      <td>150</td>\n",
       "      <td>168252292424</td>\n",
       "      <td>6598</td>\n",
       "      <td>74567</td>\n",
       "      <td>44.5000</td>\n",
       "      <td>4.0000</td>\n",
       "      <td>9.5000</td>\n",
       "      <td>5.2500</td>\n",
       "      <td>2.996378e+10</td>\n",
       "    </tr>\n",
       "    <tr>\n",
       "      <th>3</th>\n",
       "      <td>415423</td>\n",
       "      <td>RS Cipto Mangunkusumo</td>\n",
       "      <td>2018</td>\n",
       "      <td>3492</td>\n",
       "      <td>1808</td>\n",
       "      <td>959</td>\n",
       "      <td>4483942314937</td>\n",
       "      <td>37677</td>\n",
       "      <td>996714</td>\n",
       "      <td>68.8450</td>\n",
       "      <td>5.8350</td>\n",
       "      <td>9.8075</td>\n",
       "      <td>2.9050</td>\n",
       "      <td>4.065349e+12</td>\n",
       "    </tr>\n",
       "    <tr>\n",
       "      <th>4</th>\n",
       "      <td>415432</td>\n",
       "      <td>RS Fatmawati</td>\n",
       "      <td>2018</td>\n",
       "      <td>645</td>\n",
       "      <td>1837</td>\n",
       "      <td>784</td>\n",
       "      <td>684747058106</td>\n",
       "      <td>27778</td>\n",
       "      <td>284017</td>\n",
       "      <td>67.3775</td>\n",
       "      <td>6.9950</td>\n",
       "      <td>8.7525</td>\n",
       "      <td>3.4075</td>\n",
       "      <td>5.188550e+11</td>\n",
       "    </tr>\n",
       "  </tbody>\n",
       "</table>\n",
       "</div>"
      ],
      "text/plain": [
       "      DMU                          Nama_satker  Tahun  (I)SDM_medis_total  \\\n",
       "0   15514                               RS PON   2018                 612   \n",
       "1  257847  RS. OTAK DR. Drs. Hatta BUKITTINGGI   2018                 161   \n",
       "2  258462                   RS Tadjudin Chalid   2018                 190   \n",
       "3  415423                RS Cipto Mangunkusumo   2018                3492   \n",
       "4  415432                         RS Fatmawati   2018                 645   \n",
       "\n",
       "   (I)SDM_non_medis_total  (I)Jumlah_tempat_tidur     (I)Belanja  \\\n",
       "0                     155                     153   239534123869   \n",
       "1                     414                     162   111441085215   \n",
       "2                     300                     150   168252292424   \n",
       "3                    1808                     959  4483942314937   \n",
       "4                    1837                     784   684747058106   \n",
       "\n",
       "   (O)Pasien_rawat_inap_orang  (O)Pasien_rawat_jalan_orang  (O)BOR_persen  \\\n",
       "0                        4755                        69671        65.9450   \n",
       "1                        6886                        30321        62.7500   \n",
       "2                        6598                        74567        44.5000   \n",
       "3                       37677                       996714        68.8450   \n",
       "4                       27778                       284017        67.3775   \n",
       "\n",
       "   (O)ALOS_hari  (O)BTO_kali  (O)TOI_hari  (O)Pendapatan  \n",
       "0        7.7500       2.6650       4.0000   2.000905e+11  \n",
       "1        5.3975       3.7500       3.2500   4.922434e+10  \n",
       "2        4.0000       9.5000       5.2500   2.996378e+10  \n",
       "3        5.8350       9.8075       2.9050   4.065349e+12  \n",
       "4        6.9950       8.7525       3.4075   5.188550e+11  "
      ]
     },
     "execution_count": 9,
     "metadata": {},
     "output_type": "execute_result"
    }
   ],
   "source": [
    "#Tahun 2018\n",
    "dea_2018 = ganti_kolom(dea_2018)\n",
    "dea_2018.head()"
   ]
  },
  {
   "cell_type": "code",
   "execution_count": 10,
   "metadata": {
    "ExecuteTime": {
     "end_time": "2021-10-14T08:45:09.320348Z",
     "start_time": "2021-10-14T08:45:09.306385Z"
    }
   },
   "outputs": [
    {
     "data": {
      "text/html": [
       "<div>\n",
       "<style scoped>\n",
       "    .dataframe tbody tr th:only-of-type {\n",
       "        vertical-align: middle;\n",
       "    }\n",
       "\n",
       "    .dataframe tbody tr th {\n",
       "        vertical-align: top;\n",
       "    }\n",
       "\n",
       "    .dataframe thead th {\n",
       "        text-align: right;\n",
       "    }\n",
       "</style>\n",
       "<table border=\"1\" class=\"dataframe\">\n",
       "  <thead>\n",
       "    <tr style=\"text-align: right;\">\n",
       "      <th></th>\n",
       "      <th>DMU</th>\n",
       "      <th>Nama_satker</th>\n",
       "      <th>Tahun</th>\n",
       "      <th>(I)SDM_medis_total</th>\n",
       "      <th>(I)SDM_non_medis_total</th>\n",
       "      <th>(I)Jumlah_tempat_tidur</th>\n",
       "      <th>(I)Belanja</th>\n",
       "      <th>(O)Pasien_rawat_inap_orang</th>\n",
       "      <th>(O)Pasien_rawat_jalan_orang</th>\n",
       "      <th>(O)BOR_persen</th>\n",
       "      <th>(O)ALOS_hari</th>\n",
       "      <th>(O)BTO_kali</th>\n",
       "      <th>(O)TOI_hari</th>\n",
       "      <th>(O)Pendapatan</th>\n",
       "    </tr>\n",
       "  </thead>\n",
       "  <tbody>\n",
       "    <tr>\n",
       "      <th>0</th>\n",
       "      <td>15514</td>\n",
       "      <td>RS PON</td>\n",
       "      <td>2019</td>\n",
       "      <td>672</td>\n",
       "      <td>162</td>\n",
       "      <td>203</td>\n",
       "      <td>281356737974</td>\n",
       "      <td>6363</td>\n",
       "      <td>88604</td>\n",
       "      <td>63.7525</td>\n",
       "      <td>6.9150</td>\n",
       "      <td>2.8350</td>\n",
       "      <td>4.1675</td>\n",
       "      <td>2.027352e+11</td>\n",
       "    </tr>\n",
       "    <tr>\n",
       "      <th>1</th>\n",
       "      <td>257847</td>\n",
       "      <td>RS. OTAK DR. Drs. Hatta BUKITTINGGI</td>\n",
       "      <td>2019</td>\n",
       "      <td>164</td>\n",
       "      <td>399</td>\n",
       "      <td>146</td>\n",
       "      <td>135254263783</td>\n",
       "      <td>6852</td>\n",
       "      <td>22446</td>\n",
       "      <td>65.4150</td>\n",
       "      <td>5.2500</td>\n",
       "      <td>3.9175</td>\n",
       "      <td>2.8350</td>\n",
       "      <td>4.673560e+10</td>\n",
       "    </tr>\n",
       "    <tr>\n",
       "      <th>2</th>\n",
       "      <td>258462</td>\n",
       "      <td>RS Tadjudin Chalid</td>\n",
       "      <td>2019</td>\n",
       "      <td>200</td>\n",
       "      <td>311</td>\n",
       "      <td>150</td>\n",
       "      <td>158549128644</td>\n",
       "      <td>7528</td>\n",
       "      <td>76805</td>\n",
       "      <td>44.7450</td>\n",
       "      <td>4.0825</td>\n",
       "      <td>10.5000</td>\n",
       "      <td>4.8325</td>\n",
       "      <td>3.153101e+10</td>\n",
       "    </tr>\n",
       "    <tr>\n",
       "      <th>3</th>\n",
       "      <td>415423</td>\n",
       "      <td>RS Cipto Mangunkusumo</td>\n",
       "      <td>2019</td>\n",
       "      <td>1535</td>\n",
       "      <td>3696</td>\n",
       "      <td>931</td>\n",
       "      <td>4732976201114</td>\n",
       "      <td>38754</td>\n",
       "      <td>1216436</td>\n",
       "      <td>69.3675</td>\n",
       "      <td>5.5850</td>\n",
       "      <td>10.4200</td>\n",
       "      <td>2.6900</td>\n",
       "      <td>4.650169e+12</td>\n",
       "    </tr>\n",
       "    <tr>\n",
       "      <th>4</th>\n",
       "      <td>415432</td>\n",
       "      <td>RS Fatmawati</td>\n",
       "      <td>2019</td>\n",
       "      <td>646</td>\n",
       "      <td>1721</td>\n",
       "      <td>748</td>\n",
       "      <td>813774969184</td>\n",
       "      <td>29124</td>\n",
       "      <td>312122</td>\n",
       "      <td>64.9375</td>\n",
       "      <td>6.4150</td>\n",
       "      <td>9.2875</td>\n",
       "      <td>3.4575</td>\n",
       "      <td>6.252223e+11</td>\n",
       "    </tr>\n",
       "  </tbody>\n",
       "</table>\n",
       "</div>"
      ],
      "text/plain": [
       "      DMU                          Nama_satker  Tahun  (I)SDM_medis_total  \\\n",
       "0   15514                               RS PON   2019                 672   \n",
       "1  257847  RS. OTAK DR. Drs. Hatta BUKITTINGGI   2019                 164   \n",
       "2  258462                   RS Tadjudin Chalid   2019                 200   \n",
       "3  415423                RS Cipto Mangunkusumo   2019                1535   \n",
       "4  415432                         RS Fatmawati   2019                 646   \n",
       "\n",
       "   (I)SDM_non_medis_total  (I)Jumlah_tempat_tidur     (I)Belanja  \\\n",
       "0                     162                     203   281356737974   \n",
       "1                     399                     146   135254263783   \n",
       "2                     311                     150   158549128644   \n",
       "3                    3696                     931  4732976201114   \n",
       "4                    1721                     748   813774969184   \n",
       "\n",
       "   (O)Pasien_rawat_inap_orang  (O)Pasien_rawat_jalan_orang  (O)BOR_persen  \\\n",
       "0                        6363                        88604        63.7525   \n",
       "1                        6852                        22446        65.4150   \n",
       "2                        7528                        76805        44.7450   \n",
       "3                       38754                      1216436        69.3675   \n",
       "4                       29124                       312122        64.9375   \n",
       "\n",
       "   (O)ALOS_hari  (O)BTO_kali  (O)TOI_hari  (O)Pendapatan  \n",
       "0        6.9150       2.8350       4.1675   2.027352e+11  \n",
       "1        5.2500       3.9175       2.8350   4.673560e+10  \n",
       "2        4.0825      10.5000       4.8325   3.153101e+10  \n",
       "3        5.5850      10.4200       2.6900   4.650169e+12  \n",
       "4        6.4150       9.2875       3.4575   6.252223e+11  "
      ]
     },
     "execution_count": 10,
     "metadata": {},
     "output_type": "execute_result"
    }
   ],
   "source": [
    "#Tahun 2019\n",
    "dea_2019 = ganti_kolom(dea_2019)\n",
    "dea_2019.head()"
   ]
  },
  {
   "cell_type": "code",
   "execution_count": 11,
   "metadata": {
    "ExecuteTime": {
     "end_time": "2021-10-14T08:45:09.351265Z",
     "start_time": "2021-10-14T08:45:09.321345Z"
    }
   },
   "outputs": [
    {
     "data": {
      "text/html": [
       "<div>\n",
       "<style scoped>\n",
       "    .dataframe tbody tr th:only-of-type {\n",
       "        vertical-align: middle;\n",
       "    }\n",
       "\n",
       "    .dataframe tbody tr th {\n",
       "        vertical-align: top;\n",
       "    }\n",
       "\n",
       "    .dataframe thead th {\n",
       "        text-align: right;\n",
       "    }\n",
       "</style>\n",
       "<table border=\"1\" class=\"dataframe\">\n",
       "  <thead>\n",
       "    <tr style=\"text-align: right;\">\n",
       "      <th></th>\n",
       "      <th>DMU</th>\n",
       "      <th>Nama_satker</th>\n",
       "      <th>Tahun</th>\n",
       "      <th>(I)SDM_medis_total</th>\n",
       "      <th>(I)SDM_non_medis_total</th>\n",
       "      <th>(I)Jumlah_tempat_tidur</th>\n",
       "      <th>(I)Belanja</th>\n",
       "      <th>(O)Pasien_rawat_inap_orang</th>\n",
       "      <th>(O)Pasien_rawat_jalan_orang</th>\n",
       "      <th>(O)BOR_persen</th>\n",
       "      <th>(O)ALOS_hari</th>\n",
       "      <th>(O)BTO_kali</th>\n",
       "      <th>(O)TOI_hari</th>\n",
       "      <th>(O)Pendapatan</th>\n",
       "    </tr>\n",
       "  </thead>\n",
       "  <tbody>\n",
       "    <tr>\n",
       "      <th>0</th>\n",
       "      <td>15514</td>\n",
       "      <td>RS PON</td>\n",
       "      <td>2020</td>\n",
       "      <td>724</td>\n",
       "      <td>257</td>\n",
       "      <td>223</td>\n",
       "      <td>338898884632</td>\n",
       "      <td>8208</td>\n",
       "      <td>73668</td>\n",
       "      <td>61.9025</td>\n",
       "      <td>6.1325</td>\n",
       "      <td>3.1425</td>\n",
       "      <td>3.8525</td>\n",
       "      <td>280512704363</td>\n",
       "    </tr>\n",
       "    <tr>\n",
       "      <th>1</th>\n",
       "      <td>257847</td>\n",
       "      <td>RS. OTAK DR. Drs. Hatta BUKITTINGGI</td>\n",
       "      <td>2020</td>\n",
       "      <td>166</td>\n",
       "      <td>391</td>\n",
       "      <td>147</td>\n",
       "      <td>109835244465</td>\n",
       "      <td>4271</td>\n",
       "      <td>20835</td>\n",
       "      <td>40.9250</td>\n",
       "      <td>5.7500</td>\n",
       "      <td>2.1650</td>\n",
       "      <td>9.4975</td>\n",
       "      <td>47171479761</td>\n",
       "    </tr>\n",
       "    <tr>\n",
       "      <th>2</th>\n",
       "      <td>258462</td>\n",
       "      <td>RS Tadjudin Chalid</td>\n",
       "      <td>2020</td>\n",
       "      <td>211</td>\n",
       "      <td>337</td>\n",
       "      <td>200</td>\n",
       "      <td>251289297037</td>\n",
       "      <td>3596</td>\n",
       "      <td>50029</td>\n",
       "      <td>25.9125</td>\n",
       "      <td>6.2500</td>\n",
       "      <td>4.5000</td>\n",
       "      <td>25.8325</td>\n",
       "      <td>38537828050</td>\n",
       "    </tr>\n",
       "    <tr>\n",
       "      <th>3</th>\n",
       "      <td>415423</td>\n",
       "      <td>RS Cipto Mangunkusumo</td>\n",
       "      <td>2020</td>\n",
       "      <td>1563</td>\n",
       "      <td>3627</td>\n",
       "      <td>939</td>\n",
       "      <td>4613567912104</td>\n",
       "      <td>31929</td>\n",
       "      <td>931105</td>\n",
       "      <td>58.3450</td>\n",
       "      <td>5.7425</td>\n",
       "      <td>8.4800</td>\n",
       "      <td>4.7575</td>\n",
       "      <td>4375280607138</td>\n",
       "    </tr>\n",
       "    <tr>\n",
       "      <th>4</th>\n",
       "      <td>415432</td>\n",
       "      <td>RS Fatmawati</td>\n",
       "      <td>2020</td>\n",
       "      <td>659</td>\n",
       "      <td>1686</td>\n",
       "      <td>555</td>\n",
       "      <td>1344478499188</td>\n",
       "      <td>20197</td>\n",
       "      <td>218589</td>\n",
       "      <td>59.0250</td>\n",
       "      <td>7.0100</td>\n",
       "      <td>7.8850</td>\n",
       "      <td>4.8275</td>\n",
       "      <td>1155591635823</td>\n",
       "    </tr>\n",
       "  </tbody>\n",
       "</table>\n",
       "</div>"
      ],
      "text/plain": [
       "      DMU                          Nama_satker  Tahun  (I)SDM_medis_total  \\\n",
       "0   15514                               RS PON   2020                 724   \n",
       "1  257847  RS. OTAK DR. Drs. Hatta BUKITTINGGI   2020                 166   \n",
       "2  258462                   RS Tadjudin Chalid   2020                 211   \n",
       "3  415423                RS Cipto Mangunkusumo   2020                1563   \n",
       "4  415432                         RS Fatmawati   2020                 659   \n",
       "\n",
       "   (I)SDM_non_medis_total  (I)Jumlah_tempat_tidur     (I)Belanja  \\\n",
       "0                     257                     223   338898884632   \n",
       "1                     391                     147   109835244465   \n",
       "2                     337                     200   251289297037   \n",
       "3                    3627                     939  4613567912104   \n",
       "4                    1686                     555  1344478499188   \n",
       "\n",
       "   (O)Pasien_rawat_inap_orang  (O)Pasien_rawat_jalan_orang  (O)BOR_persen  \\\n",
       "0                        8208                        73668        61.9025   \n",
       "1                        4271                        20835        40.9250   \n",
       "2                        3596                        50029        25.9125   \n",
       "3                       31929                       931105        58.3450   \n",
       "4                       20197                       218589        59.0250   \n",
       "\n",
       "   (O)ALOS_hari  (O)BTO_kali  (O)TOI_hari  (O)Pendapatan  \n",
       "0        6.1325       3.1425       3.8525   280512704363  \n",
       "1        5.7500       2.1650       9.4975    47171479761  \n",
       "2        6.2500       4.5000      25.8325    38537828050  \n",
       "3        5.7425       8.4800       4.7575  4375280607138  \n",
       "4        7.0100       7.8850       4.8275  1155591635823  "
      ]
     },
     "execution_count": 11,
     "metadata": {},
     "output_type": "execute_result"
    }
   ],
   "source": [
    "#Tahun 2020\n",
    "dea_2020 = ganti_kolom(dea_2020)\n",
    "dea_2020.head()"
   ]
  },
  {
   "cell_type": "markdown",
   "metadata": {},
   "source": [
    "# Klasterisasi"
   ]
  },
  {
   "cell_type": "markdown",
   "metadata": {},
   "source": [
    "## Sub Kluster Eks Khusus"
   ]
  },
  {
   "cell_type": "code",
   "execution_count": 12,
   "metadata": {
    "ExecuteTime": {
     "end_time": "2021-10-14T08:45:09.366225Z",
     "start_time": "2021-10-14T08:45:09.352264Z"
    }
   },
   "outputs": [],
   "source": [
    "#Membagi ke masing-masing sub cluster\n",
    "def klaster_eks(df):\n",
    "    dea_eks_khusus = df[(df.Nama_satker == 'RS Tadjudin Chalid') | (df.Nama_satker == 'RS Sitanala')| (df.Nama_satker == 'RSUP dr Rivai Palembang')]\n",
    "    dea_eks_khusus.reset_index(drop=True, inplace=True)\n",
    "    return dea_eks_khusus"
   ]
  },
  {
   "cell_type": "code",
   "execution_count": 13,
   "metadata": {
    "ExecuteTime": {
     "end_time": "2021-10-14T08:45:09.381186Z",
     "start_time": "2021-10-14T08:45:09.367222Z"
    }
   },
   "outputs": [
    {
     "data": {
      "text/html": [
       "<div>\n",
       "<style scoped>\n",
       "    .dataframe tbody tr th:only-of-type {\n",
       "        vertical-align: middle;\n",
       "    }\n",
       "\n",
       "    .dataframe tbody tr th {\n",
       "        vertical-align: top;\n",
       "    }\n",
       "\n",
       "    .dataframe thead th {\n",
       "        text-align: right;\n",
       "    }\n",
       "</style>\n",
       "<table border=\"1\" class=\"dataframe\">\n",
       "  <thead>\n",
       "    <tr style=\"text-align: right;\">\n",
       "      <th></th>\n",
       "      <th>DMU</th>\n",
       "      <th>Nama_satker</th>\n",
       "      <th>Tahun</th>\n",
       "      <th>(I)SDM_medis_total</th>\n",
       "      <th>(I)SDM_non_medis_total</th>\n",
       "      <th>(I)Jumlah_tempat_tidur</th>\n",
       "      <th>(I)Belanja</th>\n",
       "      <th>(O)Pasien_rawat_inap_orang</th>\n",
       "      <th>(O)Pasien_rawat_jalan_orang</th>\n",
       "      <th>(O)BOR_persen</th>\n",
       "      <th>(O)ALOS_hari</th>\n",
       "      <th>(O)BTO_kali</th>\n",
       "      <th>(O)TOI_hari</th>\n",
       "      <th>(O)Pendapatan</th>\n",
       "    </tr>\n",
       "  </thead>\n",
       "  <tbody>\n",
       "    <tr>\n",
       "      <th>0</th>\n",
       "      <td>258462</td>\n",
       "      <td>RS Tadjudin Chalid</td>\n",
       "      <td>2016</td>\n",
       "      <td>178</td>\n",
       "      <td>300</td>\n",
       "      <td>150</td>\n",
       "      <td>84575992037</td>\n",
       "      <td>3909</td>\n",
       "      <td>37604</td>\n",
       "      <td>29.00</td>\n",
       "      <td>7.0000</td>\n",
       "      <td>4.250</td>\n",
       "      <td>19.0000</td>\n",
       "      <td>3.045987e+10</td>\n",
       "    </tr>\n",
       "    <tr>\n",
       "      <th>1</th>\n",
       "      <td>415520</td>\n",
       "      <td>RS Sitanala</td>\n",
       "      <td>2016</td>\n",
       "      <td>312</td>\n",
       "      <td>458</td>\n",
       "      <td>200</td>\n",
       "      <td>97481678502</td>\n",
       "      <td>8396</td>\n",
       "      <td>36145</td>\n",
       "      <td>34.75</td>\n",
       "      <td>4.2500</td>\n",
       "      <td>3.000</td>\n",
       "      <td>6.7500</td>\n",
       "      <td>6.951419e+10</td>\n",
       "    </tr>\n",
       "    <tr>\n",
       "      <th>2</th>\n",
       "      <td>415630</td>\n",
       "      <td>RSUP dr Rivai Palembang</td>\n",
       "      <td>2016</td>\n",
       "      <td>165</td>\n",
       "      <td>168</td>\n",
       "      <td>208</td>\n",
       "      <td>44298820510</td>\n",
       "      <td>2963</td>\n",
       "      <td>17980</td>\n",
       "      <td>23.23</td>\n",
       "      <td>6.7825</td>\n",
       "      <td>0.965</td>\n",
       "      <td>26.8775</td>\n",
       "      <td>6.838004e+09</td>\n",
       "    </tr>\n",
       "  </tbody>\n",
       "</table>\n",
       "</div>"
      ],
      "text/plain": [
       "      DMU              Nama_satker  Tahun  (I)SDM_medis_total  \\\n",
       "0  258462       RS Tadjudin Chalid   2016                 178   \n",
       "1  415520              RS Sitanala   2016                 312   \n",
       "2  415630  RSUP dr Rivai Palembang   2016                 165   \n",
       "\n",
       "   (I)SDM_non_medis_total  (I)Jumlah_tempat_tidur   (I)Belanja  \\\n",
       "0                     300                     150  84575992037   \n",
       "1                     458                     200  97481678502   \n",
       "2                     168                     208  44298820510   \n",
       "\n",
       "   (O)Pasien_rawat_inap_orang  (O)Pasien_rawat_jalan_orang  (O)BOR_persen  \\\n",
       "0                        3909                        37604          29.00   \n",
       "1                        8396                        36145          34.75   \n",
       "2                        2963                        17980          23.23   \n",
       "\n",
       "   (O)ALOS_hari  (O)BTO_kali  (O)TOI_hari  (O)Pendapatan  \n",
       "0        7.0000        4.250      19.0000   3.045987e+10  \n",
       "1        4.2500        3.000       6.7500   6.951419e+10  \n",
       "2        6.7825        0.965      26.8775   6.838004e+09  "
      ]
     },
     "execution_count": 13,
     "metadata": {},
     "output_type": "execute_result"
    }
   ],
   "source": [
    "df_eks_16 = klaster_eks(dea_2016)\n",
    "df_eks_16"
   ]
  },
  {
   "cell_type": "markdown",
   "metadata": {},
   "source": [
    "## Sub Kluster Jiwa"
   ]
  },
  {
   "cell_type": "code",
   "execution_count": 14,
   "metadata": {
    "ExecuteTime": {
     "end_time": "2021-10-14T08:45:09.397147Z",
     "start_time": "2021-10-14T08:45:09.385176Z"
    }
   },
   "outputs": [],
   "source": [
    "#Membagi ke masing-masing sub cluster \n",
    "def klaster_jiwa(df):\n",
    "    dea_jiwa = df[(df.Nama_satker == 'RS Ketergantungan Obat') | (df.Nama_satker == 'RSJ Lawang')| (df.Nama_satker == 'RSJ Soeroyo')|(df.Nama_satker == 'RSJ Lawang')| (df.Nama_satker == 'RSJ dr Soeharto Heerdjan')| (df.Nama_satker == 'RS Marzuki Mahdi')]\n",
    "    dea_jiwa.reset_index(drop=True, inplace=True)\n",
    "    return dea_jiwa"
   ]
  },
  {
   "cell_type": "code",
   "execution_count": 15,
   "metadata": {
    "ExecuteTime": {
     "end_time": "2021-10-14T08:45:09.428060Z",
     "start_time": "2021-10-14T08:45:09.400144Z"
    }
   },
   "outputs": [
    {
     "data": {
      "text/html": [
       "<div>\n",
       "<style scoped>\n",
       "    .dataframe tbody tr th:only-of-type {\n",
       "        vertical-align: middle;\n",
       "    }\n",
       "\n",
       "    .dataframe tbody tr th {\n",
       "        vertical-align: top;\n",
       "    }\n",
       "\n",
       "    .dataframe thead th {\n",
       "        text-align: right;\n",
       "    }\n",
       "</style>\n",
       "<table border=\"1\" class=\"dataframe\">\n",
       "  <thead>\n",
       "    <tr style=\"text-align: right;\">\n",
       "      <th></th>\n",
       "      <th>DMU</th>\n",
       "      <th>Nama_satker</th>\n",
       "      <th>Tahun</th>\n",
       "      <th>(I)SDM_medis_total</th>\n",
       "      <th>(I)SDM_non_medis_total</th>\n",
       "      <th>(I)Jumlah_tempat_tidur</th>\n",
       "      <th>(I)Belanja</th>\n",
       "      <th>(O)Pasien_rawat_inap_orang</th>\n",
       "      <th>(O)Pasien_rawat_jalan_orang</th>\n",
       "      <th>(O)BOR_persen</th>\n",
       "      <th>(O)ALOS_hari</th>\n",
       "      <th>(O)BTO_kali</th>\n",
       "      <th>(O)TOI_hari</th>\n",
       "      <th>(O)Pendapatan</th>\n",
       "    </tr>\n",
       "  </thead>\n",
       "  <tbody>\n",
       "    <tr>\n",
       "      <th>0</th>\n",
       "      <td>415454</td>\n",
       "      <td>RSJ dr Soeharto Heerdjan</td>\n",
       "      <td>2016</td>\n",
       "      <td>130</td>\n",
       "      <td>371</td>\n",
       "      <td>300</td>\n",
       "      <td>91952300822</td>\n",
       "      <td>2762</td>\n",
       "      <td>40283</td>\n",
       "      <td>55.8150</td>\n",
       "      <td>22.0000</td>\n",
       "      <td>2.2725</td>\n",
       "      <td>18.0000</td>\n",
       "      <td>3.050408e+10</td>\n",
       "    </tr>\n",
       "    <tr>\n",
       "      <th>1</th>\n",
       "      <td>415505</td>\n",
       "      <td>RS Marzuki Mahdi</td>\n",
       "      <td>2016</td>\n",
       "      <td>683</td>\n",
       "      <td>308</td>\n",
       "      <td>427</td>\n",
       "      <td>190127293278</td>\n",
       "      <td>8163</td>\n",
       "      <td>150449</td>\n",
       "      <td>48.8825</td>\n",
       "      <td>12.6375</td>\n",
       "      <td>4.3900</td>\n",
       "      <td>14.1575</td>\n",
       "      <td>1.640635e+11</td>\n",
       "    </tr>\n",
       "    <tr>\n",
       "      <th>2</th>\n",
       "      <td>415542</td>\n",
       "      <td>RSJ Soeroyo</td>\n",
       "      <td>2016</td>\n",
       "      <td>151</td>\n",
       "      <td>805</td>\n",
       "      <td>590</td>\n",
       "      <td>156613508835</td>\n",
       "      <td>9163</td>\n",
       "      <td>78419</td>\n",
       "      <td>54.8500</td>\n",
       "      <td>12.9000</td>\n",
       "      <td>1.3000</td>\n",
       "      <td>10.7750</td>\n",
       "      <td>1.299076e+11</td>\n",
       "    </tr>\n",
       "    <tr>\n",
       "      <th>3</th>\n",
       "      <td>415598</td>\n",
       "      <td>RSJ Lawang</td>\n",
       "      <td>2016</td>\n",
       "      <td>166</td>\n",
       "      <td>671</td>\n",
       "      <td>700</td>\n",
       "      <td>126306114000</td>\n",
       "      <td>6163</td>\n",
       "      <td>50235</td>\n",
       "      <td>67.1325</td>\n",
       "      <td>40.1850</td>\n",
       "      <td>1.5000</td>\n",
       "      <td>20.1075</td>\n",
       "      <td>4.765834e+10</td>\n",
       "    </tr>\n",
       "    <tr>\n",
       "      <th>4</th>\n",
       "      <td>415670</td>\n",
       "      <td>RS Ketergantungan Obat</td>\n",
       "      <td>2016</td>\n",
       "      <td>94</td>\n",
       "      <td>236</td>\n",
       "      <td>100</td>\n",
       "      <td>43690002935</td>\n",
       "      <td>330</td>\n",
       "      <td>44663</td>\n",
       "      <td>75.8475</td>\n",
       "      <td>38.6025</td>\n",
       "      <td>1.5800</td>\n",
       "      <td>15.7300</td>\n",
       "      <td>2.810848e+10</td>\n",
       "    </tr>\n",
       "  </tbody>\n",
       "</table>\n",
       "</div>"
      ],
      "text/plain": [
       "      DMU               Nama_satker  Tahun  (I)SDM_medis_total  \\\n",
       "0  415454  RSJ dr Soeharto Heerdjan   2016                 130   \n",
       "1  415505          RS Marzuki Mahdi   2016                 683   \n",
       "2  415542               RSJ Soeroyo   2016                 151   \n",
       "3  415598                RSJ Lawang   2016                 166   \n",
       "4  415670    RS Ketergantungan Obat   2016                  94   \n",
       "\n",
       "   (I)SDM_non_medis_total  (I)Jumlah_tempat_tidur    (I)Belanja  \\\n",
       "0                     371                     300   91952300822   \n",
       "1                     308                     427  190127293278   \n",
       "2                     805                     590  156613508835   \n",
       "3                     671                     700  126306114000   \n",
       "4                     236                     100   43690002935   \n",
       "\n",
       "   (O)Pasien_rawat_inap_orang  (O)Pasien_rawat_jalan_orang  (O)BOR_persen  \\\n",
       "0                        2762                        40283        55.8150   \n",
       "1                        8163                       150449        48.8825   \n",
       "2                        9163                        78419        54.8500   \n",
       "3                        6163                        50235        67.1325   \n",
       "4                         330                        44663        75.8475   \n",
       "\n",
       "   (O)ALOS_hari  (O)BTO_kali  (O)TOI_hari  (O)Pendapatan  \n",
       "0       22.0000       2.2725      18.0000   3.050408e+10  \n",
       "1       12.6375       4.3900      14.1575   1.640635e+11  \n",
       "2       12.9000       1.3000      10.7750   1.299076e+11  \n",
       "3       40.1850       1.5000      20.1075   4.765834e+10  \n",
       "4       38.6025       1.5800      15.7300   2.810848e+10  "
      ]
     },
     "execution_count": 15,
     "metadata": {},
     "output_type": "execute_result"
    }
   ],
   "source": [
    "df_jiwa_16 = klaster_jiwa(dea_2016)\n",
    "df_jiwa_16"
   ]
  },
  {
   "cell_type": "markdown",
   "metadata": {},
   "source": [
    "## Sub Kluster Paru"
   ]
  },
  {
   "cell_type": "code",
   "execution_count": 16,
   "metadata": {
    "ExecuteTime": {
     "end_time": "2021-10-14T08:45:09.443020Z",
     "start_time": "2021-10-14T08:45:09.429057Z"
    }
   },
   "outputs": [],
   "source": [
    "#Membagi ke masing-masing sub cluster\n",
    "def klaster_paru(df):\n",
    "    dea_paru = df[(df.Nama_satker == 'RS Rotinsulu') | (df.Nama_satker == 'RS Paru Ario Wirawan')|(df.Nama_satker == 'RS Paru Gunawan')]\n",
    "    dea_paru.reset_index(drop=True, inplace=True)\n",
    "    return dea_paru"
   ]
  },
  {
   "cell_type": "code",
   "execution_count": 17,
   "metadata": {
    "ExecuteTime": {
     "end_time": "2021-10-14T08:45:09.458977Z",
     "start_time": "2021-10-14T08:45:09.445015Z"
    }
   },
   "outputs": [
    {
     "data": {
      "text/html": [
       "<div>\n",
       "<style scoped>\n",
       "    .dataframe tbody tr th:only-of-type {\n",
       "        vertical-align: middle;\n",
       "    }\n",
       "\n",
       "    .dataframe tbody tr th {\n",
       "        vertical-align: top;\n",
       "    }\n",
       "\n",
       "    .dataframe thead th {\n",
       "        text-align: right;\n",
       "    }\n",
       "</style>\n",
       "<table border=\"1\" class=\"dataframe\">\n",
       "  <thead>\n",
       "    <tr style=\"text-align: right;\">\n",
       "      <th></th>\n",
       "      <th>DMU</th>\n",
       "      <th>Nama_satker</th>\n",
       "      <th>Tahun</th>\n",
       "      <th>(I)SDM_medis_total</th>\n",
       "      <th>(I)SDM_non_medis_total</th>\n",
       "      <th>(I)Jumlah_tempat_tidur</th>\n",
       "      <th>(I)Belanja</th>\n",
       "      <th>(O)Pasien_rawat_inap_orang</th>\n",
       "      <th>(O)Pasien_rawat_jalan_orang</th>\n",
       "      <th>(O)BOR_persen</th>\n",
       "      <th>(O)ALOS_hari</th>\n",
       "      <th>(O)BTO_kali</th>\n",
       "      <th>(O)TOI_hari</th>\n",
       "      <th>(O)Pendapatan</th>\n",
       "    </tr>\n",
       "  </thead>\n",
       "  <tbody>\n",
       "    <tr>\n",
       "      <th>0</th>\n",
       "      <td>415485</td>\n",
       "      <td>RS Rotinsulu</td>\n",
       "      <td>2016</td>\n",
       "      <td>197</td>\n",
       "      <td>193</td>\n",
       "      <td>122</td>\n",
       "      <td>87767720780</td>\n",
       "      <td>4994</td>\n",
       "      <td>21343</td>\n",
       "      <td>51.7100</td>\n",
       "      <td>5.280</td>\n",
       "      <td>2.9825</td>\n",
       "      <td>5.0625</td>\n",
       "      <td>8.573458e+10</td>\n",
       "    </tr>\n",
       "    <tr>\n",
       "      <th>1</th>\n",
       "      <td>415511</td>\n",
       "      <td>RS Paru Gunawan</td>\n",
       "      <td>2016</td>\n",
       "      <td>95</td>\n",
       "      <td>348</td>\n",
       "      <td>173</td>\n",
       "      <td>103707950693</td>\n",
       "      <td>8304</td>\n",
       "      <td>46928</td>\n",
       "      <td>73.2875</td>\n",
       "      <td>6.225</td>\n",
       "      <td>3.4125</td>\n",
       "      <td>2.7000</td>\n",
       "      <td>1.442210e+11</td>\n",
       "    </tr>\n",
       "    <tr>\n",
       "      <th>2</th>\n",
       "      <td>415551</td>\n",
       "      <td>RS Paru Ario Wirawan</td>\n",
       "      <td>2016</td>\n",
       "      <td>94</td>\n",
       "      <td>375</td>\n",
       "      <td>162</td>\n",
       "      <td>75177488820</td>\n",
       "      <td>7861</td>\n",
       "      <td>27963</td>\n",
       "      <td>63.5925</td>\n",
       "      <td>5.750</td>\n",
       "      <td>3.7500</td>\n",
       "      <td>2.5000</td>\n",
       "      <td>1.128516e+11</td>\n",
       "    </tr>\n",
       "  </tbody>\n",
       "</table>\n",
       "</div>"
      ],
      "text/plain": [
       "      DMU           Nama_satker  Tahun  (I)SDM_medis_total  \\\n",
       "0  415485          RS Rotinsulu   2016                 197   \n",
       "1  415511       RS Paru Gunawan   2016                  95   \n",
       "2  415551  RS Paru Ario Wirawan   2016                  94   \n",
       "\n",
       "   (I)SDM_non_medis_total  (I)Jumlah_tempat_tidur    (I)Belanja  \\\n",
       "0                     193                     122   87767720780   \n",
       "1                     348                     173  103707950693   \n",
       "2                     375                     162   75177488820   \n",
       "\n",
       "   (O)Pasien_rawat_inap_orang  (O)Pasien_rawat_jalan_orang  (O)BOR_persen  \\\n",
       "0                        4994                        21343        51.7100   \n",
       "1                        8304                        46928        73.2875   \n",
       "2                        7861                        27963        63.5925   \n",
       "\n",
       "   (O)ALOS_hari  (O)BTO_kali  (O)TOI_hari  (O)Pendapatan  \n",
       "0         5.280       2.9825       5.0625   8.573458e+10  \n",
       "1         6.225       3.4125       2.7000   1.442210e+11  \n",
       "2         5.750       3.7500       2.5000   1.128516e+11  "
      ]
     },
     "execution_count": 17,
     "metadata": {},
     "output_type": "execute_result"
    }
   ],
   "source": [
    "df_paru_16 = klaster_paru(dea_2016)\n",
    "df_paru_16"
   ]
  },
  {
   "cell_type": "markdown",
   "metadata": {},
   "source": [
    "## Sub Kluster Khusus Lain"
   ]
  },
  {
   "cell_type": "code",
   "execution_count": 18,
   "metadata": {
    "ExecuteTime": {
     "end_time": "2021-10-14T08:45:09.473937Z",
     "start_time": "2021-10-14T08:45:09.460972Z"
    }
   },
   "outputs": [],
   "source": [
    "def klaster_lain(df):\n",
    "    dea_lain = df[(df.Nama_satker == 'RS Mata Cicendo') | (df.Nama_satker == 'RS Orthopedi')| (df.Nama_satker == 'RS. OTAK DR. Drs. Hatta BUKITTINGGI')| (df.Nama_satker == 'RSK Dharmais')|(df.Nama_satker == 'RS PON')|(df.Nama_satker == 'RS Jantung Harkit')|(df.Nama_satker == 'RSAB Harkit')|(df.Nama_satker == 'RSPI Sulianti Saroso')]\n",
    "    dea_lain.reset_index(drop=True, inplace=True)\n",
    "    return dea_lain"
   ]
  },
  {
   "cell_type": "code",
   "execution_count": 19,
   "metadata": {
    "ExecuteTime": {
     "end_time": "2021-10-14T08:45:09.504854Z",
     "start_time": "2021-10-14T08:45:09.475933Z"
    }
   },
   "outputs": [
    {
     "data": {
      "text/html": [
       "<div>\n",
       "<style scoped>\n",
       "    .dataframe tbody tr th:only-of-type {\n",
       "        vertical-align: middle;\n",
       "    }\n",
       "\n",
       "    .dataframe tbody tr th {\n",
       "        vertical-align: top;\n",
       "    }\n",
       "\n",
       "    .dataframe thead th {\n",
       "        text-align: right;\n",
       "    }\n",
       "</style>\n",
       "<table border=\"1\" class=\"dataframe\">\n",
       "  <thead>\n",
       "    <tr style=\"text-align: right;\">\n",
       "      <th></th>\n",
       "      <th>DMU</th>\n",
       "      <th>Nama_satker</th>\n",
       "      <th>Tahun</th>\n",
       "      <th>(I)SDM_medis_total</th>\n",
       "      <th>(I)SDM_non_medis_total</th>\n",
       "      <th>(I)Jumlah_tempat_tidur</th>\n",
       "      <th>(I)Belanja</th>\n",
       "      <th>(O)Pasien_rawat_inap_orang</th>\n",
       "      <th>(O)Pasien_rawat_jalan_orang</th>\n",
       "      <th>(O)BOR_persen</th>\n",
       "      <th>(O)ALOS_hari</th>\n",
       "      <th>(O)BTO_kali</th>\n",
       "      <th>(O)TOI_hari</th>\n",
       "      <th>(O)Pendapatan</th>\n",
       "    </tr>\n",
       "  </thead>\n",
       "  <tbody>\n",
       "    <tr>\n",
       "      <th>0</th>\n",
       "      <td>15514</td>\n",
       "      <td>RS PON</td>\n",
       "      <td>2016</td>\n",
       "      <td>517</td>\n",
       "      <td>128</td>\n",
       "      <td>128</td>\n",
       "      <td>229259640027</td>\n",
       "      <td>3194</td>\n",
       "      <td>38661</td>\n",
       "      <td>63.7875</td>\n",
       "      <td>8.9150</td>\n",
       "      <td>2.0000</td>\n",
       "      <td>5.0850</td>\n",
       "      <td>1.015502e+11</td>\n",
       "    </tr>\n",
       "    <tr>\n",
       "      <th>1</th>\n",
       "      <td>257847</td>\n",
       "      <td>RS. OTAK DR. Drs. Hatta BUKITTINGGI</td>\n",
       "      <td>2016</td>\n",
       "      <td>164</td>\n",
       "      <td>416</td>\n",
       "      <td>176</td>\n",
       "      <td>120147341232</td>\n",
       "      <td>7635</td>\n",
       "      <td>39795</td>\n",
       "      <td>65.6650</td>\n",
       "      <td>5.6100</td>\n",
       "      <td>3.8350</td>\n",
       "      <td>3.0000</td>\n",
       "      <td>4.446990e+10</td>\n",
       "    </tr>\n",
       "    <tr>\n",
       "      <th>2</th>\n",
       "      <td>415491</td>\n",
       "      <td>RS Mata Cicendo</td>\n",
       "      <td>2016</td>\n",
       "      <td>140</td>\n",
       "      <td>357</td>\n",
       "      <td>104</td>\n",
       "      <td>193231674861</td>\n",
       "      <td>9904</td>\n",
       "      <td>161034</td>\n",
       "      <td>50.7925</td>\n",
       "      <td>1.8325</td>\n",
       "      <td>22.6675</td>\n",
       "      <td>2.0125</td>\n",
       "      <td>2.837988e+11</td>\n",
       "    </tr>\n",
       "    <tr>\n",
       "      <th>3</th>\n",
       "      <td>415567</td>\n",
       "      <td>RS Orthopedi</td>\n",
       "      <td>2016</td>\n",
       "      <td>172</td>\n",
       "      <td>448</td>\n",
       "      <td>138</td>\n",
       "      <td>248239570863</td>\n",
       "      <td>5067</td>\n",
       "      <td>77653</td>\n",
       "      <td>51.8275</td>\n",
       "      <td>5.0400</td>\n",
       "      <td>9.1550</td>\n",
       "      <td>5.0050</td>\n",
       "      <td>1.590332e+11</td>\n",
       "    </tr>\n",
       "    <tr>\n",
       "      <th>4</th>\n",
       "      <td>415706</td>\n",
       "      <td>RSPI Sulianti Saroso</td>\n",
       "      <td>2016</td>\n",
       "      <td>390</td>\n",
       "      <td>427</td>\n",
       "      <td>186</td>\n",
       "      <td>124664279708</td>\n",
       "      <td>6783</td>\n",
       "      <td>61672</td>\n",
       "      <td>39.6375</td>\n",
       "      <td>5.2500</td>\n",
       "      <td>8.2500</td>\n",
       "      <td>7.2500</td>\n",
       "      <td>1.009890e+11</td>\n",
       "    </tr>\n",
       "    <tr>\n",
       "      <th>5</th>\n",
       "      <td>520611</td>\n",
       "      <td>RSAB Harkit</td>\n",
       "      <td>2016</td>\n",
       "      <td>695</td>\n",
       "      <td>487</td>\n",
       "      <td>328</td>\n",
       "      <td>409816244838</td>\n",
       "      <td>12111</td>\n",
       "      <td>116730</td>\n",
       "      <td>50.4825</td>\n",
       "      <td>5.0350</td>\n",
       "      <td>9.2050</td>\n",
       "      <td>4.9375</td>\n",
       "      <td>2.095114e+11</td>\n",
       "    </tr>\n",
       "    <tr>\n",
       "      <th>6</th>\n",
       "      <td>520628</td>\n",
       "      <td>RS Jantung Harkit</td>\n",
       "      <td>2016</td>\n",
       "      <td>1133</td>\n",
       "      <td>636</td>\n",
       "      <td>331</td>\n",
       "      <td>1990272092103</td>\n",
       "      <td>12548</td>\n",
       "      <td>124087</td>\n",
       "      <td>64.8125</td>\n",
       "      <td>6.1950</td>\n",
       "      <td>9.4825</td>\n",
       "      <td>3.4050</td>\n",
       "      <td>1.588261e+12</td>\n",
       "    </tr>\n",
       "    <tr>\n",
       "      <th>7</th>\n",
       "      <td>548890</td>\n",
       "      <td>RSK Dharmais</td>\n",
       "      <td>2016</td>\n",
       "      <td>938</td>\n",
       "      <td>634</td>\n",
       "      <td>333</td>\n",
       "      <td>697725177900</td>\n",
       "      <td>11669</td>\n",
       "      <td>153161</td>\n",
       "      <td>76.8500</td>\n",
       "      <td>7.2000</td>\n",
       "      <td>8.9750</td>\n",
       "      <td>2.3750</td>\n",
       "      <td>8.288849e+11</td>\n",
       "    </tr>\n",
       "  </tbody>\n",
       "</table>\n",
       "</div>"
      ],
      "text/plain": [
       "      DMU                          Nama_satker  Tahun  (I)SDM_medis_total  \\\n",
       "0   15514                               RS PON   2016                 517   \n",
       "1  257847  RS. OTAK DR. Drs. Hatta BUKITTINGGI   2016                 164   \n",
       "2  415491                      RS Mata Cicendo   2016                 140   \n",
       "3  415567                         RS Orthopedi   2016                 172   \n",
       "4  415706                 RSPI Sulianti Saroso   2016                 390   \n",
       "5  520611                          RSAB Harkit   2016                 695   \n",
       "6  520628                    RS Jantung Harkit   2016                1133   \n",
       "7  548890                         RSK Dharmais   2016                 938   \n",
       "\n",
       "   (I)SDM_non_medis_total  (I)Jumlah_tempat_tidur     (I)Belanja  \\\n",
       "0                     128                     128   229259640027   \n",
       "1                     416                     176   120147341232   \n",
       "2                     357                     104   193231674861   \n",
       "3                     448                     138   248239570863   \n",
       "4                     427                     186   124664279708   \n",
       "5                     487                     328   409816244838   \n",
       "6                     636                     331  1990272092103   \n",
       "7                     634                     333   697725177900   \n",
       "\n",
       "   (O)Pasien_rawat_inap_orang  (O)Pasien_rawat_jalan_orang  (O)BOR_persen  \\\n",
       "0                        3194                        38661        63.7875   \n",
       "1                        7635                        39795        65.6650   \n",
       "2                        9904                       161034        50.7925   \n",
       "3                        5067                        77653        51.8275   \n",
       "4                        6783                        61672        39.6375   \n",
       "5                       12111                       116730        50.4825   \n",
       "6                       12548                       124087        64.8125   \n",
       "7                       11669                       153161        76.8500   \n",
       "\n",
       "   (O)ALOS_hari  (O)BTO_kali  (O)TOI_hari  (O)Pendapatan  \n",
       "0        8.9150       2.0000       5.0850   1.015502e+11  \n",
       "1        5.6100       3.8350       3.0000   4.446990e+10  \n",
       "2        1.8325      22.6675       2.0125   2.837988e+11  \n",
       "3        5.0400       9.1550       5.0050   1.590332e+11  \n",
       "4        5.2500       8.2500       7.2500   1.009890e+11  \n",
       "5        5.0350       9.2050       4.9375   2.095114e+11  \n",
       "6        6.1950       9.4825       3.4050   1.588261e+12  \n",
       "7        7.2000       8.9750       2.3750   8.288849e+11  "
      ]
     },
     "execution_count": 19,
     "metadata": {},
     "output_type": "execute_result"
    }
   ],
   "source": [
    "df_lain_16 = klaster_lain(dea_2016)\n",
    "df_lain_16"
   ]
  },
  {
   "cell_type": "markdown",
   "metadata": {},
   "source": [
    "## Sub Kluster Umum"
   ]
  },
  {
   "cell_type": "code",
   "execution_count": 20,
   "metadata": {
    "ExecuteTime": {
     "end_time": "2021-10-14T08:45:09.519820Z",
     "start_time": "2021-10-14T08:45:09.506849Z"
    }
   },
   "outputs": [],
   "source": [
    "def klaster_umum(df):\n",
    "    dea_umum = df.loc[df.DMU.isin([415423,415432,415582,538815,415618,415624,548886,415479,415661,415448,415536,415573,532214,415397])]\n",
    "    dea_umum.reset_index(drop=True, inplace=True)\n",
    "    return dea_umum"
   ]
  },
  {
   "cell_type": "code",
   "execution_count": 21,
   "metadata": {
    "ExecuteTime": {
     "end_time": "2021-10-14T08:45:09.550732Z",
     "start_time": "2021-10-14T08:45:09.522807Z"
    }
   },
   "outputs": [
    {
     "data": {
      "text/html": [
       "<div>\n",
       "<style scoped>\n",
       "    .dataframe tbody tr th:only-of-type {\n",
       "        vertical-align: middle;\n",
       "    }\n",
       "\n",
       "    .dataframe tbody tr th {\n",
       "        vertical-align: top;\n",
       "    }\n",
       "\n",
       "    .dataframe thead th {\n",
       "        text-align: right;\n",
       "    }\n",
       "</style>\n",
       "<table border=\"1\" class=\"dataframe\">\n",
       "  <thead>\n",
       "    <tr style=\"text-align: right;\">\n",
       "      <th></th>\n",
       "      <th>DMU</th>\n",
       "      <th>Nama_satker</th>\n",
       "      <th>Tahun</th>\n",
       "      <th>(I)SDM_medis_total</th>\n",
       "      <th>(I)SDM_non_medis_total</th>\n",
       "      <th>(I)Jumlah_tempat_tidur</th>\n",
       "      <th>(I)Belanja</th>\n",
       "      <th>(O)Pasien_rawat_inap_orang</th>\n",
       "      <th>(O)Pasien_rawat_jalan_orang</th>\n",
       "      <th>(O)BOR_persen</th>\n",
       "      <th>(O)ALOS_hari</th>\n",
       "      <th>(O)BTO_kali</th>\n",
       "      <th>(O)TOI_hari</th>\n",
       "      <th>(O)Pendapatan</th>\n",
       "    </tr>\n",
       "  </thead>\n",
       "  <tbody>\n",
       "    <tr>\n",
       "      <th>0</th>\n",
       "      <td>415423</td>\n",
       "      <td>RS Cipto Mangunkusumo</td>\n",
       "      <td>2016</td>\n",
       "      <td>1503</td>\n",
       "      <td>3990</td>\n",
       "      <td>915</td>\n",
       "      <td>4540392332667</td>\n",
       "      <td>32832</td>\n",
       "      <td>845944</td>\n",
       "      <td>70.2600</td>\n",
       "      <td>6.8600</td>\n",
       "      <td>8.9700</td>\n",
       "      <td>3.0400</td>\n",
       "      <td>4.349473e+12</td>\n",
       "    </tr>\n",
       "    <tr>\n",
       "      <th>1</th>\n",
       "      <td>415432</td>\n",
       "      <td>RS Fatmawati</td>\n",
       "      <td>2016</td>\n",
       "      <td>633</td>\n",
       "      <td>1886</td>\n",
       "      <td>745</td>\n",
       "      <td>857527800552</td>\n",
       "      <td>28575</td>\n",
       "      <td>329622</td>\n",
       "      <td>78.0025</td>\n",
       "      <td>7.8250</td>\n",
       "      <td>8.7250</td>\n",
       "      <td>2.4475</td>\n",
       "      <td>5.226500e+11</td>\n",
       "    </tr>\n",
       "    <tr>\n",
       "      <th>2</th>\n",
       "      <td>415448</td>\n",
       "      <td>RS Persahabatan</td>\n",
       "      <td>2016</td>\n",
       "      <td>1311</td>\n",
       "      <td>721</td>\n",
       "      <td>585</td>\n",
       "      <td>624678129197</td>\n",
       "      <td>26213</td>\n",
       "      <td>198493</td>\n",
       "      <td>69.1950</td>\n",
       "      <td>5.5075</td>\n",
       "      <td>10.5000</td>\n",
       "      <td>2.2700</td>\n",
       "      <td>7.127384e+11</td>\n",
       "    </tr>\n",
       "    <tr>\n",
       "      <th>3</th>\n",
       "      <td>415479</td>\n",
       "      <td>RSU HASAN SADIKIN BANDUNG</td>\n",
       "      <td>2016</td>\n",
       "      <td>2023</td>\n",
       "      <td>938</td>\n",
       "      <td>944</td>\n",
       "      <td>2215751189003</td>\n",
       "      <td>44168</td>\n",
       "      <td>399679</td>\n",
       "      <td>77.1750</td>\n",
       "      <td>6.0000</td>\n",
       "      <td>10.0000</td>\n",
       "      <td>2.5000</td>\n",
       "      <td>1.635361e+12</td>\n",
       "    </tr>\n",
       "    <tr>\n",
       "      <th>4</th>\n",
       "      <td>415536</td>\n",
       "      <td>RS Kariadi</td>\n",
       "      <td>2016</td>\n",
       "      <td>2244</td>\n",
       "      <td>884</td>\n",
       "      <td>1078</td>\n",
       "      <td>1126740141398</td>\n",
       "      <td>42373</td>\n",
       "      <td>490852</td>\n",
       "      <td>83.7850</td>\n",
       "      <td>7.7625</td>\n",
       "      <td>3.2750</td>\n",
       "      <td>1.5350</td>\n",
       "      <td>1.672025e+12</td>\n",
       "    </tr>\n",
       "    <tr>\n",
       "      <th>5</th>\n",
       "      <td>415573</td>\n",
       "      <td>RS Soeradji</td>\n",
       "      <td>2016</td>\n",
       "      <td>287</td>\n",
       "      <td>922</td>\n",
       "      <td>397</td>\n",
       "      <td>260159511203</td>\n",
       "      <td>23561</td>\n",
       "      <td>204321</td>\n",
       "      <td>73.6150</td>\n",
       "      <td>4.4350</td>\n",
       "      <td>14.8975</td>\n",
       "      <td>1.6475</td>\n",
       "      <td>1.583391e+11</td>\n",
       "    </tr>\n",
       "    <tr>\n",
       "      <th>6</th>\n",
       "      <td>415582</td>\n",
       "      <td>RSU SARDJITO YOGYAKARTA</td>\n",
       "      <td>2016</td>\n",
       "      <td>2108</td>\n",
       "      <td>844</td>\n",
       "      <td>813</td>\n",
       "      <td>920500821578</td>\n",
       "      <td>26958</td>\n",
       "      <td>224313</td>\n",
       "      <td>70.4300</td>\n",
       "      <td>8.0000</td>\n",
       "      <td>8.9950</td>\n",
       "      <td>3.0425</td>\n",
       "      <td>1.328561e+12</td>\n",
       "    </tr>\n",
       "    <tr>\n",
       "      <th>7</th>\n",
       "      <td>415618</td>\n",
       "      <td>RSU DR M JAMIL PADANG</td>\n",
       "      <td>2016</td>\n",
       "      <td>302</td>\n",
       "      <td>1554</td>\n",
       "      <td>800</td>\n",
       "      <td>1080925046138</td>\n",
       "      <td>29201</td>\n",
       "      <td>130096</td>\n",
       "      <td>63.1450</td>\n",
       "      <td>6.5325</td>\n",
       "      <td>2.4975</td>\n",
       "      <td>5.0225</td>\n",
       "      <td>4.923320e+11</td>\n",
       "    </tr>\n",
       "    <tr>\n",
       "      <th>8</th>\n",
       "      <td>415624</td>\n",
       "      <td>RSUP M Hoesin</td>\n",
       "      <td>2016</td>\n",
       "      <td>1626</td>\n",
       "      <td>1136</td>\n",
       "      <td>969</td>\n",
       "      <td>707400310897</td>\n",
       "      <td>35291</td>\n",
       "      <td>242624</td>\n",
       "      <td>75.8200</td>\n",
       "      <td>7.1050</td>\n",
       "      <td>9.1050</td>\n",
       "      <td>2.4300</td>\n",
       "      <td>4.246764e+11</td>\n",
       "    </tr>\n",
       "    <tr>\n",
       "      <th>9</th>\n",
       "      <td>415661</td>\n",
       "      <td>RS Sanglah Denpasar</td>\n",
       "      <td>2016</td>\n",
       "      <td>1428</td>\n",
       "      <td>1375</td>\n",
       "      <td>765</td>\n",
       "      <td>1760432825563</td>\n",
       "      <td>71122</td>\n",
       "      <td>216256</td>\n",
       "      <td>100.5125</td>\n",
       "      <td>4.3775</td>\n",
       "      <td>3.2500</td>\n",
       "      <td>-0.0875</td>\n",
       "      <td>1.215820e+12</td>\n",
       "    </tr>\n",
       "    <tr>\n",
       "      <th>10</th>\n",
       "      <td>532214</td>\n",
       "      <td>RS Adam Malik</td>\n",
       "      <td>2016</td>\n",
       "      <td>1676</td>\n",
       "      <td>633</td>\n",
       "      <td>696</td>\n",
       "      <td>704455209657</td>\n",
       "      <td>22805</td>\n",
       "      <td>206331</td>\n",
       "      <td>71.9525</td>\n",
       "      <td>5.2000</td>\n",
       "      <td>12.0625</td>\n",
       "      <td>2.1425</td>\n",
       "      <td>9.183842e+11</td>\n",
       "    </tr>\n",
       "    <tr>\n",
       "      <th>11</th>\n",
       "      <td>538815</td>\n",
       "      <td>RS Kandou Manado</td>\n",
       "      <td>2016</td>\n",
       "      <td>434</td>\n",
       "      <td>1584</td>\n",
       "      <td>794</td>\n",
       "      <td>674433226699</td>\n",
       "      <td>32947</td>\n",
       "      <td>170435</td>\n",
       "      <td>75.4575</td>\n",
       "      <td>5.0000</td>\n",
       "      <td>10.7500</td>\n",
       "      <td>1.7500</td>\n",
       "      <td>3.708699e+11</td>\n",
       "    </tr>\n",
       "    <tr>\n",
       "      <th>12</th>\n",
       "      <td>548886</td>\n",
       "      <td>RSU WAHIDIN MAKASSAR</td>\n",
       "      <td>2016</td>\n",
       "      <td>1242</td>\n",
       "      <td>977</td>\n",
       "      <td>841</td>\n",
       "      <td>620840952806</td>\n",
       "      <td>97685</td>\n",
       "      <td>145855</td>\n",
       "      <td>79.1775</td>\n",
       "      <td>6.7075</td>\n",
       "      <td>26.8850</td>\n",
       "      <td>1.7575</td>\n",
       "      <td>7.632922e+11</td>\n",
       "    </tr>\n",
       "  </tbody>\n",
       "</table>\n",
       "</div>"
      ],
      "text/plain": [
       "       DMU                Nama_satker  Tahun  (I)SDM_medis_total  \\\n",
       "0   415423      RS Cipto Mangunkusumo   2016                1503   \n",
       "1   415432               RS Fatmawati   2016                 633   \n",
       "2   415448            RS Persahabatan   2016                1311   \n",
       "3   415479  RSU HASAN SADIKIN BANDUNG   2016                2023   \n",
       "4   415536                 RS Kariadi   2016                2244   \n",
       "5   415573                RS Soeradji   2016                 287   \n",
       "6   415582    RSU SARDJITO YOGYAKARTA   2016                2108   \n",
       "7   415618      RSU DR M JAMIL PADANG   2016                 302   \n",
       "8   415624              RSUP M Hoesin   2016                1626   \n",
       "9   415661        RS Sanglah Denpasar   2016                1428   \n",
       "10  532214              RS Adam Malik   2016                1676   \n",
       "11  538815           RS Kandou Manado   2016                 434   \n",
       "12  548886       RSU WAHIDIN MAKASSAR   2016                1242   \n",
       "\n",
       "    (I)SDM_non_medis_total  (I)Jumlah_tempat_tidur     (I)Belanja  \\\n",
       "0                     3990                     915  4540392332667   \n",
       "1                     1886                     745   857527800552   \n",
       "2                      721                     585   624678129197   \n",
       "3                      938                     944  2215751189003   \n",
       "4                      884                    1078  1126740141398   \n",
       "5                      922                     397   260159511203   \n",
       "6                      844                     813   920500821578   \n",
       "7                     1554                     800  1080925046138   \n",
       "8                     1136                     969   707400310897   \n",
       "9                     1375                     765  1760432825563   \n",
       "10                     633                     696   704455209657   \n",
       "11                    1584                     794   674433226699   \n",
       "12                     977                     841   620840952806   \n",
       "\n",
       "    (O)Pasien_rawat_inap_orang  (O)Pasien_rawat_jalan_orang  (O)BOR_persen  \\\n",
       "0                        32832                       845944        70.2600   \n",
       "1                        28575                       329622        78.0025   \n",
       "2                        26213                       198493        69.1950   \n",
       "3                        44168                       399679        77.1750   \n",
       "4                        42373                       490852        83.7850   \n",
       "5                        23561                       204321        73.6150   \n",
       "6                        26958                       224313        70.4300   \n",
       "7                        29201                       130096        63.1450   \n",
       "8                        35291                       242624        75.8200   \n",
       "9                        71122                       216256       100.5125   \n",
       "10                       22805                       206331        71.9525   \n",
       "11                       32947                       170435        75.4575   \n",
       "12                       97685                       145855        79.1775   \n",
       "\n",
       "    (O)ALOS_hari  (O)BTO_kali  (O)TOI_hari  (O)Pendapatan  \n",
       "0         6.8600       8.9700       3.0400   4.349473e+12  \n",
       "1         7.8250       8.7250       2.4475   5.226500e+11  \n",
       "2         5.5075      10.5000       2.2700   7.127384e+11  \n",
       "3         6.0000      10.0000       2.5000   1.635361e+12  \n",
       "4         7.7625       3.2750       1.5350   1.672025e+12  \n",
       "5         4.4350      14.8975       1.6475   1.583391e+11  \n",
       "6         8.0000       8.9950       3.0425   1.328561e+12  \n",
       "7         6.5325       2.4975       5.0225   4.923320e+11  \n",
       "8         7.1050       9.1050       2.4300   4.246764e+11  \n",
       "9         4.3775       3.2500      -0.0875   1.215820e+12  \n",
       "10        5.2000      12.0625       2.1425   9.183842e+11  \n",
       "11        5.0000      10.7500       1.7500   3.708699e+11  \n",
       "12        6.7075      26.8850       1.7575   7.632922e+11  "
      ]
     },
     "execution_count": 21,
     "metadata": {},
     "output_type": "execute_result"
    }
   ],
   "source": [
    "df_umum_16 = klaster_umum(dea_2016)\n",
    "df_umum_16"
   ]
  },
  {
   "cell_type": "markdown",
   "metadata": {},
   "source": [
    "# Klaster Efisiensi"
   ]
  },
  {
   "cell_type": "code",
   "execution_count": 22,
   "metadata": {
    "ExecuteTime": {
     "end_time": "2021-10-14T08:45:09.566730Z",
     "start_time": "2021-10-14T08:45:09.553724Z"
    }
   },
   "outputs": [],
   "source": [
    "##Sub Klaster Efisiensi Tempat Tidur\n",
    "def tempat_tidur(df):\n",
    "    df_tidur = df.drop(['Nama_satker','Tahun','(I)Belanja','(O)Pasien_rawat_inap_orang','(O)Pasien_rawat_jalan_orang','(O)Pendapatan'],axis=1)\n",
    "    return df_tidur"
   ]
  },
  {
   "cell_type": "code",
   "execution_count": 23,
   "metadata": {
    "ExecuteTime": {
     "end_time": "2021-10-14T08:45:09.582688Z",
     "start_time": "2021-10-14T08:45:09.570721Z"
    }
   },
   "outputs": [],
   "source": [
    "##Sub Klaster Efisiensi Rawat Inap\n",
    "def rawat_inap(df):\n",
    "    df_inap = df.drop(['Nama_satker','Tahun','(O)Pasien_rawat_jalan_orang'],axis=1)\n",
    "    return df_inap"
   ]
  },
  {
   "cell_type": "code",
   "execution_count": 24,
   "metadata": {
    "ExecuteTime": {
     "end_time": "2021-10-14T08:45:09.598692Z",
     "start_time": "2021-10-14T08:45:09.587675Z"
    }
   },
   "outputs": [],
   "source": [
    "##Sub Klaster Efisiensi SDM\n",
    "def sdm(df):\n",
    "    df_sdm = df.drop(['Nama_satker','Tahun','(I)Jumlah_tempat_tidur','(I)Belanja','(O)BOR_persen','(O)ALOS_hari','(O)BTO_kali','(O)TOI_hari','(O)Pendapatan'],axis=1)\n",
    "    return df_sdm"
   ]
  },
  {
   "cell_type": "code",
   "execution_count": 25,
   "metadata": {
    "ExecuteTime": {
     "end_time": "2021-10-14T08:45:09.613606Z",
     "start_time": "2021-10-14T08:45:09.602634Z"
    }
   },
   "outputs": [],
   "source": [
    "##Sub Klaster BOPO\n",
    "def bopo(df):\n",
    "    df_bopo = df.drop(['Nama_satker','Tahun','(I)Jumlah_tempat_tidur','(O)BOR_persen','(O)ALOS_hari','(O)BTO_kali','(O)TOI_hari','(I)SDM_medis_total','(I)SDM_non_medis_total','(O)Pasien_rawat_inap_orang','(O)Pasien_rawat_jalan_orang'],axis=1)\n",
    "    return df_bopo"
   ]
  },
  {
   "cell_type": "code",
   "execution_count": 26,
   "metadata": {
    "ExecuteTime": {
     "end_time": "2021-10-14T08:45:09.629563Z",
     "start_time": "2021-10-14T08:45:09.615599Z"
    }
   },
   "outputs": [],
   "source": [
    "## Efisiensi Rawat Jalan\n",
    "def rawat_jalan(df):\n",
    "    df_jalan = df.drop(['Nama_satker','Tahun','(O)BOR_persen','(O)ALOS_hari','(O)BTO_kali','(O)TOI_hari','(O)Pasien_rawat_inap_orang','(I)Jumlah_tempat_tidur'],axis=1)\n",
    "    return df_jalan"
   ]
  },
  {
   "cell_type": "markdown",
   "metadata": {},
   "source": [
    "# TA 2016"
   ]
  },
  {
   "cell_type": "code",
   "execution_count": 27,
   "metadata": {
    "ExecuteTime": {
     "end_time": "2021-10-14T08:45:09.645519Z",
     "start_time": "2021-10-14T08:45:09.630560Z"
    }
   },
   "outputs": [],
   "source": [
    "df_eks_16 = klaster_eks(dea_2016)\n",
    "df_jiwa_16 = klaster_jiwa(dea_2016)\n",
    "df_paru_16 = klaster_paru(dea_2016)\n",
    "df_lain_16 = klaster_lain(dea_2016)\n",
    "df_umum_16 = klaster_umum(dea_2016)"
   ]
  },
  {
   "cell_type": "markdown",
   "metadata": {},
   "source": [
    "## Eks 2016"
   ]
  },
  {
   "cell_type": "code",
   "execution_count": 28,
   "metadata": {
    "ExecuteTime": {
     "end_time": "2021-10-14T08:45:09.661478Z",
     "start_time": "2021-10-14T08:45:09.646518Z"
    }
   },
   "outputs": [
    {
     "data": {
      "text/html": [
       "<div>\n",
       "<style scoped>\n",
       "    .dataframe tbody tr th:only-of-type {\n",
       "        vertical-align: middle;\n",
       "    }\n",
       "\n",
       "    .dataframe tbody tr th {\n",
       "        vertical-align: top;\n",
       "    }\n",
       "\n",
       "    .dataframe thead th {\n",
       "        text-align: right;\n",
       "    }\n",
       "</style>\n",
       "<table border=\"1\" class=\"dataframe\">\n",
       "  <thead>\n",
       "    <tr style=\"text-align: right;\">\n",
       "      <th></th>\n",
       "      <th>DMU</th>\n",
       "      <th>(I)SDM_medis_total</th>\n",
       "      <th>(I)SDM_non_medis_total</th>\n",
       "      <th>(I)Jumlah_tempat_tidur</th>\n",
       "      <th>(O)BOR_persen</th>\n",
       "      <th>(O)ALOS_hari</th>\n",
       "      <th>(O)BTO_kali</th>\n",
       "      <th>(O)TOI_hari</th>\n",
       "    </tr>\n",
       "  </thead>\n",
       "  <tbody>\n",
       "    <tr>\n",
       "      <th>0</th>\n",
       "      <td>258462</td>\n",
       "      <td>178</td>\n",
       "      <td>300</td>\n",
       "      <td>150</td>\n",
       "      <td>29.00</td>\n",
       "      <td>7.0000</td>\n",
       "      <td>4.250</td>\n",
       "      <td>19.0000</td>\n",
       "    </tr>\n",
       "    <tr>\n",
       "      <th>1</th>\n",
       "      <td>415520</td>\n",
       "      <td>312</td>\n",
       "      <td>458</td>\n",
       "      <td>200</td>\n",
       "      <td>34.75</td>\n",
       "      <td>4.2500</td>\n",
       "      <td>3.000</td>\n",
       "      <td>6.7500</td>\n",
       "    </tr>\n",
       "    <tr>\n",
       "      <th>2</th>\n",
       "      <td>415630</td>\n",
       "      <td>165</td>\n",
       "      <td>168</td>\n",
       "      <td>208</td>\n",
       "      <td>23.23</td>\n",
       "      <td>6.7825</td>\n",
       "      <td>0.965</td>\n",
       "      <td>26.8775</td>\n",
       "    </tr>\n",
       "  </tbody>\n",
       "</table>\n",
       "</div>"
      ],
      "text/plain": [
       "      DMU  (I)SDM_medis_total  (I)SDM_non_medis_total  (I)Jumlah_tempat_tidur  \\\n",
       "0  258462                 178                     300                     150   \n",
       "1  415520                 312                     458                     200   \n",
       "2  415630                 165                     168                     208   \n",
       "\n",
       "   (O)BOR_persen  (O)ALOS_hari  (O)BTO_kali  (O)TOI_hari  \n",
       "0          29.00        7.0000        4.250      19.0000  \n",
       "1          34.75        4.2500        3.000       6.7500  \n",
       "2          23.23        6.7825        0.965      26.8775  "
      ]
     },
     "execution_count": 28,
     "metadata": {},
     "output_type": "execute_result"
    }
   ],
   "source": [
    "df_tt_eks_16 = tempat_tidur(df_eks_16)\n",
    "df_inap_eks_16 = rawat_inap(df_eks_16)\n",
    "df_sdm_eks_16 = sdm(df_eks_16)\n",
    "df_bopo_eks_16 = bopo(df_eks_16)\n",
    "df_jalan_eks_16 = rawat_jalan(df_eks_16)\n",
    "df_tt_eks_16.head()"
   ]
  },
  {
   "cell_type": "markdown",
   "metadata": {},
   "source": [
    "## Jiwa 2016"
   ]
  },
  {
   "cell_type": "code",
   "execution_count": 29,
   "metadata": {
    "ExecuteTime": {
     "end_time": "2021-10-14T08:45:09.677435Z",
     "start_time": "2021-10-14T08:45:09.663471Z"
    }
   },
   "outputs": [
    {
     "data": {
      "text/html": [
       "<div>\n",
       "<style scoped>\n",
       "    .dataframe tbody tr th:only-of-type {\n",
       "        vertical-align: middle;\n",
       "    }\n",
       "\n",
       "    .dataframe tbody tr th {\n",
       "        vertical-align: top;\n",
       "    }\n",
       "\n",
       "    .dataframe thead th {\n",
       "        text-align: right;\n",
       "    }\n",
       "</style>\n",
       "<table border=\"1\" class=\"dataframe\">\n",
       "  <thead>\n",
       "    <tr style=\"text-align: right;\">\n",
       "      <th></th>\n",
       "      <th>DMU</th>\n",
       "      <th>(I)Belanja</th>\n",
       "      <th>(O)Pendapatan</th>\n",
       "    </tr>\n",
       "  </thead>\n",
       "  <tbody>\n",
       "    <tr>\n",
       "      <th>0</th>\n",
       "      <td>415454</td>\n",
       "      <td>91952300822</td>\n",
       "      <td>3.050408e+10</td>\n",
       "    </tr>\n",
       "    <tr>\n",
       "      <th>1</th>\n",
       "      <td>415505</td>\n",
       "      <td>190127293278</td>\n",
       "      <td>1.640635e+11</td>\n",
       "    </tr>\n",
       "    <tr>\n",
       "      <th>2</th>\n",
       "      <td>415542</td>\n",
       "      <td>156613508835</td>\n",
       "      <td>1.299076e+11</td>\n",
       "    </tr>\n",
       "    <tr>\n",
       "      <th>3</th>\n",
       "      <td>415598</td>\n",
       "      <td>126306114000</td>\n",
       "      <td>4.765834e+10</td>\n",
       "    </tr>\n",
       "    <tr>\n",
       "      <th>4</th>\n",
       "      <td>415670</td>\n",
       "      <td>43690002935</td>\n",
       "      <td>2.810848e+10</td>\n",
       "    </tr>\n",
       "  </tbody>\n",
       "</table>\n",
       "</div>"
      ],
      "text/plain": [
       "      DMU    (I)Belanja  (O)Pendapatan\n",
       "0  415454   91952300822   3.050408e+10\n",
       "1  415505  190127293278   1.640635e+11\n",
       "2  415542  156613508835   1.299076e+11\n",
       "3  415598  126306114000   4.765834e+10\n",
       "4  415670   43690002935   2.810848e+10"
      ]
     },
     "execution_count": 29,
     "metadata": {},
     "output_type": "execute_result"
    }
   ],
   "source": [
    "df_tt_jiwa_16 = tempat_tidur(df_jiwa_16)\n",
    "df_inap_jiwa_16 = rawat_inap(df_jiwa_16)\n",
    "df_sdm_jiwa_16 = sdm(df_jiwa_16)\n",
    "df_bopo_jiwa_16 = bopo(df_jiwa_16)\n",
    "df_jalan_jiwa_16 = rawat_jalan(df_jiwa_16)\n",
    "df_bopo_jiwa_16.head()"
   ]
  },
  {
   "cell_type": "markdown",
   "metadata": {},
   "source": [
    "## Paru 2016"
   ]
  },
  {
   "cell_type": "code",
   "execution_count": 30,
   "metadata": {
    "ExecuteTime": {
     "end_time": "2021-10-14T08:45:09.693392Z",
     "start_time": "2021-10-14T08:45:09.680428Z"
    }
   },
   "outputs": [
    {
     "data": {
      "text/html": [
       "<div>\n",
       "<style scoped>\n",
       "    .dataframe tbody tr th:only-of-type {\n",
       "        vertical-align: middle;\n",
       "    }\n",
       "\n",
       "    .dataframe tbody tr th {\n",
       "        vertical-align: top;\n",
       "    }\n",
       "\n",
       "    .dataframe thead th {\n",
       "        text-align: right;\n",
       "    }\n",
       "</style>\n",
       "<table border=\"1\" class=\"dataframe\">\n",
       "  <thead>\n",
       "    <tr style=\"text-align: right;\">\n",
       "      <th></th>\n",
       "      <th>DMU</th>\n",
       "      <th>(I)Belanja</th>\n",
       "      <th>(O)Pendapatan</th>\n",
       "    </tr>\n",
       "  </thead>\n",
       "  <tbody>\n",
       "    <tr>\n",
       "      <th>0</th>\n",
       "      <td>415485</td>\n",
       "      <td>87767720780</td>\n",
       "      <td>8.573458e+10</td>\n",
       "    </tr>\n",
       "    <tr>\n",
       "      <th>1</th>\n",
       "      <td>415511</td>\n",
       "      <td>103707950693</td>\n",
       "      <td>1.442210e+11</td>\n",
       "    </tr>\n",
       "    <tr>\n",
       "      <th>2</th>\n",
       "      <td>415551</td>\n",
       "      <td>75177488820</td>\n",
       "      <td>1.128516e+11</td>\n",
       "    </tr>\n",
       "  </tbody>\n",
       "</table>\n",
       "</div>"
      ],
      "text/plain": [
       "      DMU    (I)Belanja  (O)Pendapatan\n",
       "0  415485   87767720780   8.573458e+10\n",
       "1  415511  103707950693   1.442210e+11\n",
       "2  415551   75177488820   1.128516e+11"
      ]
     },
     "execution_count": 30,
     "metadata": {},
     "output_type": "execute_result"
    }
   ],
   "source": [
    "df_tt_paru_16 = tempat_tidur(df_paru_16)\n",
    "df_inap_paru_16 = rawat_inap(df_paru_16)\n",
    "df_sdm_paru_16 = sdm(df_paru_16)\n",
    "df_bopo_paru_16 = bopo(df_paru_16)\n",
    "df_jalan_paru_16 = rawat_jalan(df_paru_16)\n",
    "df_bopo_paru_16.head()"
   ]
  },
  {
   "cell_type": "markdown",
   "metadata": {},
   "source": [
    "## Khusus Lain 2016"
   ]
  },
  {
   "cell_type": "code",
   "execution_count": 31,
   "metadata": {
    "ExecuteTime": {
     "end_time": "2021-10-14T08:45:09.723312Z",
     "start_time": "2021-10-14T08:45:09.695388Z"
    }
   },
   "outputs": [
    {
     "data": {
      "text/html": [
       "<div>\n",
       "<style scoped>\n",
       "    .dataframe tbody tr th:only-of-type {\n",
       "        vertical-align: middle;\n",
       "    }\n",
       "\n",
       "    .dataframe tbody tr th {\n",
       "        vertical-align: top;\n",
       "    }\n",
       "\n",
       "    .dataframe thead th {\n",
       "        text-align: right;\n",
       "    }\n",
       "</style>\n",
       "<table border=\"1\" class=\"dataframe\">\n",
       "  <thead>\n",
       "    <tr style=\"text-align: right;\">\n",
       "      <th></th>\n",
       "      <th>DMU</th>\n",
       "      <th>(I)Belanja</th>\n",
       "      <th>(O)Pendapatan</th>\n",
       "    </tr>\n",
       "  </thead>\n",
       "  <tbody>\n",
       "    <tr>\n",
       "      <th>0</th>\n",
       "      <td>15514</td>\n",
       "      <td>229259640027</td>\n",
       "      <td>1.015502e+11</td>\n",
       "    </tr>\n",
       "    <tr>\n",
       "      <th>1</th>\n",
       "      <td>257847</td>\n",
       "      <td>120147341232</td>\n",
       "      <td>4.446990e+10</td>\n",
       "    </tr>\n",
       "    <tr>\n",
       "      <th>2</th>\n",
       "      <td>415491</td>\n",
       "      <td>193231674861</td>\n",
       "      <td>2.837988e+11</td>\n",
       "    </tr>\n",
       "    <tr>\n",
       "      <th>3</th>\n",
       "      <td>415567</td>\n",
       "      <td>248239570863</td>\n",
       "      <td>1.590332e+11</td>\n",
       "    </tr>\n",
       "    <tr>\n",
       "      <th>4</th>\n",
       "      <td>415706</td>\n",
       "      <td>124664279708</td>\n",
       "      <td>1.009890e+11</td>\n",
       "    </tr>\n",
       "  </tbody>\n",
       "</table>\n",
       "</div>"
      ],
      "text/plain": [
       "      DMU    (I)Belanja  (O)Pendapatan\n",
       "0   15514  229259640027   1.015502e+11\n",
       "1  257847  120147341232   4.446990e+10\n",
       "2  415491  193231674861   2.837988e+11\n",
       "3  415567  248239570863   1.590332e+11\n",
       "4  415706  124664279708   1.009890e+11"
      ]
     },
     "execution_count": 31,
     "metadata": {},
     "output_type": "execute_result"
    }
   ],
   "source": [
    "df_tt_lain_16 = tempat_tidur(df_lain_16)\n",
    "df_inap_lain_16 = rawat_inap(df_lain_16)\n",
    "df_sdm_lain_16 = sdm(df_lain_16)\n",
    "df_bopo_lain_16 = bopo(df_lain_16)\n",
    "df_jalan_lain_16 = rawat_jalan(df_lain_16)\n",
    "df_bopo_lain_16.head()"
   ]
  },
  {
   "cell_type": "markdown",
   "metadata": {},
   "source": [
    "## Umum 2016"
   ]
  },
  {
   "cell_type": "code",
   "execution_count": 32,
   "metadata": {
    "ExecuteTime": {
     "end_time": "2021-10-14T08:45:09.739269Z",
     "start_time": "2021-10-14T08:45:09.725309Z"
    }
   },
   "outputs": [
    {
     "data": {
      "text/html": [
       "<div>\n",
       "<style scoped>\n",
       "    .dataframe tbody tr th:only-of-type {\n",
       "        vertical-align: middle;\n",
       "    }\n",
       "\n",
       "    .dataframe tbody tr th {\n",
       "        vertical-align: top;\n",
       "    }\n",
       "\n",
       "    .dataframe thead th {\n",
       "        text-align: right;\n",
       "    }\n",
       "</style>\n",
       "<table border=\"1\" class=\"dataframe\">\n",
       "  <thead>\n",
       "    <tr style=\"text-align: right;\">\n",
       "      <th></th>\n",
       "      <th>DMU</th>\n",
       "      <th>(I)Belanja</th>\n",
       "      <th>(O)Pendapatan</th>\n",
       "    </tr>\n",
       "  </thead>\n",
       "  <tbody>\n",
       "    <tr>\n",
       "      <th>0</th>\n",
       "      <td>415423</td>\n",
       "      <td>4540392332667</td>\n",
       "      <td>4.349473e+12</td>\n",
       "    </tr>\n",
       "    <tr>\n",
       "      <th>1</th>\n",
       "      <td>415432</td>\n",
       "      <td>857527800552</td>\n",
       "      <td>5.226500e+11</td>\n",
       "    </tr>\n",
       "    <tr>\n",
       "      <th>2</th>\n",
       "      <td>415448</td>\n",
       "      <td>624678129197</td>\n",
       "      <td>7.127384e+11</td>\n",
       "    </tr>\n",
       "    <tr>\n",
       "      <th>3</th>\n",
       "      <td>415479</td>\n",
       "      <td>2215751189003</td>\n",
       "      <td>1.635361e+12</td>\n",
       "    </tr>\n",
       "    <tr>\n",
       "      <th>4</th>\n",
       "      <td>415536</td>\n",
       "      <td>1126740141398</td>\n",
       "      <td>1.672025e+12</td>\n",
       "    </tr>\n",
       "  </tbody>\n",
       "</table>\n",
       "</div>"
      ],
      "text/plain": [
       "      DMU     (I)Belanja  (O)Pendapatan\n",
       "0  415423  4540392332667   4.349473e+12\n",
       "1  415432   857527800552   5.226500e+11\n",
       "2  415448   624678129197   7.127384e+11\n",
       "3  415479  2215751189003   1.635361e+12\n",
       "4  415536  1126740141398   1.672025e+12"
      ]
     },
     "execution_count": 32,
     "metadata": {},
     "output_type": "execute_result"
    }
   ],
   "source": [
    "df_tt_umum_16 = tempat_tidur(df_umum_16)\n",
    "df_inap_umum_16 = rawat_inap(df_umum_16)\n",
    "df_sdm_umum_16 = sdm(df_umum_16)\n",
    "df_bopo_umum_16 = bopo(df_umum_16)\n",
    "df_jalan_umum_16 = rawat_jalan(df_umum_16)\n",
    "df_bopo_umum_16.head()"
   ]
  },
  {
   "cell_type": "code",
   "execution_count": 33,
   "metadata": {
    "ExecuteTime": {
     "end_time": "2021-10-14T08:45:09.755227Z",
     "start_time": "2021-10-14T08:45:09.741265Z"
    }
   },
   "outputs": [],
   "source": [
    "# #Export ke Excel (per klaster)\n",
    "# df_eks_16.to_excel(\"df_eks_16.xlsx\") \n",
    "# df_jiwa_16.to_excel(\"df_jiwa_16.xlsx\") \n",
    "# df_paru_16.to_excel(\"df_paru_16.xlsx\") \n",
    "# df_lain_16.to_excel(\"df_lain_16.xlsx\") \n",
    "# df_umum_16.to_excel(\"df_umum_16.xlsx\")"
   ]
  },
  {
   "cell_type": "markdown",
   "metadata": {},
   "source": [
    "## PyDEA 2016"
   ]
  },
  {
   "cell_type": "code",
   "execution_count": 34,
   "metadata": {
    "ExecuteTime": {
     "end_time": "2021-10-14T08:45:09.771184Z",
     "start_time": "2021-10-14T08:45:09.757221Z"
    }
   },
   "outputs": [],
   "source": [
    "def input(df):\n",
    "    df = df[['(I)SDM_medis_total','(I)SDM_non_medis_total','(I)Jumlah_tempat_tidur','(I)Belanja']]\n",
    "    return df\n",
    "\n",
    "def output(df):\n",
    "    df = df[['(O)Pasien_rawat_inap_orang','(O)Pasien_rawat_jalan_orang','(O)BOR_persen','(O)ALOS_hari','(O)BTO_kali','(O)TOI_hari','(O)Pendapatan']]\n",
    "    return df"
   ]
  },
  {
   "cell_type": "code",
   "execution_count": 35,
   "metadata": {
    "ExecuteTime": {
     "end_time": "2021-10-14T08:45:09.787141Z",
     "start_time": "2021-10-14T08:45:09.773178Z"
    }
   },
   "outputs": [],
   "source": [
    "def input_bopo(df):\n",
    "    df = df[['(I)Belanja']]\n",
    "    return df\n",
    "\n",
    "def output_bopo(df):\n",
    "    df = df[['(O)Pendapatan']]\n",
    "    return df"
   ]
  },
  {
   "cell_type": "code",
   "execution_count": 36,
   "metadata": {
    "ExecuteTime": {
     "end_time": "2021-10-14T08:45:09.803099Z",
     "start_time": "2021-10-14T08:45:09.789138Z"
    }
   },
   "outputs": [],
   "source": [
    "#BOPO\n",
    "input_eks_16 = input_bopo(df_eks_16)\n",
    "output_eks_16 = input_bopo(df_eks_16)"
   ]
  },
  {
   "cell_type": "code",
   "execution_count": 37,
   "metadata": {
    "ExecuteTime": {
     "end_time": "2021-10-14T08:45:09.879896Z",
     "start_time": "2021-10-14T08:45:09.805092Z"
    }
   },
   "outputs": [],
   "source": [
    "import pydea as dea\n",
    "uni_prob = dea.DEAProblem(input_eks_16, output_eks_16, returns='VRS')"
   ]
  },
  {
   "cell_type": "code",
   "execution_count": 38,
   "metadata": {
    "ExecuteTime": {
     "end_time": "2021-10-14T08:45:10.035533Z",
     "start_time": "2021-10-14T08:45:09.883885Z"
    }
   },
   "outputs": [
    {
     "data": {
      "text/plain": [
       "0    Optimal\n",
       "1    Optimal\n",
       "2    Optimal\n",
       "Name: Status, dtype: object"
      ]
     },
     "execution_count": 38,
     "metadata": {},
     "output_type": "execute_result"
    }
   ],
   "source": [
    "myresults = uni_prob.solve()\n",
    "myresults['Status']"
   ]
  },
  {
   "cell_type": "code",
   "execution_count": 39,
   "metadata": {
    "ExecuteTime": {
     "end_time": "2021-10-14T08:45:10.050493Z",
     "start_time": "2021-10-14T08:45:10.037528Z"
    }
   },
   "outputs": [
    {
     "data": {
      "text/plain": [
       "0    1.0\n",
       "1    1.0\n",
       "2    1.0\n",
       "Name: Efficiency, dtype: float64"
      ]
     },
     "execution_count": 39,
     "metadata": {},
     "output_type": "execute_result"
    }
   ],
   "source": [
    "myresults['Efficiency']"
   ]
  },
  {
   "cell_type": "code",
   "execution_count": 40,
   "metadata": {
    "ExecuteTime": {
     "end_time": "2021-10-14T08:45:10.066450Z",
     "start_time": "2021-10-14T08:45:10.052488Z"
    }
   },
   "outputs": [
    {
     "data": {
      "text/html": [
       "<div>\n",
       "<style scoped>\n",
       "    .dataframe tbody tr th:only-of-type {\n",
       "        vertical-align: middle;\n",
       "    }\n",
       "\n",
       "    .dataframe tbody tr th {\n",
       "        vertical-align: top;\n",
       "    }\n",
       "\n",
       "    .dataframe thead th {\n",
       "        text-align: right;\n",
       "    }\n",
       "</style>\n",
       "<table border=\"1\" class=\"dataframe\">\n",
       "  <thead>\n",
       "    <tr style=\"text-align: right;\">\n",
       "      <th></th>\n",
       "      <th>in_(I)Belanja</th>\n",
       "      <th>out_(I)Belanja</th>\n",
       "    </tr>\n",
       "  </thead>\n",
       "  <tbody>\n",
       "    <tr>\n",
       "      <th>0</th>\n",
       "      <td>1.182369e-11</td>\n",
       "      <td>1.182369e-11</td>\n",
       "    </tr>\n",
       "    <tr>\n",
       "      <th>1</th>\n",
       "      <td>1.025834e-11</td>\n",
       "      <td>1.025834e-11</td>\n",
       "    </tr>\n",
       "    <tr>\n",
       "      <th>2</th>\n",
       "      <td>2.257396e-11</td>\n",
       "      <td>0.000000e+00</td>\n",
       "    </tr>\n",
       "  </tbody>\n",
       "</table>\n",
       "</div>"
      ],
      "text/plain": [
       "   in_(I)Belanja  out_(I)Belanja\n",
       "0   1.182369e-11    1.182369e-11\n",
       "1   1.025834e-11    1.025834e-11\n",
       "2   2.257396e-11    0.000000e+00"
      ]
     },
     "execution_count": 40,
     "metadata": {},
     "output_type": "execute_result"
    }
   ],
   "source": [
    "myresults['Weights']"
   ]
  },
  {
   "cell_type": "markdown",
   "metadata": {},
   "source": [
    "# TA 2017"
   ]
  },
  {
   "cell_type": "code",
   "execution_count": 41,
   "metadata": {
    "ExecuteTime": {
     "end_time": "2021-10-14T08:45:10.081410Z",
     "start_time": "2021-10-14T08:45:10.068445Z"
    }
   },
   "outputs": [],
   "source": [
    "#Memetakan Data\n",
    "df_eks_17 = klaster_eks(dea_2017)\n",
    "df_jiwa_17 = klaster_jiwa(dea_2017)\n",
    "df_paru_17 = klaster_paru(dea_2017)\n",
    "df_lain_17 = klaster_lain(dea_2017)\n",
    "df_umum_17 = klaster_umum(dea_2017)"
   ]
  },
  {
   "cell_type": "markdown",
   "metadata": {},
   "source": [
    "## Eks 2017"
   ]
  },
  {
   "cell_type": "code",
   "execution_count": 42,
   "metadata": {
    "ExecuteTime": {
     "end_time": "2021-10-14T08:45:10.111330Z",
     "start_time": "2021-10-14T08:45:10.084403Z"
    }
   },
   "outputs": [
    {
     "data": {
      "text/html": [
       "<div>\n",
       "<style scoped>\n",
       "    .dataframe tbody tr th:only-of-type {\n",
       "        vertical-align: middle;\n",
       "    }\n",
       "\n",
       "    .dataframe tbody tr th {\n",
       "        vertical-align: top;\n",
       "    }\n",
       "\n",
       "    .dataframe thead th {\n",
       "        text-align: right;\n",
       "    }\n",
       "</style>\n",
       "<table border=\"1\" class=\"dataframe\">\n",
       "  <thead>\n",
       "    <tr style=\"text-align: right;\">\n",
       "      <th></th>\n",
       "      <th>DMU</th>\n",
       "      <th>(I)SDM_medis_total</th>\n",
       "      <th>(I)SDM_non_medis_total</th>\n",
       "      <th>(I)Jumlah_tempat_tidur</th>\n",
       "      <th>(O)BOR_persen</th>\n",
       "      <th>(O)ALOS_hari</th>\n",
       "      <th>(O)BTO_kali</th>\n",
       "      <th>(O)TOI_hari</th>\n",
       "    </tr>\n",
       "  </thead>\n",
       "  <tbody>\n",
       "    <tr>\n",
       "      <th>0</th>\n",
       "      <td>258462</td>\n",
       "      <td>177</td>\n",
       "      <td>300</td>\n",
       "      <td>150</td>\n",
       "      <td>28.7500</td>\n",
       "      <td>4.50</td>\n",
       "      <td>6.0000</td>\n",
       "      <td>8.25</td>\n",
       "    </tr>\n",
       "    <tr>\n",
       "      <th>1</th>\n",
       "      <td>415520</td>\n",
       "      <td>309</td>\n",
       "      <td>436</td>\n",
       "      <td>200</td>\n",
       "      <td>32.7500</td>\n",
       "      <td>4.00</td>\n",
       "      <td>3.0000</td>\n",
       "      <td>7.00</td>\n",
       "    </tr>\n",
       "    <tr>\n",
       "      <th>2</th>\n",
       "      <td>415630</td>\n",
       "      <td>179</td>\n",
       "      <td>126</td>\n",
       "      <td>184</td>\n",
       "      <td>17.9475</td>\n",
       "      <td>8.04</td>\n",
       "      <td>0.6525</td>\n",
       "      <td>39.17</td>\n",
       "    </tr>\n",
       "  </tbody>\n",
       "</table>\n",
       "</div>"
      ],
      "text/plain": [
       "      DMU  (I)SDM_medis_total  (I)SDM_non_medis_total  (I)Jumlah_tempat_tidur  \\\n",
       "0  258462                 177                     300                     150   \n",
       "1  415520                 309                     436                     200   \n",
       "2  415630                 179                     126                     184   \n",
       "\n",
       "   (O)BOR_persen  (O)ALOS_hari  (O)BTO_kali  (O)TOI_hari  \n",
       "0        28.7500          4.50       6.0000         8.25  \n",
       "1        32.7500          4.00       3.0000         7.00  \n",
       "2        17.9475          8.04       0.6525        39.17  "
      ]
     },
     "execution_count": 42,
     "metadata": {},
     "output_type": "execute_result"
    }
   ],
   "source": [
    "df_tt_eks_17 = tempat_tidur(df_eks_17)\n",
    "df_inap_eks_17 = rawat_inap(df_eks_17)\n",
    "df_sdm_eks_17 = sdm(df_eks_17)\n",
    "df_bopo_eks_17 = bopo(df_eks_17)\n",
    "df_jalan_eks_17 = rawat_jalan(df_eks_17)\n",
    "df_tt_eks_17.head()"
   ]
  },
  {
   "cell_type": "markdown",
   "metadata": {},
   "source": [
    "## Jiwa 2017"
   ]
  },
  {
   "cell_type": "code",
   "execution_count": 43,
   "metadata": {
    "ExecuteTime": {
     "end_time": "2021-10-14T08:45:10.127267Z",
     "start_time": "2021-10-14T08:45:10.113332Z"
    }
   },
   "outputs": [
    {
     "data": {
      "text/html": [
       "<div>\n",
       "<style scoped>\n",
       "    .dataframe tbody tr th:only-of-type {\n",
       "        vertical-align: middle;\n",
       "    }\n",
       "\n",
       "    .dataframe tbody tr th {\n",
       "        vertical-align: top;\n",
       "    }\n",
       "\n",
       "    .dataframe thead th {\n",
       "        text-align: right;\n",
       "    }\n",
       "</style>\n",
       "<table border=\"1\" class=\"dataframe\">\n",
       "  <thead>\n",
       "    <tr style=\"text-align: right;\">\n",
       "      <th></th>\n",
       "      <th>DMU</th>\n",
       "      <th>(I)Belanja</th>\n",
       "      <th>(O)Pendapatan</th>\n",
       "    </tr>\n",
       "  </thead>\n",
       "  <tbody>\n",
       "    <tr>\n",
       "      <th>0</th>\n",
       "      <td>415454</td>\n",
       "      <td>1.048270e+11</td>\n",
       "      <td>3.957379e+10</td>\n",
       "    </tr>\n",
       "    <tr>\n",
       "      <th>1</th>\n",
       "      <td>415505</td>\n",
       "      <td>1.803338e+11</td>\n",
       "      <td>1.327847e+11</td>\n",
       "    </tr>\n",
       "    <tr>\n",
       "      <th>2</th>\n",
       "      <td>415542</td>\n",
       "      <td>1.532945e+11</td>\n",
       "      <td>7.996928e+10</td>\n",
       "    </tr>\n",
       "    <tr>\n",
       "      <th>3</th>\n",
       "      <td>415598</td>\n",
       "      <td>1.280318e+11</td>\n",
       "      <td>5.633090e+10</td>\n",
       "    </tr>\n",
       "    <tr>\n",
       "      <th>4</th>\n",
       "      <td>415670</td>\n",
       "      <td>5.993167e+10</td>\n",
       "      <td>1.850951e+10</td>\n",
       "    </tr>\n",
       "  </tbody>\n",
       "</table>\n",
       "</div>"
      ],
      "text/plain": [
       "      DMU    (I)Belanja  (O)Pendapatan\n",
       "0  415454  1.048270e+11   3.957379e+10\n",
       "1  415505  1.803338e+11   1.327847e+11\n",
       "2  415542  1.532945e+11   7.996928e+10\n",
       "3  415598  1.280318e+11   5.633090e+10\n",
       "4  415670  5.993167e+10   1.850951e+10"
      ]
     },
     "execution_count": 43,
     "metadata": {},
     "output_type": "execute_result"
    }
   ],
   "source": [
    "df_tt_jiwa_17 = tempat_tidur(df_jiwa_17)\n",
    "df_inap_jiwa_17 = rawat_inap(df_jiwa_17)\n",
    "df_sdm_jiwa_17 = sdm(df_jiwa_17)\n",
    "df_bopo_jiwa_17 = bopo(df_jiwa_17)\n",
    "df_jalan_jiwa_17 = rawat_jalan(df_jiwa_17)\n",
    "df_bopo_jiwa_17.head()"
   ]
  },
  {
   "cell_type": "markdown",
   "metadata": {},
   "source": [
    "## Paru 2017"
   ]
  },
  {
   "cell_type": "code",
   "execution_count": 44,
   "metadata": {
    "ExecuteTime": {
     "end_time": "2021-10-14T08:45:10.143221Z",
     "start_time": "2021-10-14T08:45:10.130269Z"
    }
   },
   "outputs": [
    {
     "data": {
      "text/html": [
       "<div>\n",
       "<style scoped>\n",
       "    .dataframe tbody tr th:only-of-type {\n",
       "        vertical-align: middle;\n",
       "    }\n",
       "\n",
       "    .dataframe tbody tr th {\n",
       "        vertical-align: top;\n",
       "    }\n",
       "\n",
       "    .dataframe thead th {\n",
       "        text-align: right;\n",
       "    }\n",
       "</style>\n",
       "<table border=\"1\" class=\"dataframe\">\n",
       "  <thead>\n",
       "    <tr style=\"text-align: right;\">\n",
       "      <th></th>\n",
       "      <th>DMU</th>\n",
       "      <th>(I)Belanja</th>\n",
       "      <th>(O)Pendapatan</th>\n",
       "    </tr>\n",
       "  </thead>\n",
       "  <tbody>\n",
       "    <tr>\n",
       "      <th>0</th>\n",
       "      <td>415485</td>\n",
       "      <td>8.471791e+10</td>\n",
       "      <td>4.695262e+10</td>\n",
       "    </tr>\n",
       "    <tr>\n",
       "      <th>1</th>\n",
       "      <td>415511</td>\n",
       "      <td>1.203693e+11</td>\n",
       "      <td>7.527025e+10</td>\n",
       "    </tr>\n",
       "    <tr>\n",
       "      <th>2</th>\n",
       "      <td>415551</td>\n",
       "      <td>9.278398e+10</td>\n",
       "      <td>5.708708e+10</td>\n",
       "    </tr>\n",
       "  </tbody>\n",
       "</table>\n",
       "</div>"
      ],
      "text/plain": [
       "      DMU    (I)Belanja  (O)Pendapatan\n",
       "0  415485  8.471791e+10   4.695262e+10\n",
       "1  415511  1.203693e+11   7.527025e+10\n",
       "2  415551  9.278398e+10   5.708708e+10"
      ]
     },
     "execution_count": 44,
     "metadata": {},
     "output_type": "execute_result"
    }
   ],
   "source": [
    "df_tt_paru_17 = tempat_tidur(df_paru_17)\n",
    "df_inap_paru_17 = rawat_inap(df_paru_17)\n",
    "df_sdm_paru_17 = sdm(df_paru_17)\n",
    "df_bopo_paru_17 = bopo(df_paru_17)\n",
    "df_jalan_paru_17 = rawat_jalan(df_paru_17)\n",
    "df_bopo_paru_17.head()"
   ]
  },
  {
   "cell_type": "markdown",
   "metadata": {},
   "source": [
    "## Khusus Lain 2017"
   ]
  },
  {
   "cell_type": "code",
   "execution_count": 45,
   "metadata": {
    "ExecuteTime": {
     "end_time": "2021-10-14T08:45:10.174137Z",
     "start_time": "2021-10-14T08:45:10.145216Z"
    }
   },
   "outputs": [
    {
     "data": {
      "text/html": [
       "<div>\n",
       "<style scoped>\n",
       "    .dataframe tbody tr th:only-of-type {\n",
       "        vertical-align: middle;\n",
       "    }\n",
       "\n",
       "    .dataframe tbody tr th {\n",
       "        vertical-align: top;\n",
       "    }\n",
       "\n",
       "    .dataframe thead th {\n",
       "        text-align: right;\n",
       "    }\n",
       "</style>\n",
       "<table border=\"1\" class=\"dataframe\">\n",
       "  <thead>\n",
       "    <tr style=\"text-align: right;\">\n",
       "      <th></th>\n",
       "      <th>DMU</th>\n",
       "      <th>(I)Belanja</th>\n",
       "      <th>(O)Pendapatan</th>\n",
       "    </tr>\n",
       "  </thead>\n",
       "  <tbody>\n",
       "    <tr>\n",
       "      <th>0</th>\n",
       "      <td>15514</td>\n",
       "      <td>2.518652e+11</td>\n",
       "      <td>2.251923e+11</td>\n",
       "    </tr>\n",
       "    <tr>\n",
       "      <th>1</th>\n",
       "      <td>257847</td>\n",
       "      <td>1.249235e+11</td>\n",
       "      <td>4.830066e+10</td>\n",
       "    </tr>\n",
       "    <tr>\n",
       "      <th>2</th>\n",
       "      <td>415491</td>\n",
       "      <td>2.276267e+11</td>\n",
       "      <td>1.633393e+11</td>\n",
       "    </tr>\n",
       "    <tr>\n",
       "      <th>3</th>\n",
       "      <td>415567</td>\n",
       "      <td>3.076011e+11</td>\n",
       "      <td>1.663450e+11</td>\n",
       "    </tr>\n",
       "    <tr>\n",
       "      <th>4</th>\n",
       "      <td>415706</td>\n",
       "      <td>1.617623e+11</td>\n",
       "      <td>4.221077e+10</td>\n",
       "    </tr>\n",
       "  </tbody>\n",
       "</table>\n",
       "</div>"
      ],
      "text/plain": [
       "      DMU    (I)Belanja  (O)Pendapatan\n",
       "0   15514  2.518652e+11   2.251923e+11\n",
       "1  257847  1.249235e+11   4.830066e+10\n",
       "2  415491  2.276267e+11   1.633393e+11\n",
       "3  415567  3.076011e+11   1.663450e+11\n",
       "4  415706  1.617623e+11   4.221077e+10"
      ]
     },
     "execution_count": 45,
     "metadata": {},
     "output_type": "execute_result"
    }
   ],
   "source": [
    "df_tt_lain_17 = tempat_tidur(df_lain_17)\n",
    "df_inap_lain_17 = rawat_inap(df_lain_17)\n",
    "df_sdm_lain_17 = sdm(df_lain_17)\n",
    "df_bopo_lain_17 = bopo(df_lain_17)\n",
    "df_jalan_lain_17 = rawat_jalan(df_lain_17)\n",
    "df_bopo_lain_17.head()"
   ]
  },
  {
   "cell_type": "markdown",
   "metadata": {},
   "source": [
    "## Umum 2017"
   ]
  },
  {
   "cell_type": "code",
   "execution_count": 46,
   "metadata": {
    "ExecuteTime": {
     "end_time": "2021-10-14T08:45:10.204057Z",
     "start_time": "2021-10-14T08:45:10.176134Z"
    }
   },
   "outputs": [
    {
     "data": {
      "text/html": [
       "<div>\n",
       "<style scoped>\n",
       "    .dataframe tbody tr th:only-of-type {\n",
       "        vertical-align: middle;\n",
       "    }\n",
       "\n",
       "    .dataframe tbody tr th {\n",
       "        vertical-align: top;\n",
       "    }\n",
       "\n",
       "    .dataframe thead th {\n",
       "        text-align: right;\n",
       "    }\n",
       "</style>\n",
       "<table border=\"1\" class=\"dataframe\">\n",
       "  <thead>\n",
       "    <tr style=\"text-align: right;\">\n",
       "      <th></th>\n",
       "      <th>DMU</th>\n",
       "      <th>(I)Belanja</th>\n",
       "      <th>(O)Pendapatan</th>\n",
       "    </tr>\n",
       "  </thead>\n",
       "  <tbody>\n",
       "    <tr>\n",
       "      <th>0</th>\n",
       "      <td>415423</td>\n",
       "      <td>4.931944e+12</td>\n",
       "      <td>4.491883e+12</td>\n",
       "    </tr>\n",
       "    <tr>\n",
       "      <th>1</th>\n",
       "      <td>415432</td>\n",
       "      <td>7.072516e+11</td>\n",
       "      <td>5.687698e+11</td>\n",
       "    </tr>\n",
       "    <tr>\n",
       "      <th>2</th>\n",
       "      <td>415448</td>\n",
       "      <td>5.450065e+11</td>\n",
       "      <td>3.903895e+11</td>\n",
       "    </tr>\n",
       "    <tr>\n",
       "      <th>3</th>\n",
       "      <td>415479</td>\n",
       "      <td>1.922639e+12</td>\n",
       "      <td>1.373063e+12</td>\n",
       "    </tr>\n",
       "    <tr>\n",
       "      <th>4</th>\n",
       "      <td>415536</td>\n",
       "      <td>1.267507e+12</td>\n",
       "      <td>1.050396e+12</td>\n",
       "    </tr>\n",
       "  </tbody>\n",
       "</table>\n",
       "</div>"
      ],
      "text/plain": [
       "      DMU    (I)Belanja  (O)Pendapatan\n",
       "0  415423  4.931944e+12   4.491883e+12\n",
       "1  415432  7.072516e+11   5.687698e+11\n",
       "2  415448  5.450065e+11   3.903895e+11\n",
       "3  415479  1.922639e+12   1.373063e+12\n",
       "4  415536  1.267507e+12   1.050396e+12"
      ]
     },
     "execution_count": 46,
     "metadata": {},
     "output_type": "execute_result"
    }
   ],
   "source": [
    "df_tt_umum_17 = tempat_tidur(df_umum_17)\n",
    "df_inap_umum_17 = rawat_inap(df_umum_17)\n",
    "df_sdm_umum_17 = sdm(df_umum_17)\n",
    "df_bopo_umum_17 = bopo(df_umum_17)\n",
    "df_jalan_umum_17 = rawat_jalan(df_umum_17)\n",
    "df_bopo_umum_17.head()"
   ]
  },
  {
   "cell_type": "code",
   "execution_count": 47,
   "metadata": {
    "ExecuteTime": {
     "end_time": "2021-10-14T08:45:10.220014Z",
     "start_time": "2021-10-14T08:45:10.206054Z"
    }
   },
   "outputs": [],
   "source": [
    "# #Export ke Excel\n",
    "# df_eks_17.to_excel(\"df_eks_17.xlsx\") \n",
    "# df_jiwa_17.to_excel(\"df_jiwa_17.xlsx\") \n",
    "# df_paru_17.to_excel(\"df_paru_17.xlsx\") \n",
    "# df_lain_17.to_excel(\"df_lain_17.xlsx\") \n",
    "# df_umum_17.to_excel(\"df_umum_17.xlsx\") "
   ]
  },
  {
   "cell_type": "markdown",
   "metadata": {},
   "source": [
    "# TA 2018"
   ]
  },
  {
   "cell_type": "code",
   "execution_count": 48,
   "metadata": {
    "ExecuteTime": {
     "end_time": "2021-10-14T08:45:10.235244Z",
     "start_time": "2021-10-14T08:45:10.222010Z"
    }
   },
   "outputs": [],
   "source": [
    "#Memetakan Data\n",
    "df_eks_18 = klaster_eks(dea_2018)\n",
    "df_jiwa_18 = klaster_jiwa(dea_2018)\n",
    "df_paru_18 = klaster_paru(dea_2018)\n",
    "df_lain_18 = klaster_lain(dea_2018)\n",
    "df_umum_18 = klaster_umum(dea_2018)"
   ]
  },
  {
   "cell_type": "markdown",
   "metadata": {},
   "source": [
    "## Eks 2018"
   ]
  },
  {
   "cell_type": "code",
   "execution_count": 49,
   "metadata": {
    "ExecuteTime": {
     "end_time": "2021-10-14T08:45:10.267162Z",
     "start_time": "2021-10-14T08:45:10.237240Z"
    }
   },
   "outputs": [
    {
     "data": {
      "text/html": [
       "<div>\n",
       "<style scoped>\n",
       "    .dataframe tbody tr th:only-of-type {\n",
       "        vertical-align: middle;\n",
       "    }\n",
       "\n",
       "    .dataframe tbody tr th {\n",
       "        vertical-align: top;\n",
       "    }\n",
       "\n",
       "    .dataframe thead th {\n",
       "        text-align: right;\n",
       "    }\n",
       "</style>\n",
       "<table border=\"1\" class=\"dataframe\">\n",
       "  <thead>\n",
       "    <tr style=\"text-align: right;\">\n",
       "      <th></th>\n",
       "      <th>DMU</th>\n",
       "      <th>(I)SDM_medis_total</th>\n",
       "      <th>(I)SDM_non_medis_total</th>\n",
       "      <th>(I)Jumlah_tempat_tidur</th>\n",
       "      <th>(O)BOR_persen</th>\n",
       "      <th>(O)ALOS_hari</th>\n",
       "      <th>(O)BTO_kali</th>\n",
       "      <th>(O)TOI_hari</th>\n",
       "    </tr>\n",
       "  </thead>\n",
       "  <tbody>\n",
       "    <tr>\n",
       "      <th>0</th>\n",
       "      <td>258462</td>\n",
       "      <td>190</td>\n",
       "      <td>300</td>\n",
       "      <td>150</td>\n",
       "      <td>44.5000</td>\n",
       "      <td>4.000</td>\n",
       "      <td>9.50</td>\n",
       "      <td>5.2500</td>\n",
       "    </tr>\n",
       "    <tr>\n",
       "      <th>1</th>\n",
       "      <td>415520</td>\n",
       "      <td>327</td>\n",
       "      <td>390</td>\n",
       "      <td>200</td>\n",
       "      <td>26.0000</td>\n",
       "      <td>4.000</td>\n",
       "      <td>2.75</td>\n",
       "      <td>9.5000</td>\n",
       "    </tr>\n",
       "    <tr>\n",
       "      <th>2</th>\n",
       "      <td>415630</td>\n",
       "      <td>85</td>\n",
       "      <td>228</td>\n",
       "      <td>184</td>\n",
       "      <td>16.5925</td>\n",
       "      <td>21.155</td>\n",
       "      <td>0.58</td>\n",
       "      <td>46.2525</td>\n",
       "    </tr>\n",
       "  </tbody>\n",
       "</table>\n",
       "</div>"
      ],
      "text/plain": [
       "      DMU  (I)SDM_medis_total  (I)SDM_non_medis_total  (I)Jumlah_tempat_tidur  \\\n",
       "0  258462                 190                     300                     150   \n",
       "1  415520                 327                     390                     200   \n",
       "2  415630                  85                     228                     184   \n",
       "\n",
       "   (O)BOR_persen  (O)ALOS_hari  (O)BTO_kali  (O)TOI_hari  \n",
       "0        44.5000         4.000         9.50       5.2500  \n",
       "1        26.0000         4.000         2.75       9.5000  \n",
       "2        16.5925        21.155         0.58      46.2525  "
      ]
     },
     "execution_count": 49,
     "metadata": {},
     "output_type": "execute_result"
    }
   ],
   "source": [
    "df_tt_eks_18 = tempat_tidur(df_eks_18)\n",
    "df_inap_eks_18 = rawat_inap(df_eks_18)\n",
    "df_sdm_eks_18 = sdm(df_eks_18)\n",
    "df_bopo_eks_18 = bopo(df_eks_18)\n",
    "df_jalan_eks_18 = rawat_jalan(df_eks_18)\n",
    "df_tt_eks_18.head()"
   ]
  },
  {
   "cell_type": "markdown",
   "metadata": {},
   "source": [
    "## Jiwa 2018"
   ]
  },
  {
   "cell_type": "code",
   "execution_count": 50,
   "metadata": {
    "ExecuteTime": {
     "end_time": "2021-10-14T08:45:10.283117Z",
     "start_time": "2021-10-14T08:45:10.269155Z"
    }
   },
   "outputs": [
    {
     "data": {
      "text/html": [
       "<div>\n",
       "<style scoped>\n",
       "    .dataframe tbody tr th:only-of-type {\n",
       "        vertical-align: middle;\n",
       "    }\n",
       "\n",
       "    .dataframe tbody tr th {\n",
       "        vertical-align: top;\n",
       "    }\n",
       "\n",
       "    .dataframe thead th {\n",
       "        text-align: right;\n",
       "    }\n",
       "</style>\n",
       "<table border=\"1\" class=\"dataframe\">\n",
       "  <thead>\n",
       "    <tr style=\"text-align: right;\">\n",
       "      <th></th>\n",
       "      <th>DMU</th>\n",
       "      <th>(I)Belanja</th>\n",
       "      <th>(O)Pendapatan</th>\n",
       "    </tr>\n",
       "  </thead>\n",
       "  <tbody>\n",
       "    <tr>\n",
       "      <th>0</th>\n",
       "      <td>415454</td>\n",
       "      <td>105036213391</td>\n",
       "      <td>4.203292e+10</td>\n",
       "    </tr>\n",
       "    <tr>\n",
       "      <th>1</th>\n",
       "      <td>415505</td>\n",
       "      <td>180459415294</td>\n",
       "      <td>9.695665e+10</td>\n",
       "    </tr>\n",
       "    <tr>\n",
       "      <th>2</th>\n",
       "      <td>415542</td>\n",
       "      <td>156161078068</td>\n",
       "      <td>7.385950e+10</td>\n",
       "    </tr>\n",
       "    <tr>\n",
       "      <th>3</th>\n",
       "      <td>415598</td>\n",
       "      <td>138640169958</td>\n",
       "      <td>6.038284e+10</td>\n",
       "    </tr>\n",
       "    <tr>\n",
       "      <th>4</th>\n",
       "      <td>415670</td>\n",
       "      <td>65015876896</td>\n",
       "      <td>2.052469e+10</td>\n",
       "    </tr>\n",
       "  </tbody>\n",
       "</table>\n",
       "</div>"
      ],
      "text/plain": [
       "      DMU    (I)Belanja  (O)Pendapatan\n",
       "0  415454  105036213391   4.203292e+10\n",
       "1  415505  180459415294   9.695665e+10\n",
       "2  415542  156161078068   7.385950e+10\n",
       "3  415598  138640169958   6.038284e+10\n",
       "4  415670   65015876896   2.052469e+10"
      ]
     },
     "execution_count": 50,
     "metadata": {},
     "output_type": "execute_result"
    }
   ],
   "source": [
    "df_tt_jiwa_18 = tempat_tidur(df_jiwa_18)\n",
    "df_inap_jiwa_18 = rawat_inap(df_jiwa_18)\n",
    "df_sdm_jiwa_18 = sdm(df_jiwa_18)\n",
    "df_bopo_jiwa_18 = bopo(df_jiwa_18)\n",
    "df_jalan_jiwa_18 = rawat_jalan(df_jiwa_18)\n",
    "df_bopo_jiwa_18.head()"
   ]
  },
  {
   "cell_type": "markdown",
   "metadata": {},
   "source": [
    "## Paru 2018"
   ]
  },
  {
   "cell_type": "code",
   "execution_count": 51,
   "metadata": {
    "ExecuteTime": {
     "end_time": "2021-10-14T08:45:10.299073Z",
     "start_time": "2021-10-14T08:45:10.285111Z"
    }
   },
   "outputs": [
    {
     "data": {
      "text/html": [
       "<div>\n",
       "<style scoped>\n",
       "    .dataframe tbody tr th:only-of-type {\n",
       "        vertical-align: middle;\n",
       "    }\n",
       "\n",
       "    .dataframe tbody tr th {\n",
       "        vertical-align: top;\n",
       "    }\n",
       "\n",
       "    .dataframe thead th {\n",
       "        text-align: right;\n",
       "    }\n",
       "</style>\n",
       "<table border=\"1\" class=\"dataframe\">\n",
       "  <thead>\n",
       "    <tr style=\"text-align: right;\">\n",
       "      <th></th>\n",
       "      <th>DMU</th>\n",
       "      <th>(I)Belanja</th>\n",
       "      <th>(O)Pendapatan</th>\n",
       "    </tr>\n",
       "  </thead>\n",
       "  <tbody>\n",
       "    <tr>\n",
       "      <th>0</th>\n",
       "      <td>415485</td>\n",
       "      <td>101214609580</td>\n",
       "      <td>4.975451e+10</td>\n",
       "    </tr>\n",
       "    <tr>\n",
       "      <th>1</th>\n",
       "      <td>415511</td>\n",
       "      <td>127080929017</td>\n",
       "      <td>5.967911e+10</td>\n",
       "    </tr>\n",
       "    <tr>\n",
       "      <th>2</th>\n",
       "      <td>415551</td>\n",
       "      <td>102017329062</td>\n",
       "      <td>4.037295e+10</td>\n",
       "    </tr>\n",
       "  </tbody>\n",
       "</table>\n",
       "</div>"
      ],
      "text/plain": [
       "      DMU    (I)Belanja  (O)Pendapatan\n",
       "0  415485  101214609580   4.975451e+10\n",
       "1  415511  127080929017   5.967911e+10\n",
       "2  415551  102017329062   4.037295e+10"
      ]
     },
     "execution_count": 51,
     "metadata": {},
     "output_type": "execute_result"
    }
   ],
   "source": [
    "df_tt_paru_18 = tempat_tidur(df_paru_18)\n",
    "df_inap_paru_18 = rawat_inap(df_paru_18)\n",
    "df_sdm_paru_18 = sdm(df_paru_18)\n",
    "df_bopo_paru_18 = bopo(df_paru_18)\n",
    "df_jalan_paru_18 = rawat_jalan(df_paru_18)\n",
    "df_bopo_paru_18.head()"
   ]
  },
  {
   "cell_type": "markdown",
   "metadata": {},
   "source": [
    "## Khusus Lain 2018"
   ]
  },
  {
   "cell_type": "code",
   "execution_count": 52,
   "metadata": {
    "ExecuteTime": {
     "end_time": "2021-10-14T08:45:10.315032Z",
     "start_time": "2021-10-14T08:45:10.301071Z"
    }
   },
   "outputs": [
    {
     "data": {
      "text/html": [
       "<div>\n",
       "<style scoped>\n",
       "    .dataframe tbody tr th:only-of-type {\n",
       "        vertical-align: middle;\n",
       "    }\n",
       "\n",
       "    .dataframe tbody tr th {\n",
       "        vertical-align: top;\n",
       "    }\n",
       "\n",
       "    .dataframe thead th {\n",
       "        text-align: right;\n",
       "    }\n",
       "</style>\n",
       "<table border=\"1\" class=\"dataframe\">\n",
       "  <thead>\n",
       "    <tr style=\"text-align: right;\">\n",
       "      <th></th>\n",
       "      <th>DMU</th>\n",
       "      <th>(I)Belanja</th>\n",
       "      <th>(O)Pendapatan</th>\n",
       "    </tr>\n",
       "  </thead>\n",
       "  <tbody>\n",
       "    <tr>\n",
       "      <th>0</th>\n",
       "      <td>15514</td>\n",
       "      <td>239534123869</td>\n",
       "      <td>2.000905e+11</td>\n",
       "    </tr>\n",
       "    <tr>\n",
       "      <th>1</th>\n",
       "      <td>257847</td>\n",
       "      <td>111441085215</td>\n",
       "      <td>4.922434e+10</td>\n",
       "    </tr>\n",
       "    <tr>\n",
       "      <th>2</th>\n",
       "      <td>415491</td>\n",
       "      <td>226867105757</td>\n",
       "      <td>1.665757e+11</td>\n",
       "    </tr>\n",
       "    <tr>\n",
       "      <th>3</th>\n",
       "      <td>415567</td>\n",
       "      <td>223950411012</td>\n",
       "      <td>1.625580e+11</td>\n",
       "    </tr>\n",
       "    <tr>\n",
       "      <th>4</th>\n",
       "      <td>415706</td>\n",
       "      <td>149233666198</td>\n",
       "      <td>3.884978e+10</td>\n",
       "    </tr>\n",
       "  </tbody>\n",
       "</table>\n",
       "</div>"
      ],
      "text/plain": [
       "      DMU    (I)Belanja  (O)Pendapatan\n",
       "0   15514  239534123869   2.000905e+11\n",
       "1  257847  111441085215   4.922434e+10\n",
       "2  415491  226867105757   1.665757e+11\n",
       "3  415567  223950411012   1.625580e+11\n",
       "4  415706  149233666198   3.884978e+10"
      ]
     },
     "execution_count": 52,
     "metadata": {},
     "output_type": "execute_result"
    }
   ],
   "source": [
    "df_tt_lain_18 = tempat_tidur(df_lain_18)\n",
    "df_inap_lain_18 = rawat_inap(df_lain_18)\n",
    "df_sdm_lain_18 = sdm(df_lain_18)\n",
    "df_bopo_lain_18 = bopo(df_lain_18)\n",
    "df_jalan_lain_18 = rawat_jalan(df_lain_18)\n",
    "df_bopo_lain_18.head()"
   ]
  },
  {
   "cell_type": "markdown",
   "metadata": {},
   "source": [
    "## Umum 2018"
   ]
  },
  {
   "cell_type": "code",
   "execution_count": 53,
   "metadata": {
    "ExecuteTime": {
     "end_time": "2021-10-14T08:45:10.330993Z",
     "start_time": "2021-10-14T08:45:10.317025Z"
    }
   },
   "outputs": [
    {
     "data": {
      "text/html": [
       "<div>\n",
       "<style scoped>\n",
       "    .dataframe tbody tr th:only-of-type {\n",
       "        vertical-align: middle;\n",
       "    }\n",
       "\n",
       "    .dataframe tbody tr th {\n",
       "        vertical-align: top;\n",
       "    }\n",
       "\n",
       "    .dataframe thead th {\n",
       "        text-align: right;\n",
       "    }\n",
       "</style>\n",
       "<table border=\"1\" class=\"dataframe\">\n",
       "  <thead>\n",
       "    <tr style=\"text-align: right;\">\n",
       "      <th></th>\n",
       "      <th>DMU</th>\n",
       "      <th>(I)Belanja</th>\n",
       "      <th>(O)Pendapatan</th>\n",
       "    </tr>\n",
       "  </thead>\n",
       "  <tbody>\n",
       "    <tr>\n",
       "      <th>0</th>\n",
       "      <td>415423</td>\n",
       "      <td>4483942314937</td>\n",
       "      <td>4.065349e+12</td>\n",
       "    </tr>\n",
       "    <tr>\n",
       "      <th>1</th>\n",
       "      <td>415432</td>\n",
       "      <td>684747058106</td>\n",
       "      <td>5.188550e+11</td>\n",
       "    </tr>\n",
       "    <tr>\n",
       "      <th>2</th>\n",
       "      <td>415448</td>\n",
       "      <td>551283935890</td>\n",
       "      <td>4.307535e+11</td>\n",
       "    </tr>\n",
       "    <tr>\n",
       "      <th>3</th>\n",
       "      <td>415479</td>\n",
       "      <td>2111921470548</td>\n",
       "      <td>1.856930e+12</td>\n",
       "    </tr>\n",
       "    <tr>\n",
       "      <th>4</th>\n",
       "      <td>415536</td>\n",
       "      <td>1366835163283</td>\n",
       "      <td>1.081450e+12</td>\n",
       "    </tr>\n",
       "  </tbody>\n",
       "</table>\n",
       "</div>"
      ],
      "text/plain": [
       "      DMU     (I)Belanja  (O)Pendapatan\n",
       "0  415423  4483942314937   4.065349e+12\n",
       "1  415432   684747058106   5.188550e+11\n",
       "2  415448   551283935890   4.307535e+11\n",
       "3  415479  2111921470548   1.856930e+12\n",
       "4  415536  1366835163283   1.081450e+12"
      ]
     },
     "execution_count": 53,
     "metadata": {},
     "output_type": "execute_result"
    }
   ],
   "source": [
    "df_tt_umum_18 = tempat_tidur(df_umum_18)\n",
    "df_inap_umum_18 = rawat_inap(df_umum_18)\n",
    "df_sdm_umum_18 = sdm(df_umum_18)\n",
    "df_bopo_umum_18 = bopo(df_umum_18)\n",
    "df_jalan_umum_18 = rawat_jalan(df_umum_18)\n",
    "df_bopo_umum_18.head()"
   ]
  },
  {
   "cell_type": "code",
   "execution_count": 54,
   "metadata": {
    "ExecuteTime": {
     "end_time": "2021-10-14T08:45:10.346952Z",
     "start_time": "2021-10-14T08:45:10.332987Z"
    }
   },
   "outputs": [],
   "source": [
    "# #Export ke Excel\n",
    "# df_eks_18.to_excel(\"df_eks_18.xlsx\") \n",
    "# df_jiwa_18.to_excel(\"df_jiwa_18.xlsx\") \n",
    "# df_paru_18.to_excel(\"df_paru_18.xlsx\") \n",
    "# df_lain_18.to_excel(\"df_lain_18.xlsx\") \n",
    "# df_umum_18.to_excel(\"df_umum_18.xlsx\")"
   ]
  },
  {
   "cell_type": "markdown",
   "metadata": {},
   "source": [
    "# TA 2019"
   ]
  },
  {
   "cell_type": "code",
   "execution_count": 55,
   "metadata": {
    "ExecuteTime": {
     "end_time": "2021-10-14T08:45:10.361910Z",
     "start_time": "2021-10-14T08:45:10.347948Z"
    }
   },
   "outputs": [],
   "source": [
    "#Memetakan Data\n",
    "df_eks_19 = klaster_eks(dea_2019)\n",
    "df_jiwa_19 = klaster_jiwa(dea_2019)\n",
    "df_paru_19 = klaster_paru(dea_2019)\n",
    "df_lain_19 = klaster_lain(dea_2019)\n",
    "df_umum_19 = klaster_umum(dea_2019)"
   ]
  },
  {
   "cell_type": "markdown",
   "metadata": {},
   "source": [
    "## Eks 2019"
   ]
  },
  {
   "cell_type": "code",
   "execution_count": 56,
   "metadata": {
    "ExecuteTime": {
     "end_time": "2021-10-14T08:45:10.392854Z",
     "start_time": "2021-10-14T08:45:10.363906Z"
    }
   },
   "outputs": [
    {
     "data": {
      "text/html": [
       "<div>\n",
       "<style scoped>\n",
       "    .dataframe tbody tr th:only-of-type {\n",
       "        vertical-align: middle;\n",
       "    }\n",
       "\n",
       "    .dataframe tbody tr th {\n",
       "        vertical-align: top;\n",
       "    }\n",
       "\n",
       "    .dataframe thead th {\n",
       "        text-align: right;\n",
       "    }\n",
       "</style>\n",
       "<table border=\"1\" class=\"dataframe\">\n",
       "  <thead>\n",
       "    <tr style=\"text-align: right;\">\n",
       "      <th></th>\n",
       "      <th>DMU</th>\n",
       "      <th>(I)SDM_medis_total</th>\n",
       "      <th>(I)SDM_non_medis_total</th>\n",
       "      <th>(I)Jumlah_tempat_tidur</th>\n",
       "      <th>(O)BOR_persen</th>\n",
       "      <th>(O)ALOS_hari</th>\n",
       "      <th>(O)BTO_kali</th>\n",
       "      <th>(O)TOI_hari</th>\n",
       "    </tr>\n",
       "  </thead>\n",
       "  <tbody>\n",
       "    <tr>\n",
       "      <th>0</th>\n",
       "      <td>258462</td>\n",
       "      <td>200</td>\n",
       "      <td>311</td>\n",
       "      <td>150</td>\n",
       "      <td>44.745</td>\n",
       "      <td>4.0825</td>\n",
       "      <td>10.5000</td>\n",
       "      <td>4.8325</td>\n",
       "    </tr>\n",
       "    <tr>\n",
       "      <th>1</th>\n",
       "      <td>415520</td>\n",
       "      <td>329</td>\n",
       "      <td>386</td>\n",
       "      <td>200</td>\n",
       "      <td>20.750</td>\n",
       "      <td>4.5000</td>\n",
       "      <td>2.0000</td>\n",
       "      <td>14.2500</td>\n",
       "    </tr>\n",
       "    <tr>\n",
       "      <th>2</th>\n",
       "      <td>415630</td>\n",
       "      <td>141</td>\n",
       "      <td>241</td>\n",
       "      <td>150</td>\n",
       "      <td>11.775</td>\n",
       "      <td>4.3300</td>\n",
       "      <td>0.9375</td>\n",
       "      <td>30.7650</td>\n",
       "    </tr>\n",
       "  </tbody>\n",
       "</table>\n",
       "</div>"
      ],
      "text/plain": [
       "      DMU  (I)SDM_medis_total  (I)SDM_non_medis_total  (I)Jumlah_tempat_tidur  \\\n",
       "0  258462                 200                     311                     150   \n",
       "1  415520                 329                     386                     200   \n",
       "2  415630                 141                     241                     150   \n",
       "\n",
       "   (O)BOR_persen  (O)ALOS_hari  (O)BTO_kali  (O)TOI_hari  \n",
       "0         44.745        4.0825      10.5000       4.8325  \n",
       "1         20.750        4.5000       2.0000      14.2500  \n",
       "2         11.775        4.3300       0.9375      30.7650  "
      ]
     },
     "execution_count": 56,
     "metadata": {},
     "output_type": "execute_result"
    }
   ],
   "source": [
    "df_tt_eks_19 = tempat_tidur(df_eks_19)\n",
    "df_inap_eks_19 = rawat_inap(df_eks_19)\n",
    "df_sdm_eks_19 = sdm(df_eks_19)\n",
    "df_bopo_eks_19 = bopo(df_eks_19)\n",
    "df_jalan_eks_19 = rawat_jalan(df_eks_19)\n",
    "df_tt_eks_19.head()"
   ]
  },
  {
   "cell_type": "markdown",
   "metadata": {},
   "source": [
    "## Jiwa 2019"
   ]
  },
  {
   "cell_type": "code",
   "execution_count": 57,
   "metadata": {
    "ExecuteTime": {
     "end_time": "2021-10-14T08:45:10.407797Z",
     "start_time": "2021-10-14T08:45:10.394822Z"
    }
   },
   "outputs": [
    {
     "data": {
      "text/html": [
       "<div>\n",
       "<style scoped>\n",
       "    .dataframe tbody tr th:only-of-type {\n",
       "        vertical-align: middle;\n",
       "    }\n",
       "\n",
       "    .dataframe tbody tr th {\n",
       "        vertical-align: top;\n",
       "    }\n",
       "\n",
       "    .dataframe thead th {\n",
       "        text-align: right;\n",
       "    }\n",
       "</style>\n",
       "<table border=\"1\" class=\"dataframe\">\n",
       "  <thead>\n",
       "    <tr style=\"text-align: right;\">\n",
       "      <th></th>\n",
       "      <th>DMU</th>\n",
       "      <th>(I)Belanja</th>\n",
       "      <th>(O)Pendapatan</th>\n",
       "    </tr>\n",
       "  </thead>\n",
       "  <tbody>\n",
       "    <tr>\n",
       "      <th>0</th>\n",
       "      <td>415454</td>\n",
       "      <td>111200997730</td>\n",
       "      <td>4.630890e+10</td>\n",
       "    </tr>\n",
       "    <tr>\n",
       "      <th>1</th>\n",
       "      <td>415505</td>\n",
       "      <td>177254650175</td>\n",
       "      <td>8.743564e+10</td>\n",
       "    </tr>\n",
       "    <tr>\n",
       "      <th>2</th>\n",
       "      <td>415542</td>\n",
       "      <td>153932821629</td>\n",
       "      <td>7.426715e+10</td>\n",
       "    </tr>\n",
       "    <tr>\n",
       "      <th>3</th>\n",
       "      <td>415598</td>\n",
       "      <td>133993015286</td>\n",
       "      <td>5.722202e+10</td>\n",
       "    </tr>\n",
       "    <tr>\n",
       "      <th>4</th>\n",
       "      <td>415670</td>\n",
       "      <td>85175604294</td>\n",
       "      <td>2.724583e+10</td>\n",
       "    </tr>\n",
       "  </tbody>\n",
       "</table>\n",
       "</div>"
      ],
      "text/plain": [
       "      DMU    (I)Belanja  (O)Pendapatan\n",
       "0  415454  111200997730   4.630890e+10\n",
       "1  415505  177254650175   8.743564e+10\n",
       "2  415542  153932821629   7.426715e+10\n",
       "3  415598  133993015286   5.722202e+10\n",
       "4  415670   85175604294   2.724583e+10"
      ]
     },
     "execution_count": 57,
     "metadata": {},
     "output_type": "execute_result"
    }
   ],
   "source": [
    "df_tt_jiwa_19 = tempat_tidur(df_jiwa_19)\n",
    "df_inap_jiwa_19 = rawat_inap(df_jiwa_19)\n",
    "df_sdm_jiwa_19 = sdm(df_jiwa_19)\n",
    "df_bopo_jiwa_19 = bopo(df_jiwa_19)\n",
    "df_jalan_jiwa_19 = rawat_jalan(df_jiwa_19)\n",
    "df_bopo_jiwa_19.head()"
   ]
  },
  {
   "cell_type": "markdown",
   "metadata": {},
   "source": [
    "## Paru 2019"
   ]
  },
  {
   "cell_type": "code",
   "execution_count": 58,
   "metadata": {
    "ExecuteTime": {
     "end_time": "2021-10-14T08:45:10.437708Z",
     "start_time": "2021-10-14T08:45:10.410781Z"
    }
   },
   "outputs": [
    {
     "data": {
      "text/html": [
       "<div>\n",
       "<style scoped>\n",
       "    .dataframe tbody tr th:only-of-type {\n",
       "        vertical-align: middle;\n",
       "    }\n",
       "\n",
       "    .dataframe tbody tr th {\n",
       "        vertical-align: top;\n",
       "    }\n",
       "\n",
       "    .dataframe thead th {\n",
       "        text-align: right;\n",
       "    }\n",
       "</style>\n",
       "<table border=\"1\" class=\"dataframe\">\n",
       "  <thead>\n",
       "    <tr style=\"text-align: right;\">\n",
       "      <th></th>\n",
       "      <th>DMU</th>\n",
       "      <th>(I)Belanja</th>\n",
       "      <th>(O)Pendapatan</th>\n",
       "    </tr>\n",
       "  </thead>\n",
       "  <tbody>\n",
       "    <tr>\n",
       "      <th>0</th>\n",
       "      <td>415485</td>\n",
       "      <td>100680532086</td>\n",
       "      <td>7.379245e+10</td>\n",
       "    </tr>\n",
       "    <tr>\n",
       "      <th>1</th>\n",
       "      <td>415511</td>\n",
       "      <td>133145976609</td>\n",
       "      <td>6.968052e+10</td>\n",
       "    </tr>\n",
       "    <tr>\n",
       "      <th>2</th>\n",
       "      <td>415551</td>\n",
       "      <td>105166915355</td>\n",
       "      <td>5.756448e+10</td>\n",
       "    </tr>\n",
       "  </tbody>\n",
       "</table>\n",
       "</div>"
      ],
      "text/plain": [
       "      DMU    (I)Belanja  (O)Pendapatan\n",
       "0  415485  100680532086   7.379245e+10\n",
       "1  415511  133145976609   6.968052e+10\n",
       "2  415551  105166915355   5.756448e+10"
      ]
     },
     "execution_count": 58,
     "metadata": {},
     "output_type": "execute_result"
    }
   ],
   "source": [
    "df_tt_paru_19 = tempat_tidur(df_paru_19)\n",
    "df_inap_paru_19 = rawat_inap(df_paru_19)\n",
    "df_sdm_paru_19 = sdm(df_paru_19)\n",
    "df_bopo_paru_19 = bopo(df_paru_19)\n",
    "df_jalan_paru_19 = rawat_jalan(df_paru_19)\n",
    "df_bopo_paru_19.head()"
   ]
  },
  {
   "cell_type": "markdown",
   "metadata": {},
   "source": [
    "## Khusus Lain 2019"
   ]
  },
  {
   "cell_type": "code",
   "execution_count": 59,
   "metadata": {
    "ExecuteTime": {
     "end_time": "2021-10-14T08:45:10.452669Z",
     "start_time": "2021-10-14T08:45:10.439704Z"
    }
   },
   "outputs": [
    {
     "data": {
      "text/html": [
       "<div>\n",
       "<style scoped>\n",
       "    .dataframe tbody tr th:only-of-type {\n",
       "        vertical-align: middle;\n",
       "    }\n",
       "\n",
       "    .dataframe tbody tr th {\n",
       "        vertical-align: top;\n",
       "    }\n",
       "\n",
       "    .dataframe thead th {\n",
       "        text-align: right;\n",
       "    }\n",
       "</style>\n",
       "<table border=\"1\" class=\"dataframe\">\n",
       "  <thead>\n",
       "    <tr style=\"text-align: right;\">\n",
       "      <th></th>\n",
       "      <th>DMU</th>\n",
       "      <th>(I)Belanja</th>\n",
       "      <th>(O)Pendapatan</th>\n",
       "    </tr>\n",
       "  </thead>\n",
       "  <tbody>\n",
       "    <tr>\n",
       "      <th>0</th>\n",
       "      <td>15514</td>\n",
       "      <td>281356737974</td>\n",
       "      <td>2.027352e+11</td>\n",
       "    </tr>\n",
       "    <tr>\n",
       "      <th>1</th>\n",
       "      <td>257847</td>\n",
       "      <td>135254263783</td>\n",
       "      <td>4.673560e+10</td>\n",
       "    </tr>\n",
       "    <tr>\n",
       "      <th>2</th>\n",
       "      <td>415491</td>\n",
       "      <td>239146299609</td>\n",
       "      <td>1.829553e+11</td>\n",
       "    </tr>\n",
       "    <tr>\n",
       "      <th>3</th>\n",
       "      <td>415567</td>\n",
       "      <td>189948244854</td>\n",
       "      <td>2.070033e+11</td>\n",
       "    </tr>\n",
       "    <tr>\n",
       "      <th>4</th>\n",
       "      <td>415706</td>\n",
       "      <td>162238386984</td>\n",
       "      <td>5.628037e+10</td>\n",
       "    </tr>\n",
       "  </tbody>\n",
       "</table>\n",
       "</div>"
      ],
      "text/plain": [
       "      DMU    (I)Belanja  (O)Pendapatan\n",
       "0   15514  281356737974   2.027352e+11\n",
       "1  257847  135254263783   4.673560e+10\n",
       "2  415491  239146299609   1.829553e+11\n",
       "3  415567  189948244854   2.070033e+11\n",
       "4  415706  162238386984   5.628037e+10"
      ]
     },
     "execution_count": 59,
     "metadata": {},
     "output_type": "execute_result"
    }
   ],
   "source": [
    "df_tt_lain_19 = tempat_tidur(df_lain_19)\n",
    "df_inap_lain_19 = rawat_inap(df_lain_19)\n",
    "df_sdm_lain_19 = sdm(df_lain_19)\n",
    "df_bopo_lain_19 = bopo(df_lain_19)\n",
    "df_jalan_lain_19 = rawat_jalan(df_lain_19)\n",
    "df_bopo_lain_19.head()"
   ]
  },
  {
   "cell_type": "markdown",
   "metadata": {},
   "source": [
    "## Umum 2019"
   ]
  },
  {
   "cell_type": "code",
   "execution_count": 60,
   "metadata": {
    "ExecuteTime": {
     "end_time": "2021-10-14T08:45:10.483585Z",
     "start_time": "2021-10-14T08:45:10.454663Z"
    }
   },
   "outputs": [
    {
     "data": {
      "text/html": [
       "<div>\n",
       "<style scoped>\n",
       "    .dataframe tbody tr th:only-of-type {\n",
       "        vertical-align: middle;\n",
       "    }\n",
       "\n",
       "    .dataframe tbody tr th {\n",
       "        vertical-align: top;\n",
       "    }\n",
       "\n",
       "    .dataframe thead th {\n",
       "        text-align: right;\n",
       "    }\n",
       "</style>\n",
       "<table border=\"1\" class=\"dataframe\">\n",
       "  <thead>\n",
       "    <tr style=\"text-align: right;\">\n",
       "      <th></th>\n",
       "      <th>DMU</th>\n",
       "      <th>(I)Belanja</th>\n",
       "      <th>(O)Pendapatan</th>\n",
       "    </tr>\n",
       "  </thead>\n",
       "  <tbody>\n",
       "    <tr>\n",
       "      <th>0</th>\n",
       "      <td>415423</td>\n",
       "      <td>4732976201114</td>\n",
       "      <td>4.650169e+12</td>\n",
       "    </tr>\n",
       "    <tr>\n",
       "      <th>1</th>\n",
       "      <td>415432</td>\n",
       "      <td>813774969184</td>\n",
       "      <td>6.252223e+11</td>\n",
       "    </tr>\n",
       "    <tr>\n",
       "      <th>2</th>\n",
       "      <td>415448</td>\n",
       "      <td>692417365106</td>\n",
       "      <td>4.673891e+11</td>\n",
       "    </tr>\n",
       "    <tr>\n",
       "      <th>3</th>\n",
       "      <td>415479</td>\n",
       "      <td>2523386574580</td>\n",
       "      <td>2.355905e+12</td>\n",
       "    </tr>\n",
       "    <tr>\n",
       "      <th>4</th>\n",
       "      <td>415536</td>\n",
       "      <td>1414532643748</td>\n",
       "      <td>1.227744e+12</td>\n",
       "    </tr>\n",
       "  </tbody>\n",
       "</table>\n",
       "</div>"
      ],
      "text/plain": [
       "      DMU     (I)Belanja  (O)Pendapatan\n",
       "0  415423  4732976201114   4.650169e+12\n",
       "1  415432   813774969184   6.252223e+11\n",
       "2  415448   692417365106   4.673891e+11\n",
       "3  415479  2523386574580   2.355905e+12\n",
       "4  415536  1414532643748   1.227744e+12"
      ]
     },
     "execution_count": 60,
     "metadata": {},
     "output_type": "execute_result"
    }
   ],
   "source": [
    "df_tt_umum_19 = tempat_tidur(df_umum_19)\n",
    "df_inap_umum_19 = rawat_inap(df_umum_19)\n",
    "df_sdm_umum_19 = sdm(df_umum_19)\n",
    "df_bopo_umum_19 = bopo(df_umum_19)\n",
    "df_jalan_umum_19 = rawat_jalan(df_umum_19)\n",
    "df_bopo_umum_19.head()"
   ]
  },
  {
   "cell_type": "code",
   "execution_count": 61,
   "metadata": {
    "ExecuteTime": {
     "end_time": "2021-10-14T08:45:10.499545Z",
     "start_time": "2021-10-14T08:45:10.485582Z"
    }
   },
   "outputs": [],
   "source": [
    "# #Export ke Excel\n",
    "# df_eks_19.to_excel(\"df_eks_19.xlsx\") \n",
    "# df_jiwa_19.to_excel(\"df_jiwa_19.xlsx\") \n",
    "# df_paru_19.to_excel(\"df_paru_19.xlsx\") \n",
    "# df_lain_19.to_excel(\"df_lain_19.xlsx\") \n",
    "# df_umum_19.to_excel(\"df_umum_19.xlsx\")"
   ]
  },
  {
   "cell_type": "markdown",
   "metadata": {},
   "source": [
    "# TA 2020"
   ]
  },
  {
   "cell_type": "code",
   "execution_count": 62,
   "metadata": {
    "ExecuteTime": {
     "end_time": "2021-10-14T08:45:10.514512Z",
     "start_time": "2021-10-14T08:45:10.501541Z"
    }
   },
   "outputs": [],
   "source": [
    "#Memetakan Data\n",
    "df_eks_20 = klaster_eks(dea_2020)\n",
    "df_jiwa_20 = klaster_jiwa(dea_2020)\n",
    "df_paru_20 = klaster_paru(dea_2020)\n",
    "df_lain_20 = klaster_lain(dea_2020)\n",
    "df_umum_20 = klaster_umum(dea_2020)"
   ]
  },
  {
   "cell_type": "markdown",
   "metadata": {},
   "source": [
    "## Eks 2020"
   ]
  },
  {
   "cell_type": "code",
   "execution_count": 63,
   "metadata": {
    "ExecuteTime": {
     "end_time": "2021-10-14T08:45:10.545566Z",
     "start_time": "2021-10-14T08:45:10.517501Z"
    }
   },
   "outputs": [
    {
     "data": {
      "text/html": [
       "<div>\n",
       "<style scoped>\n",
       "    .dataframe tbody tr th:only-of-type {\n",
       "        vertical-align: middle;\n",
       "    }\n",
       "\n",
       "    .dataframe tbody tr th {\n",
       "        vertical-align: top;\n",
       "    }\n",
       "\n",
       "    .dataframe thead th {\n",
       "        text-align: right;\n",
       "    }\n",
       "</style>\n",
       "<table border=\"1\" class=\"dataframe\">\n",
       "  <thead>\n",
       "    <tr style=\"text-align: right;\">\n",
       "      <th></th>\n",
       "      <th>DMU</th>\n",
       "      <th>(I)SDM_medis_total</th>\n",
       "      <th>(I)SDM_non_medis_total</th>\n",
       "      <th>(I)Jumlah_tempat_tidur</th>\n",
       "      <th>(O)BOR_persen</th>\n",
       "      <th>(O)ALOS_hari</th>\n",
       "      <th>(O)BTO_kali</th>\n",
       "      <th>(O)TOI_hari</th>\n",
       "    </tr>\n",
       "  </thead>\n",
       "  <tbody>\n",
       "    <tr>\n",
       "      <th>0</th>\n",
       "      <td>258462</td>\n",
       "      <td>211</td>\n",
       "      <td>337</td>\n",
       "      <td>200</td>\n",
       "      <td>25.9125</td>\n",
       "      <td>6.250</td>\n",
       "      <td>4.5000</td>\n",
       "      <td>25.8325</td>\n",
       "    </tr>\n",
       "    <tr>\n",
       "      <th>1</th>\n",
       "      <td>415520</td>\n",
       "      <td>326</td>\n",
       "      <td>384</td>\n",
       "      <td>200</td>\n",
       "      <td>16.0000</td>\n",
       "      <td>4.000</td>\n",
       "      <td>1.2500</td>\n",
       "      <td>21.2500</td>\n",
       "    </tr>\n",
       "    <tr>\n",
       "      <th>2</th>\n",
       "      <td>415630</td>\n",
       "      <td>92</td>\n",
       "      <td>264</td>\n",
       "      <td>150</td>\n",
       "      <td>10.7975</td>\n",
       "      <td>3.785</td>\n",
       "      <td>0.8725</td>\n",
       "      <td>33.8975</td>\n",
       "    </tr>\n",
       "  </tbody>\n",
       "</table>\n",
       "</div>"
      ],
      "text/plain": [
       "      DMU  (I)SDM_medis_total  (I)SDM_non_medis_total  (I)Jumlah_tempat_tidur  \\\n",
       "0  258462                 211                     337                     200   \n",
       "1  415520                 326                     384                     200   \n",
       "2  415630                  92                     264                     150   \n",
       "\n",
       "   (O)BOR_persen  (O)ALOS_hari  (O)BTO_kali  (O)TOI_hari  \n",
       "0        25.9125         6.250       4.5000      25.8325  \n",
       "1        16.0000         4.000       1.2500      21.2500  \n",
       "2        10.7975         3.785       0.8725      33.8975  "
      ]
     },
     "execution_count": 63,
     "metadata": {},
     "output_type": "execute_result"
    }
   ],
   "source": [
    "df_tt_eks_20 = tempat_tidur(df_eks_20)\n",
    "df_inap_eks_20 = rawat_inap(df_eks_20)\n",
    "df_sdm_eks_20 = sdm(df_eks_20)\n",
    "df_bopo_eks_20 = bopo(df_eks_20)\n",
    "df_jalan_eks_20 = rawat_jalan(df_eks_20)\n",
    "df_tt_eks_20.head()"
   ]
  },
  {
   "cell_type": "markdown",
   "metadata": {},
   "source": [
    "## Jiwa 2020"
   ]
  },
  {
   "cell_type": "code",
   "execution_count": 64,
   "metadata": {
    "ExecuteTime": {
     "end_time": "2021-10-14T08:45:10.576520Z",
     "start_time": "2021-10-14T08:45:10.549557Z"
    }
   },
   "outputs": [
    {
     "data": {
      "text/html": [
       "<div>\n",
       "<style scoped>\n",
       "    .dataframe tbody tr th:only-of-type {\n",
       "        vertical-align: middle;\n",
       "    }\n",
       "\n",
       "    .dataframe tbody tr th {\n",
       "        vertical-align: top;\n",
       "    }\n",
       "\n",
       "    .dataframe thead th {\n",
       "        text-align: right;\n",
       "    }\n",
       "</style>\n",
       "<table border=\"1\" class=\"dataframe\">\n",
       "  <thead>\n",
       "    <tr style=\"text-align: right;\">\n",
       "      <th></th>\n",
       "      <th>DMU</th>\n",
       "      <th>(I)Belanja</th>\n",
       "      <th>(O)Pendapatan</th>\n",
       "    </tr>\n",
       "  </thead>\n",
       "  <tbody>\n",
       "    <tr>\n",
       "      <th>0</th>\n",
       "      <td>415454</td>\n",
       "      <td>122892356084</td>\n",
       "      <td>56967776933</td>\n",
       "    </tr>\n",
       "    <tr>\n",
       "      <th>1</th>\n",
       "      <td>415505</td>\n",
       "      <td>197206589141</td>\n",
       "      <td>83126929577</td>\n",
       "    </tr>\n",
       "    <tr>\n",
       "      <th>2</th>\n",
       "      <td>415542</td>\n",
       "      <td>160213540362</td>\n",
       "      <td>99003192929</td>\n",
       "    </tr>\n",
       "    <tr>\n",
       "      <th>3</th>\n",
       "      <td>415598</td>\n",
       "      <td>138541840228</td>\n",
       "      <td>61110589539</td>\n",
       "    </tr>\n",
       "    <tr>\n",
       "      <th>4</th>\n",
       "      <td>415670</td>\n",
       "      <td>85059854041</td>\n",
       "      <td>21128994734</td>\n",
       "    </tr>\n",
       "  </tbody>\n",
       "</table>\n",
       "</div>"
      ],
      "text/plain": [
       "      DMU    (I)Belanja  (O)Pendapatan\n",
       "0  415454  122892356084    56967776933\n",
       "1  415505  197206589141    83126929577\n",
       "2  415542  160213540362    99003192929\n",
       "3  415598  138541840228    61110589539\n",
       "4  415670   85059854041    21128994734"
      ]
     },
     "execution_count": 64,
     "metadata": {},
     "output_type": "execute_result"
    }
   ],
   "source": [
    "df_tt_jiwa_20 = tempat_tidur(df_jiwa_20)\n",
    "df_inap_jiwa_20 = rawat_inap(df_jiwa_20)\n",
    "df_sdm_jiwa_20 = sdm(df_jiwa_20)\n",
    "df_bopo_jiwa_20 = bopo(df_jiwa_20)\n",
    "df_jalan_jiwa_20 = rawat_jalan(df_jiwa_20)\n",
    "df_bopo_jiwa_20.head()"
   ]
  },
  {
   "cell_type": "markdown",
   "metadata": {},
   "source": [
    "## Paru 2020"
   ]
  },
  {
   "cell_type": "code",
   "execution_count": 65,
   "metadata": {
    "ExecuteTime": {
     "end_time": "2021-10-14T08:45:10.591478Z",
     "start_time": "2021-10-14T08:45:10.578478Z"
    }
   },
   "outputs": [
    {
     "data": {
      "text/html": [
       "<div>\n",
       "<style scoped>\n",
       "    .dataframe tbody tr th:only-of-type {\n",
       "        vertical-align: middle;\n",
       "    }\n",
       "\n",
       "    .dataframe tbody tr th {\n",
       "        vertical-align: top;\n",
       "    }\n",
       "\n",
       "    .dataframe thead th {\n",
       "        text-align: right;\n",
       "    }\n",
       "</style>\n",
       "<table border=\"1\" class=\"dataframe\">\n",
       "  <thead>\n",
       "    <tr style=\"text-align: right;\">\n",
       "      <th></th>\n",
       "      <th>DMU</th>\n",
       "      <th>(I)Belanja</th>\n",
       "      <th>(O)Pendapatan</th>\n",
       "    </tr>\n",
       "  </thead>\n",
       "  <tbody>\n",
       "    <tr>\n",
       "      <th>0</th>\n",
       "      <td>415485</td>\n",
       "      <td>124476999143</td>\n",
       "      <td>88152391875</td>\n",
       "    </tr>\n",
       "    <tr>\n",
       "      <th>1</th>\n",
       "      <td>415511</td>\n",
       "      <td>153364486523</td>\n",
       "      <td>92185175562</td>\n",
       "    </tr>\n",
       "    <tr>\n",
       "      <th>2</th>\n",
       "      <td>415551</td>\n",
       "      <td>150425766705</td>\n",
       "      <td>73534060479</td>\n",
       "    </tr>\n",
       "  </tbody>\n",
       "</table>\n",
       "</div>"
      ],
      "text/plain": [
       "      DMU    (I)Belanja  (O)Pendapatan\n",
       "0  415485  124476999143    88152391875\n",
       "1  415511  153364486523    92185175562\n",
       "2  415551  150425766705    73534060479"
      ]
     },
     "execution_count": 65,
     "metadata": {},
     "output_type": "execute_result"
    }
   ],
   "source": [
    "df_tt_paru_20 = tempat_tidur(df_paru_20)\n",
    "df_inap_paru_20 = rawat_inap(df_paru_20)\n",
    "df_sdm_paru_20 = sdm(df_paru_20)\n",
    "df_bopo_paru_20 = bopo(df_paru_20)\n",
    "df_jalan_paru_20 = rawat_jalan(df_paru_20)\n",
    "df_bopo_paru_20.head()"
   ]
  },
  {
   "cell_type": "markdown",
   "metadata": {},
   "source": [
    "## Khusus Lain 2020"
   ]
  },
  {
   "cell_type": "code",
   "execution_count": 66,
   "metadata": {
    "ExecuteTime": {
     "end_time": "2021-10-14T08:45:10.607399Z",
     "start_time": "2021-10-14T08:45:10.593438Z"
    }
   },
   "outputs": [
    {
     "data": {
      "text/html": [
       "<div>\n",
       "<style scoped>\n",
       "    .dataframe tbody tr th:only-of-type {\n",
       "        vertical-align: middle;\n",
       "    }\n",
       "\n",
       "    .dataframe tbody tr th {\n",
       "        vertical-align: top;\n",
       "    }\n",
       "\n",
       "    .dataframe thead th {\n",
       "        text-align: right;\n",
       "    }\n",
       "</style>\n",
       "<table border=\"1\" class=\"dataframe\">\n",
       "  <thead>\n",
       "    <tr style=\"text-align: right;\">\n",
       "      <th></th>\n",
       "      <th>DMU</th>\n",
       "      <th>(I)Belanja</th>\n",
       "      <th>(O)Pendapatan</th>\n",
       "    </tr>\n",
       "  </thead>\n",
       "  <tbody>\n",
       "    <tr>\n",
       "      <th>0</th>\n",
       "      <td>15514</td>\n",
       "      <td>338898884632</td>\n",
       "      <td>280512704363</td>\n",
       "    </tr>\n",
       "    <tr>\n",
       "      <th>1</th>\n",
       "      <td>257847</td>\n",
       "      <td>109835244465</td>\n",
       "      <td>47171479761</td>\n",
       "    </tr>\n",
       "    <tr>\n",
       "      <th>2</th>\n",
       "      <td>415491</td>\n",
       "      <td>206124518653</td>\n",
       "      <td>158110957093</td>\n",
       "    </tr>\n",
       "    <tr>\n",
       "      <th>3</th>\n",
       "      <td>415567</td>\n",
       "      <td>229335643586</td>\n",
       "      <td>207003296738</td>\n",
       "    </tr>\n",
       "    <tr>\n",
       "      <th>4</th>\n",
       "      <td>415706</td>\n",
       "      <td>12138804309763460</td>\n",
       "      <td>127946067689</td>\n",
       "    </tr>\n",
       "  </tbody>\n",
       "</table>\n",
       "</div>"
      ],
      "text/plain": [
       "      DMU         (I)Belanja  (O)Pendapatan\n",
       "0   15514       338898884632   280512704363\n",
       "1  257847       109835244465    47171479761\n",
       "2  415491       206124518653   158110957093\n",
       "3  415567       229335643586   207003296738\n",
       "4  415706  12138804309763460   127946067689"
      ]
     },
     "execution_count": 66,
     "metadata": {},
     "output_type": "execute_result"
    }
   ],
   "source": [
    "df_tt_lain_20 = tempat_tidur(df_lain_20)\n",
    "df_inap_lain_20 = rawat_inap(df_lain_20)\n",
    "df_sdm_lain_20 = sdm(df_lain_20)\n",
    "df_bopo_lain_20 = bopo(df_lain_20)\n",
    "df_jalan_lain_20 = rawat_jalan(df_lain_20)\n",
    "df_bopo_lain_20.head()"
   ]
  },
  {
   "cell_type": "markdown",
   "metadata": {},
   "source": [
    "## Umum 2020"
   ]
  },
  {
   "cell_type": "code",
   "execution_count": 67,
   "metadata": {
    "ExecuteTime": {
     "end_time": "2021-10-14T08:45:10.623357Z",
     "start_time": "2021-10-14T08:45:10.609395Z"
    }
   },
   "outputs": [
    {
     "data": {
      "text/html": [
       "<div>\n",
       "<style scoped>\n",
       "    .dataframe tbody tr th:only-of-type {\n",
       "        vertical-align: middle;\n",
       "    }\n",
       "\n",
       "    .dataframe tbody tr th {\n",
       "        vertical-align: top;\n",
       "    }\n",
       "\n",
       "    .dataframe thead th {\n",
       "        text-align: right;\n",
       "    }\n",
       "</style>\n",
       "<table border=\"1\" class=\"dataframe\">\n",
       "  <thead>\n",
       "    <tr style=\"text-align: right;\">\n",
       "      <th></th>\n",
       "      <th>DMU</th>\n",
       "      <th>(I)Belanja</th>\n",
       "      <th>(O)Pendapatan</th>\n",
       "    </tr>\n",
       "  </thead>\n",
       "  <tbody>\n",
       "    <tr>\n",
       "      <th>0</th>\n",
       "      <td>415423</td>\n",
       "      <td>4613567912104</td>\n",
       "      <td>4375280607138</td>\n",
       "    </tr>\n",
       "    <tr>\n",
       "      <th>1</th>\n",
       "      <td>415432</td>\n",
       "      <td>1344478499188</td>\n",
       "      <td>1155591635823</td>\n",
       "    </tr>\n",
       "    <tr>\n",
       "      <th>2</th>\n",
       "      <td>415448</td>\n",
       "      <td>721135066740</td>\n",
       "      <td>542836214595</td>\n",
       "    </tr>\n",
       "    <tr>\n",
       "      <th>3</th>\n",
       "      <td>415479</td>\n",
       "      <td>2203086528683</td>\n",
       "      <td>2319088095658</td>\n",
       "    </tr>\n",
       "    <tr>\n",
       "      <th>4</th>\n",
       "      <td>415536</td>\n",
       "      <td>1401251758511</td>\n",
       "      <td>1395473558247</td>\n",
       "    </tr>\n",
       "  </tbody>\n",
       "</table>\n",
       "</div>"
      ],
      "text/plain": [
       "      DMU     (I)Belanja  (O)Pendapatan\n",
       "0  415423  4613567912104  4375280607138\n",
       "1  415432  1344478499188  1155591635823\n",
       "2  415448   721135066740   542836214595\n",
       "3  415479  2203086528683  2319088095658\n",
       "4  415536  1401251758511  1395473558247"
      ]
     },
     "execution_count": 67,
     "metadata": {},
     "output_type": "execute_result"
    }
   ],
   "source": [
    "df_tt_umum_20 = tempat_tidur(df_umum_20)\n",
    "df_inap_umum_20 = rawat_inap(df_umum_20)\n",
    "df_sdm_umum_20 = sdm(df_umum_20)\n",
    "df_bopo_umum_20 = bopo(df_umum_20)\n",
    "df_jalan_umum_20 = rawat_jalan(df_umum_20)\n",
    "df_bopo_umum_20.head()"
   ]
  },
  {
   "cell_type": "code",
   "execution_count": 68,
   "metadata": {
    "ExecuteTime": {
     "end_time": "2021-10-14T08:45:10.639316Z",
     "start_time": "2021-10-14T08:45:10.631336Z"
    }
   },
   "outputs": [],
   "source": [
    "# #Export ke Excel\n",
    "# df_eks_20.to_excel(\"df_eks_20.xlsx\") \n",
    "# df_jiwa_20.to_excel(\"df_jiwa_20.xlsx\") \n",
    "# df_paru_20.to_excel(\"df_paru_20.xlsx\") \n",
    "# df_lain_20.to_excel(\"df_lain_20.xlsx\") \n",
    "# df_umum_20.to_excel(\"df_umum_20.xlsx\")"
   ]
  },
  {
   "cell_type": "markdown",
   "metadata": {},
   "source": [
    "# Export ke Excel"
   ]
  },
  {
   "cell_type": "markdown",
   "metadata": {},
   "source": [
    "## 2016"
   ]
  },
  {
   "cell_type": "code",
   "execution_count": 69,
   "metadata": {
    "ExecuteTime": {
     "end_time": "2021-10-14T08:45:10.654274Z",
     "start_time": "2021-10-14T08:45:10.641309Z"
    }
   },
   "outputs": [],
   "source": [
    "# #Export ke Excel (per klaster)\n",
    "# df_eks_16.to_excel(\"df_eks_16.xlsx\") \n",
    "# df_jiwa_16.to_excel(\"df_jiwa_16.xlsx\") \n",
    "# df_paru_16.to_excel(\"df_paru_16.xlsx\") \n",
    "# df_lain_16.to_excel(\"df_lain_16.xlsx\") \n",
    "# df_umum_16.to_excel(\"df_umum_16.xlsx\")"
   ]
  },
  {
   "cell_type": "markdown",
   "metadata": {},
   "source": [
    "### Eks Khusus"
   ]
  },
  {
   "cell_type": "code",
   "execution_count": 70,
   "metadata": {
    "ExecuteTime": {
     "end_time": "2021-10-14T08:45:11.053212Z",
     "start_time": "2021-10-14T08:45:10.656269Z"
    }
   },
   "outputs": [],
   "source": [
    "df_tt_eks_16.to_excel('df_tt_eks_16.xlsx',index=False)\n",
    "df_inap_eks_16.to_excel('df_inap_eks_16.xlsx',index=False)\n",
    "df_sdm_eks_16.to_excel('df_sdm_eks_16.xlsx',index=False)\n",
    "df_bopo_eks_16.to_excel('df_bopo_eks_16.xlsx',index=False)\n",
    "df_jalan_eks_16.to_excel('df_jalan_eks_16.xlsx',index=False)"
   ]
  },
  {
   "cell_type": "markdown",
   "metadata": {},
   "source": [
    "### Jiwa"
   ]
  },
  {
   "cell_type": "code",
   "execution_count": 71,
   "metadata": {
    "ExecuteTime": {
     "end_time": "2021-10-14T08:45:11.331464Z",
     "start_time": "2021-10-14T08:45:11.056201Z"
    }
   },
   "outputs": [],
   "source": [
    "df_tt_jiwa_16.to_excel('df_tt_jiwa_16.xlsx',index=False)\n",
    "df_inap_jiwa_16.to_excel('df_inap_jiwa_16.xlsx',index=False)\n",
    "df_sdm_jiwa_16.to_excel('df_sdm_jiwa_16.xlsx',index=False)\n",
    "df_bopo_jiwa_16.to_excel('df_bopo_jiwa_16.xlsx',index=False)\n",
    "df_jalan_jiwa_16.to_excel('df_jalan_jiwa_16.xlsx',index=False)"
   ]
  },
  {
   "cell_type": "markdown",
   "metadata": {},
   "source": [
    "### Paru"
   ]
  },
  {
   "cell_type": "code",
   "execution_count": 72,
   "metadata": {
    "ExecuteTime": {
     "end_time": "2021-10-14T08:45:11.546402Z",
     "start_time": "2021-10-14T08:45:11.332461Z"
    }
   },
   "outputs": [],
   "source": [
    "df_tt_paru_16.to_excel('df_tt_paru_16.xlsx',index=False)\n",
    "df_inap_paru_16.to_excel('df_inap_paru_16.xlsx',index=False)\n",
    "df_sdm_paru_16.to_excel('df_sdm_paru_16.xlsx',index=False)\n",
    "df_bopo_paru_16.to_excel('df_bopo_paru_16.xlsx',index=False)\n",
    "df_jalan_paru_16.to_excel('df_jalan_paru_16.xlsx',index=False)"
   ]
  },
  {
   "cell_type": "markdown",
   "metadata": {},
   "source": [
    "### Khusus Lain"
   ]
  },
  {
   "cell_type": "code",
   "execution_count": 73,
   "metadata": {
    "ExecuteTime": {
     "end_time": "2021-10-14T08:45:11.780780Z",
     "start_time": "2021-10-14T08:45:11.548395Z"
    }
   },
   "outputs": [],
   "source": [
    "df_tt_lain_16.to_excel('df_tt_lain_16.xlsx',index=False)\n",
    "df_inap_lain_16.to_excel('df_inap_lain_16.xlsx',index=False)\n",
    "df_sdm_lain_16.to_excel('df_sdm_lain_16.xlsx',index=False)\n",
    "df_bopo_lain_16.to_excel('df_bopo_lain_16.xlsx',index=False)\n",
    "df_jalan_lain_16.to_excel('df_jalan_lain_16.xlsx',index=False)"
   ]
  },
  {
   "cell_type": "markdown",
   "metadata": {},
   "source": [
    "### Umum"
   ]
  },
  {
   "cell_type": "code",
   "execution_count": 74,
   "metadata": {
    "ExecuteTime": {
     "end_time": "2021-10-14T08:45:12.003185Z",
     "start_time": "2021-10-14T08:45:11.782788Z"
    }
   },
   "outputs": [],
   "source": [
    "df_tt_umum_16.to_excel('df_tt_umum_16.xlsx',index=False)\n",
    "df_inap_umum_16.to_excel('df_inap_umum_16.xlsx',index=False)\n",
    "df_sdm_umum_16.to_excel('df_sdm_umum_16.xlsx',index=False)\n",
    "df_bopo_umum_16.to_excel('df_bopo_umum_16.xlsx',index=False)\n",
    "df_jalan_umum_16.to_excel('df_jalan_umum_16.xlsx',index=False)"
   ]
  },
  {
   "cell_type": "markdown",
   "metadata": {},
   "source": [
    "## 2017"
   ]
  },
  {
   "cell_type": "markdown",
   "metadata": {},
   "source": [
    "### Eks Khusus"
   ]
  },
  {
   "cell_type": "code",
   "execution_count": 75,
   "metadata": {
    "ExecuteTime": {
     "end_time": "2021-10-14T08:45:12.205186Z",
     "start_time": "2021-10-14T08:45:12.005180Z"
    }
   },
   "outputs": [],
   "source": [
    "df_tt_eks_17.to_excel('df_tt_eks_17.xlsx',index=False)\n",
    "df_inap_eks_17.to_excel('df_inap_eks_17.xlsx',index=False)\n",
    "df_sdm_eks_17.to_excel('df_sdm_eks_17.xlsx',index=False)\n",
    "df_bopo_eks_17.to_excel('df_bopo_eks_17.xlsx',index=False)\n",
    "df_jalan_eks_17.to_excel('df_jalan_eks_17.xlsx',index=False)"
   ]
  },
  {
   "cell_type": "markdown",
   "metadata": {},
   "source": [
    "### Jiwa"
   ]
  },
  {
   "cell_type": "code",
   "execution_count": 76,
   "metadata": {
    "ExecuteTime": {
     "end_time": "2021-10-14T08:45:12.438089Z",
     "start_time": "2021-10-14T08:45:12.207184Z"
    }
   },
   "outputs": [],
   "source": [
    "df_tt_jiwa_17.to_excel('df_tt_jiwa_17.xlsx',index=False)\n",
    "df_inap_jiwa_17.to_excel('df_inap_jiwa_17.xlsx',index=False)\n",
    "df_sdm_jiwa_17.to_excel('df_sdm_jiwa_17.xlsx',index=False)\n",
    "df_bopo_jiwa_17.to_excel('df_bopo_jiwa_17.xlsx',index=False)\n",
    "df_jalan_jiwa_17.to_excel('df_jalan_jiwa_17.xlsx',index=False)"
   ]
  },
  {
   "cell_type": "markdown",
   "metadata": {},
   "source": [
    "### Paru"
   ]
  },
  {
   "cell_type": "code",
   "execution_count": 77,
   "metadata": {
    "ExecuteTime": {
     "end_time": "2021-10-14T08:45:12.626575Z",
     "start_time": "2021-10-14T08:45:12.439051Z"
    }
   },
   "outputs": [],
   "source": [
    "df_tt_paru_17.to_excel('df_tt_paru_17.xlsx',index=False)\n",
    "df_inap_paru_17.to_excel('df_inap_paru_17.xlsx',index=False)\n",
    "df_sdm_paru_17.to_excel('df_sdm_paru_17.xlsx',index=False)\n",
    "df_bopo_paru_17.to_excel('df_bopo_paru_17.xlsx',index=False)\n",
    "df_jalan_paru_17.to_excel('df_jalan_paru_17.xlsx',index=False)"
   ]
  },
  {
   "cell_type": "markdown",
   "metadata": {},
   "source": [
    "### Khusus Lain"
   ]
  },
  {
   "cell_type": "code",
   "execution_count": 78,
   "metadata": {
    "ExecuteTime": {
     "end_time": "2021-10-14T08:45:12.861919Z",
     "start_time": "2021-10-14T08:45:12.628543Z"
    }
   },
   "outputs": [],
   "source": [
    "df_tt_lain_17.to_excel('df_tt_lain_17.xlsx',index=False)\n",
    "df_inap_lain_17.to_excel('df_inap_lain_17.xlsx',index=False)\n",
    "df_sdm_lain_17.to_excel('df_sdm_lain_17.xlsx',index=False)\n",
    "df_bopo_lain_17.to_excel('df_bopo_lain_17.xlsx',index=False)\n",
    "df_jalan_lain_17.to_excel('df_jalan_lain_17.xlsx',index=False)"
   ]
  },
  {
   "cell_type": "markdown",
   "metadata": {},
   "source": [
    "### Umum"
   ]
  },
  {
   "cell_type": "code",
   "execution_count": 79,
   "metadata": {
    "ExecuteTime": {
     "end_time": "2021-10-14T08:45:13.094298Z",
     "start_time": "2021-10-14T08:45:12.862918Z"
    }
   },
   "outputs": [],
   "source": [
    "df_tt_umum_17.to_excel('df_tt_umum_17.xlsx',index=False)\n",
    "df_inap_umum_17.to_excel('df_inap_umum_17.xlsx',index=False)\n",
    "df_sdm_umum_17.to_excel('df_sdm_umum_17.xlsx',index=False)\n",
    "df_bopo_umum_17.to_excel('df_bopo_umum_17.xlsx',index=False)\n",
    "df_jalan_umum_17.to_excel('df_jalan_umum_17.xlsx',index=False)"
   ]
  },
  {
   "cell_type": "markdown",
   "metadata": {},
   "source": [
    "## 2018"
   ]
  },
  {
   "cell_type": "markdown",
   "metadata": {},
   "source": [
    "### Eks Khusus"
   ]
  },
  {
   "cell_type": "code",
   "execution_count": 80,
   "metadata": {
    "ExecuteTime": {
     "end_time": "2021-10-14T08:45:13.312780Z",
     "start_time": "2021-10-14T08:45:13.095295Z"
    }
   },
   "outputs": [],
   "source": [
    "df_tt_eks_18.to_excel('df_tt_eks_18.xlsx',index=False)\n",
    "df_inap_eks_18.to_excel('df_inap_eks_18.xlsx',index=False)\n",
    "df_sdm_eks_18.to_excel('df_sdm_eks_18.xlsx',index=False)\n",
    "df_bopo_eks_18.to_excel('df_bopo_eks_18.xlsx',index=False)\n",
    "df_jalan_eks_18.to_excel('df_jalan_eks_18.xlsx',index=False)"
   ]
  },
  {
   "cell_type": "markdown",
   "metadata": {},
   "source": [
    "### Jiwa"
   ]
  },
  {
   "cell_type": "code",
   "execution_count": 81,
   "metadata": {
    "ExecuteTime": {
     "end_time": "2021-10-14T08:45:13.562407Z",
     "start_time": "2021-10-14T08:45:13.314777Z"
    }
   },
   "outputs": [],
   "source": [
    "df_tt_jiwa_18.to_excel('df_tt_jiwa_18.xlsx',index=False)\n",
    "df_inap_jiwa_18.to_excel('df_inap_jiwa_18.xlsx',index=False)\n",
    "df_sdm_jiwa_18.to_excel('df_sdm_jiwa_18.xlsx',index=False)\n",
    "df_bopo_jiwa_18.to_excel('df_bopo_jiwa_18.xlsx',index=False)\n",
    "df_jalan_jiwa_18.to_excel('df_jalan_jiwa_18.xlsx',index=False)"
   ]
  },
  {
   "cell_type": "markdown",
   "metadata": {},
   "source": [
    "### Paru"
   ]
  },
  {
   "cell_type": "code",
   "execution_count": 82,
   "metadata": {
    "ExecuteTime": {
     "end_time": "2021-10-14T08:45:13.761933Z",
     "start_time": "2021-10-14T08:45:13.564402Z"
    }
   },
   "outputs": [],
   "source": [
    "df_tt_paru_18.to_excel('df_tt_paru_18.xlsx',index=False)\n",
    "df_inap_paru_18.to_excel('df_inap_paru_18.xlsx',index=False)\n",
    "df_sdm_paru_18.to_excel('df_sdm_paru_18.xlsx',index=False)\n",
    "df_bopo_paru_18.to_excel('df_bopo_paru_18.xlsx',index=False)\n",
    "df_jalan_paru_18.to_excel('df_jalan_paru_18.xlsx',index=False)"
   ]
  },
  {
   "cell_type": "markdown",
   "metadata": {},
   "source": [
    "### Khusus Lain"
   ]
  },
  {
   "cell_type": "code",
   "execution_count": 83,
   "metadata": {
    "ExecuteTime": {
     "end_time": "2021-10-14T08:45:13.934455Z",
     "start_time": "2021-10-14T08:45:13.762873Z"
    }
   },
   "outputs": [],
   "source": [
    "df_tt_lain_18.to_excel('df_tt_lain_18.xlsx',index=False)\n",
    "df_inap_lain_18.to_excel('df_inap_lain_18.xlsx',index=False)\n",
    "df_sdm_lain_18.to_excel('df_sdm_lain_18.xlsx',index=False)\n",
    "df_bopo_lain_18.to_excel('df_bopo_lain_18.xlsx',index=False)\n",
    "df_jalan_lain_18.to_excel('df_jalan_lain_18.xlsx',index=False)"
   ]
  },
  {
   "cell_type": "markdown",
   "metadata": {},
   "source": [
    "### Umum"
   ]
  },
  {
   "cell_type": "code",
   "execution_count": 84,
   "metadata": {
    "ExecuteTime": {
     "end_time": "2021-10-14T08:45:14.120751Z",
     "start_time": "2021-10-14T08:45:13.936449Z"
    }
   },
   "outputs": [],
   "source": [
    "df_tt_umum_18.to_excel('df_tt_umum_18.xlsx',index=False)\n",
    "df_inap_umum_18.to_excel('df_inap_umum_18.xlsx',index=False)\n",
    "df_sdm_umum_18.to_excel('df_sdm_umum_18.xlsx',index=False)\n",
    "df_bopo_umum_18.to_excel('df_bopo_umum_18.xlsx',index=False)\n",
    "df_jalan_umum_18.to_excel('df_jalan_umum_18.xlsx',index=False)"
   ]
  },
  {
   "cell_type": "markdown",
   "metadata": {},
   "source": [
    "## 2019"
   ]
  },
  {
   "cell_type": "markdown",
   "metadata": {},
   "source": [
    "### Eks Khusus"
   ]
  },
  {
   "cell_type": "code",
   "execution_count": 85,
   "metadata": {
    "ExecuteTime": {
     "end_time": "2021-10-14T08:45:14.306292Z",
     "start_time": "2021-10-14T08:45:14.122784Z"
    }
   },
   "outputs": [],
   "source": [
    "df_tt_eks_19.to_excel('df_tt_eks_19.xlsx',index=False)\n",
    "df_inap_eks_19.to_excel('df_inap_eks_19.xlsx',index=False)\n",
    "df_sdm_eks_19.to_excel('df_sdm_eks_19.xlsx',index=False)\n",
    "df_bopo_eks_19.to_excel('df_bopo_eks_19.xlsx',index=False)\n",
    "df_jalan_eks_19.to_excel('df_jalan_eks_19.xlsx',index=False)"
   ]
  },
  {
   "cell_type": "markdown",
   "metadata": {
    "ExecuteTime": {
     "end_time": "2021-10-13T03:44:03.933444Z",
     "start_time": "2021-10-13T03:44:03.925465Z"
    }
   },
   "source": [
    "### Jiwa"
   ]
  },
  {
   "cell_type": "code",
   "execution_count": 86,
   "metadata": {
    "ExecuteTime": {
     "end_time": "2021-10-14T08:45:14.526655Z",
     "start_time": "2021-10-14T08:45:14.308252Z"
    }
   },
   "outputs": [],
   "source": [
    "df_tt_jiwa_19.to_excel('df_tt_jiwa_19.xlsx',index=False)\n",
    "df_inap_jiwa_19.to_excel('df_inap_jiwa_19.xlsx',index=False)\n",
    "df_sdm_jiwa_19.to_excel('df_sdm_jiwa_19.xlsx',index=False)\n",
    "df_bopo_jiwa_19.to_excel('df_bopo_jiwa_19.xlsx',index=False)\n",
    "df_jalan_jiwa_19.to_excel('df_jalan_jiwa_19.xlsx',index=False)"
   ]
  },
  {
   "cell_type": "markdown",
   "metadata": {},
   "source": [
    "### Paru"
   ]
  },
  {
   "cell_type": "code",
   "execution_count": 87,
   "metadata": {
    "ExecuteTime": {
     "end_time": "2021-10-14T08:45:14.789950Z",
     "start_time": "2021-10-14T08:45:14.528651Z"
    }
   },
   "outputs": [],
   "source": [
    "df_tt_paru_19.to_excel('df_tt_paru_19.xlsx',index=False)\n",
    "df_inap_paru_19.to_excel('df_inap_paru_19.xlsx',index=False)\n",
    "df_sdm_paru_19.to_excel('df_sdm_paru_19.xlsx',index=False)\n",
    "df_bopo_paru_19.to_excel('df_bopo_paru_19.xlsx',index=False)\n",
    "df_jalan_paru_19.to_excel('df_jalan_paru_19.xlsx',index=False)"
   ]
  },
  {
   "cell_type": "markdown",
   "metadata": {},
   "source": [
    "### Khusus Lain"
   ]
  },
  {
   "cell_type": "code",
   "execution_count": 88,
   "metadata": {
    "ExecuteTime": {
     "end_time": "2021-10-14T08:45:15.008989Z",
     "start_time": "2021-10-14T08:45:14.790947Z"
    }
   },
   "outputs": [],
   "source": [
    "df_tt_lain_19.to_excel('df_tt_lain_19.xlsx',index=False)\n",
    "df_inap_lain_19.to_excel('df_inap_lain_19.xlsx',index=False)\n",
    "df_sdm_lain_19.to_excel('df_sdm_lain_19.xlsx',index=False)\n",
    "df_bopo_lain_19.to_excel('df_bopo_lain_19.xlsx',index=False)\n",
    "df_jalan_lain_19.to_excel('df_jalan_lain_19.xlsx',index=False)"
   ]
  },
  {
   "cell_type": "markdown",
   "metadata": {},
   "source": [
    "### Umum"
   ]
  },
  {
   "cell_type": "code",
   "execution_count": 89,
   "metadata": {
    "ExecuteTime": {
     "end_time": "2021-10-14T08:45:15.222943Z",
     "start_time": "2021-10-14T08:45:15.010985Z"
    }
   },
   "outputs": [],
   "source": [
    "df_tt_umum_19.to_excel('df_tt_umum_19.xlsx',index=False)\n",
    "df_inap_umum_19.to_excel('df_inap_umum_19.xlsx',index=False)\n",
    "df_sdm_umum_19.to_excel('df_sdm_umum_19.xlsx',index=False)\n",
    "df_bopo_umum_19.to_excel('df_bopo_umum_19.xlsx',index=False)\n",
    "df_jalan_umum_19.to_excel('df_jalan_umum_19.xlsx',index=False)"
   ]
  },
  {
   "cell_type": "markdown",
   "metadata": {},
   "source": [
    "## 2020"
   ]
  },
  {
   "cell_type": "markdown",
   "metadata": {},
   "source": [
    "### Eks Khusus"
   ]
  },
  {
   "cell_type": "code",
   "execution_count": 90,
   "metadata": {
    "ExecuteTime": {
     "end_time": "2021-10-14T08:45:15.424948Z",
     "start_time": "2021-10-14T08:45:15.224937Z"
    }
   },
   "outputs": [],
   "source": [
    "df_tt_eks_20.to_excel('df_tt_eks_20.xlsx',index=False)\n",
    "df_inap_eks_20.to_excel('df_inap_eks_20.xlsx',index=False)\n",
    "df_sdm_eks_20.to_excel('df_sdm_eks_20.xlsx',index=False)\n",
    "df_bopo_eks_20.to_excel('df_bopo_eks_20.xlsx',index=False)\n",
    "df_jalan_eks_20.to_excel('df_jalan_eks_20.xlsx',index=False)"
   ]
  },
  {
   "cell_type": "markdown",
   "metadata": {},
   "source": [
    "### Jiwa"
   ]
  },
  {
   "cell_type": "code",
   "execution_count": 91,
   "metadata": {
    "ExecuteTime": {
     "end_time": "2021-10-14T08:45:15.655838Z",
     "start_time": "2021-10-14T08:45:15.426942Z"
    }
   },
   "outputs": [],
   "source": [
    "df_tt_jiwa_20.to_excel('df_tt_jiwa_20.xlsx',index=False)\n",
    "df_inap_jiwa_20.to_excel('df_inap_jiwa_20.xlsx',index=False)\n",
    "df_sdm_jiwa_20.to_excel('df_sdm_jiwa_20.xlsx',index=False)\n",
    "df_bopo_jiwa_20.to_excel('df_bopo_jiwa_20.xlsx',index=False)\n",
    "df_jalan_jiwa_20.to_excel('df_jalan_jiwa_20.xlsx',index=False)"
   ]
  },
  {
   "cell_type": "markdown",
   "metadata": {},
   "source": [
    "### Paru"
   ]
  },
  {
   "cell_type": "code",
   "execution_count": 92,
   "metadata": {
    "ExecuteTime": {
     "end_time": "2021-10-14T08:45:15.976980Z",
     "start_time": "2021-10-14T08:45:15.657833Z"
    }
   },
   "outputs": [],
   "source": [
    "df_tt_paru_20.to_excel('df_tt_paru_20.xlsx',index=False)\n",
    "df_inap_paru_20.to_excel('df_inap_paru_20.xlsx',index=False)\n",
    "df_sdm_paru_20.to_excel('df_sdm_paru_20.xlsx',index=False)\n",
    "df_bopo_paru_20.to_excel('df_bopo_paru_20.xlsx',index=False)\n",
    "df_jalan_paru_20.to_excel('df_jalan_paru_20.xlsx',index=False)"
   ]
  },
  {
   "cell_type": "markdown",
   "metadata": {},
   "source": [
    "### Khusus Lain"
   ]
  },
  {
   "cell_type": "code",
   "execution_count": 93,
   "metadata": {
    "ExecuteTime": {
     "end_time": "2021-10-14T08:45:16.238281Z",
     "start_time": "2021-10-14T08:45:15.979974Z"
    }
   },
   "outputs": [],
   "source": [
    "df_tt_lain_20.to_excel('df_tt_lain_20.xlsx',index=False)\n",
    "df_inap_lain_20.to_excel('df_inap_lain_20.xlsx',index=False)\n",
    "df_sdm_lain_20.to_excel('df_sdm_lain_20.xlsx',index=False)\n",
    "df_bopo_lain_20.to_excel('df_bopo_lain_20.xlsx',index=False)\n",
    "df_jalan_lain_20.to_excel('df_jalan_lain_20.xlsx',index=False)"
   ]
  },
  {
   "cell_type": "markdown",
   "metadata": {},
   "source": [
    "### Umum"
   ]
  },
  {
   "cell_type": "code",
   "execution_count": 94,
   "metadata": {
    "ExecuteTime": {
     "end_time": "2021-10-14T08:45:16.515681Z",
     "start_time": "2021-10-14T08:45:16.240276Z"
    }
   },
   "outputs": [],
   "source": [
    "df_tt_umum_20.to_excel('df_tt_umum_20.xlsx',index=False)\n",
    "df_inap_umum_20.to_excel('df_inap_umum_20.xlsx',index=False)\n",
    "df_sdm_umum_20.to_excel('df_sdm_umum_20.xlsx',index=False)\n",
    "df_bopo_umum_20.to_excel('df_bopo_umum_20.xlsx',index=False)\n",
    "df_jalan_umum_20.to_excel('df_jalan_umum_20.xlsx',index=False)"
   ]
  }
 ],
 "metadata": {
  "kernelspec": {
   "display_name": "Python 3",
   "language": "python",
   "name": "python3"
  },
  "language_info": {
   "codemirror_mode": {
    "name": "ipython",
    "version": 3
   },
   "file_extension": ".py",
   "mimetype": "text/x-python",
   "name": "python",
   "nbconvert_exporter": "python",
   "pygments_lexer": "ipython3",
   "version": "3.8.8"
  },
  "themify": {
   "theme": "MOF-DAC 3"
  },
  "toc": {
   "base_numbering": 1,
   "nav_menu": {},
   "number_sections": true,
   "sideBar": true,
   "skip_h1_title": false,
   "title_cell": "Table of Contents",
   "title_sidebar": "Contents",
   "toc_cell": false,
   "toc_position": {
    "height": "calc(100% - 180px)",
    "left": "10px",
    "top": "150px",
    "width": "339.2px"
   },
   "toc_section_display": true,
   "toc_window_display": true
  }
 },
 "nbformat": 4,
 "nbformat_minor": 4
}
